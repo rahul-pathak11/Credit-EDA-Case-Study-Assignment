{
 "cells": [
  {
   "cell_type": "markdown",
   "id": "df105812",
   "metadata": {},
   "source": [
    "# Problem Statement- 1"
   ]
  },
  {
   "cell_type": "markdown",
   "id": "1c952ca9",
   "metadata": {},
   "source": [
    "## Introduction"
   ]
  },
  {
   "cell_type": "markdown",
   "id": "86d568a6",
   "metadata": {},
   "source": [
    "This assignment aims to give you an idea of applying EDA in a real business scenario. In this assignment, apart from applying the techniques that you have learnt in the EDA module, you will also develop a basic understanding of risk analytics in banking and financial services and understand how data is used to minimise the risk of losing money while lending to customers.\n"
   ]
  },
  {
   "cell_type": "markdown",
   "id": "27b79b1b",
   "metadata": {},
   "source": [
    "## Business Understanding"
   ]
  },
  {
   "cell_type": "markdown",
   "id": "ac7ae107",
   "metadata": {},
   "source": [
    "The loan providing companies find it hard to give loans to the people due to their insufficient or non-existent credit history. Because of that, some consumers use it to their advantage by becoming a defaulter. Suppose you work for a consumer finance company which specialises in lending various types of loans to urban customers. You have to use EDA to analyse the patterns present in the data. This will ensure that the applicants capable of repaying the loan are not rejected.\n",
    "\n",
    "When the company receives a loan application, the company has to decide for loan approval based on the applicant’s profile. Two types of risks are associated with the bank’s decision:\n",
    "\n",
    "- If the applicant is likely to repay the loan, then not approving the loan results in a loss of business to the company\n",
    "\n",
    "- If the applicant is not likely to repay the loan, i.e. he/she is likely to default, then approving the loan may lead to a financial loss for the company.\n",
    "\n",
    "The data given below contains the information about the loan application at the time of applying for the loan. It contains two types of scenarios:\n",
    "\n",
    "- The client with payment difficulties: he/she had late payment more than X days on at least one of the first Y instalments of the loan in our sample,\n",
    "\n",
    "- All other cases: All other cases when the payment is paid on time.\n",
    "\n",
    "When a client applies for a loan, there are four types of decisions that could be taken by the client/company):\n",
    "\n",
    "1. Approved: The Company has approved loan Application\n",
    "\n",
    "2. Cancelled: The client cancelled the application sometime during approval. Either the client changed her/his mind about the loan or in some cases due to a higher risk of the client, he received worse pricing which he did not want.\n",
    "\n",
    "3. Refused: The company had rejected the loan (because the client does not meet their requirements etc.).\n",
    "\n",
    "4. Unused offer:  Loan has been cancelled by the client but at different stages of the process.\n",
    "\n",
    "In this case study, you will use EDA to understand how consumer attributes and loan attributes influence the tendency to default."
   ]
  },
  {
   "cell_type": "markdown",
   "id": "8b77d04b",
   "metadata": {},
   "source": [
    "## Business Objectives"
   ]
  },
  {
   "cell_type": "markdown",
   "id": "095ce169",
   "metadata": {},
   "source": [
    "This case study aims to identify patterns which indicate if a client has difficulty paying their instalments which may be used for taking actions such as denying the loan, reducing the amount of loan, lending (to risky applicants) at a higher interest rate, etc. This will ensure that the consumers capable of repaying the loan are not rejected. Identification of such applicants using EDA is the aim of this case study.\n",
    "\n",
    " \n",
    "\n",
    "In other words, the company wants to understand the driving factors (or driver variables) behind loan default, i.e. the variables which are strong indicators of default.  The company can utilise this knowledge for its portfolio and risk assessment.\n",
    "\n",
    "To develop your understanding of the domain, you are advised to independently research a little about risk analytics - understanding the types of variables and their significance should be enough."
   ]
  },
  {
   "cell_type": "markdown",
   "id": "b45fe71c",
   "metadata": {},
   "source": [
    "## Data Understanding"
   ]
  },
  {
   "cell_type": "markdown",
   "id": "53fa9e94",
   "metadata": {},
   "source": [
    "The dataset has 3 files as explained below: \n",
    "\n",
    " \n",
    "\n",
    "1. 'application_data.csv'  contains all the information of the client at the time of application. The data is about whether a client has payment difficulties.\n",
    "\n",
    " \n",
    "\n",
    "2. 'previous_application.csv' contains information about the client’s previous loan data. It contains the data on whether the previous application had been Approved, Cancelled, Refused or Unused offer.\n",
    "\n",
    " \n",
    "\n",
    "3. 'columns_description.csv' is data dictionary which describes the meaning of the variables."
   ]
  },
  {
   "cell_type": "markdown",
   "id": "b81424df",
   "metadata": {},
   "source": [
    "## Process Flow: "
   ]
  },
  {
   "cell_type": "markdown",
   "id": "e61b18e2",
   "metadata": {},
   "source": [
    "#### We will take our \"application_data.csv\" dataset into the account first and start working on it as per the process flow below:"
   ]
  },
  {
   "cell_type": "markdown",
   "id": "60855047",
   "metadata": {},
   "source": [
    "1. We will first clean up the \"application_data.csv\" dataset.\n",
    "Note: Cleaning means, we will first remove the duplicate rows and then, we will correct its data types if required. With that, we will try merging the columns to generate a meaningful columns if required and create new meaningful attributes from a column if required. For ex; day, year and month from date column.\n",
    "\n",
    "2. We will drop the columns having null value %ge more than 40%. But, before doing that we will have a check on those columns' list first, so that we can make sure we are not dropping any important column which may affect our analysis.\n",
    "\n",
    "3. We will perform univariate, bivariate and segmented univariate analysis on all the important columns and try to find out how much they are influencing our target variable.\n",
    "\n",
    "Note: The target variable is our \"TARGET\" column in the \"application_data.csv\" dataset which tells if the loans are approved or not. Also, we will make sure Target variable has binary entry only. 1 for Those who are defaulters and 0 for those who are not the defaulters.\n"
   ]
  },
  {
   "cell_type": "markdown",
   "id": "a24cb12b",
   "metadata": {},
   "source": [
    "### Importing all the important libraries"
   ]
  },
  {
   "cell_type": "code",
   "execution_count": 1,
   "id": "9d54b600",
   "metadata": {},
   "outputs": [],
   "source": [
    "import numpy as np\n",
    "import pandas as pd\n",
    "import matplotlib.pyplot as plt\n",
    "import seaborn as sns\n",
    "%matplotlib inline\n",
    "import warnings\n",
    "warnings.filterwarnings('ignore')"
   ]
  },
  {
   "cell_type": "code",
   "execution_count": 2,
   "id": "e6ae3d65",
   "metadata": {},
   "outputs": [
    {
     "data": {
      "text/html": [
       "<div>\n",
       "<style scoped>\n",
       "    .dataframe tbody tr th:only-of-type {\n",
       "        vertical-align: middle;\n",
       "    }\n",
       "\n",
       "    .dataframe tbody tr th {\n",
       "        vertical-align: top;\n",
       "    }\n",
       "\n",
       "    .dataframe thead th {\n",
       "        text-align: right;\n",
       "    }\n",
       "</style>\n",
       "<table border=\"1\" class=\"dataframe\">\n",
       "  <thead>\n",
       "    <tr style=\"text-align: right;\">\n",
       "      <th></th>\n",
       "      <th>SK_ID_CURR</th>\n",
       "      <th>TARGET</th>\n",
       "      <th>NAME_CONTRACT_TYPE</th>\n",
       "      <th>CODE_GENDER</th>\n",
       "      <th>FLAG_OWN_CAR</th>\n",
       "      <th>FLAG_OWN_REALTY</th>\n",
       "      <th>CNT_CHILDREN</th>\n",
       "      <th>AMT_INCOME_TOTAL</th>\n",
       "      <th>AMT_CREDIT</th>\n",
       "      <th>AMT_ANNUITY</th>\n",
       "      <th>AMT_GOODS_PRICE</th>\n",
       "      <th>NAME_TYPE_SUITE</th>\n",
       "      <th>NAME_INCOME_TYPE</th>\n",
       "      <th>NAME_EDUCATION_TYPE</th>\n",
       "      <th>NAME_FAMILY_STATUS</th>\n",
       "      <th>NAME_HOUSING_TYPE</th>\n",
       "      <th>REGION_POPULATION_RELATIVE</th>\n",
       "      <th>DAYS_BIRTH</th>\n",
       "      <th>DAYS_EMPLOYED</th>\n",
       "      <th>DAYS_REGISTRATION</th>\n",
       "      <th>DAYS_ID_PUBLISH</th>\n",
       "      <th>OWN_CAR_AGE</th>\n",
       "      <th>FLAG_MOBIL</th>\n",
       "      <th>FLAG_EMP_PHONE</th>\n",
       "      <th>FLAG_WORK_PHONE</th>\n",
       "      <th>FLAG_CONT_MOBILE</th>\n",
       "      <th>FLAG_PHONE</th>\n",
       "      <th>FLAG_EMAIL</th>\n",
       "      <th>OCCUPATION_TYPE</th>\n",
       "      <th>CNT_FAM_MEMBERS</th>\n",
       "      <th>REGION_RATING_CLIENT</th>\n",
       "      <th>REGION_RATING_CLIENT_W_CITY</th>\n",
       "      <th>WEEKDAY_APPR_PROCESS_START</th>\n",
       "      <th>HOUR_APPR_PROCESS_START</th>\n",
       "      <th>REG_REGION_NOT_LIVE_REGION</th>\n",
       "      <th>REG_REGION_NOT_WORK_REGION</th>\n",
       "      <th>LIVE_REGION_NOT_WORK_REGION</th>\n",
       "      <th>REG_CITY_NOT_LIVE_CITY</th>\n",
       "      <th>REG_CITY_NOT_WORK_CITY</th>\n",
       "      <th>LIVE_CITY_NOT_WORK_CITY</th>\n",
       "      <th>ORGANIZATION_TYPE</th>\n",
       "      <th>EXT_SOURCE_1</th>\n",
       "      <th>EXT_SOURCE_2</th>\n",
       "      <th>EXT_SOURCE_3</th>\n",
       "      <th>APARTMENTS_AVG</th>\n",
       "      <th>BASEMENTAREA_AVG</th>\n",
       "      <th>YEARS_BEGINEXPLUATATION_AVG</th>\n",
       "      <th>YEARS_BUILD_AVG</th>\n",
       "      <th>COMMONAREA_AVG</th>\n",
       "      <th>ELEVATORS_AVG</th>\n",
       "      <th>ENTRANCES_AVG</th>\n",
       "      <th>FLOORSMAX_AVG</th>\n",
       "      <th>FLOORSMIN_AVG</th>\n",
       "      <th>LANDAREA_AVG</th>\n",
       "      <th>LIVINGAPARTMENTS_AVG</th>\n",
       "      <th>LIVINGAREA_AVG</th>\n",
       "      <th>NONLIVINGAPARTMENTS_AVG</th>\n",
       "      <th>NONLIVINGAREA_AVG</th>\n",
       "      <th>APARTMENTS_MODE</th>\n",
       "      <th>BASEMENTAREA_MODE</th>\n",
       "      <th>YEARS_BEGINEXPLUATATION_MODE</th>\n",
       "      <th>YEARS_BUILD_MODE</th>\n",
       "      <th>COMMONAREA_MODE</th>\n",
       "      <th>ELEVATORS_MODE</th>\n",
       "      <th>ENTRANCES_MODE</th>\n",
       "      <th>FLOORSMAX_MODE</th>\n",
       "      <th>FLOORSMIN_MODE</th>\n",
       "      <th>LANDAREA_MODE</th>\n",
       "      <th>LIVINGAPARTMENTS_MODE</th>\n",
       "      <th>LIVINGAREA_MODE</th>\n",
       "      <th>NONLIVINGAPARTMENTS_MODE</th>\n",
       "      <th>NONLIVINGAREA_MODE</th>\n",
       "      <th>APARTMENTS_MEDI</th>\n",
       "      <th>BASEMENTAREA_MEDI</th>\n",
       "      <th>YEARS_BEGINEXPLUATATION_MEDI</th>\n",
       "      <th>YEARS_BUILD_MEDI</th>\n",
       "      <th>COMMONAREA_MEDI</th>\n",
       "      <th>ELEVATORS_MEDI</th>\n",
       "      <th>ENTRANCES_MEDI</th>\n",
       "      <th>FLOORSMAX_MEDI</th>\n",
       "      <th>FLOORSMIN_MEDI</th>\n",
       "      <th>LANDAREA_MEDI</th>\n",
       "      <th>LIVINGAPARTMENTS_MEDI</th>\n",
       "      <th>LIVINGAREA_MEDI</th>\n",
       "      <th>NONLIVINGAPARTMENTS_MEDI</th>\n",
       "      <th>NONLIVINGAREA_MEDI</th>\n",
       "      <th>FONDKAPREMONT_MODE</th>\n",
       "      <th>HOUSETYPE_MODE</th>\n",
       "      <th>TOTALAREA_MODE</th>\n",
       "      <th>WALLSMATERIAL_MODE</th>\n",
       "      <th>EMERGENCYSTATE_MODE</th>\n",
       "      <th>OBS_30_CNT_SOCIAL_CIRCLE</th>\n",
       "      <th>DEF_30_CNT_SOCIAL_CIRCLE</th>\n",
       "      <th>OBS_60_CNT_SOCIAL_CIRCLE</th>\n",
       "      <th>DEF_60_CNT_SOCIAL_CIRCLE</th>\n",
       "      <th>DAYS_LAST_PHONE_CHANGE</th>\n",
       "      <th>FLAG_DOCUMENT_2</th>\n",
       "      <th>FLAG_DOCUMENT_3</th>\n",
       "      <th>FLAG_DOCUMENT_4</th>\n",
       "      <th>FLAG_DOCUMENT_5</th>\n",
       "      <th>FLAG_DOCUMENT_6</th>\n",
       "      <th>FLAG_DOCUMENT_7</th>\n",
       "      <th>FLAG_DOCUMENT_8</th>\n",
       "      <th>FLAG_DOCUMENT_9</th>\n",
       "      <th>FLAG_DOCUMENT_10</th>\n",
       "      <th>FLAG_DOCUMENT_11</th>\n",
       "      <th>FLAG_DOCUMENT_12</th>\n",
       "      <th>FLAG_DOCUMENT_13</th>\n",
       "      <th>FLAG_DOCUMENT_14</th>\n",
       "      <th>FLAG_DOCUMENT_15</th>\n",
       "      <th>FLAG_DOCUMENT_16</th>\n",
       "      <th>FLAG_DOCUMENT_17</th>\n",
       "      <th>FLAG_DOCUMENT_18</th>\n",
       "      <th>FLAG_DOCUMENT_19</th>\n",
       "      <th>FLAG_DOCUMENT_20</th>\n",
       "      <th>FLAG_DOCUMENT_21</th>\n",
       "      <th>AMT_REQ_CREDIT_BUREAU_HOUR</th>\n",
       "      <th>AMT_REQ_CREDIT_BUREAU_DAY</th>\n",
       "      <th>AMT_REQ_CREDIT_BUREAU_WEEK</th>\n",
       "      <th>AMT_REQ_CREDIT_BUREAU_MON</th>\n",
       "      <th>AMT_REQ_CREDIT_BUREAU_QRT</th>\n",
       "      <th>AMT_REQ_CREDIT_BUREAU_YEAR</th>\n",
       "    </tr>\n",
       "  </thead>\n",
       "  <tbody>\n",
       "    <tr>\n",
       "      <th>0</th>\n",
       "      <td>100002</td>\n",
       "      <td>1</td>\n",
       "      <td>Cash loans</td>\n",
       "      <td>M</td>\n",
       "      <td>N</td>\n",
       "      <td>Y</td>\n",
       "      <td>0</td>\n",
       "      <td>202500.0</td>\n",
       "      <td>406597.5</td>\n",
       "      <td>24700.5</td>\n",
       "      <td>351000.0</td>\n",
       "      <td>Unaccompanied</td>\n",
       "      <td>Working</td>\n",
       "      <td>Secondary / secondary special</td>\n",
       "      <td>Single / not married</td>\n",
       "      <td>House / apartment</td>\n",
       "      <td>0.018801</td>\n",
       "      <td>-9461</td>\n",
       "      <td>-637</td>\n",
       "      <td>-3648.0</td>\n",
       "      <td>-2120</td>\n",
       "      <td>NaN</td>\n",
       "      <td>1</td>\n",
       "      <td>1</td>\n",
       "      <td>0</td>\n",
       "      <td>1</td>\n",
       "      <td>1</td>\n",
       "      <td>0</td>\n",
       "      <td>Laborers</td>\n",
       "      <td>1.0</td>\n",
       "      <td>2</td>\n",
       "      <td>2</td>\n",
       "      <td>WEDNESDAY</td>\n",
       "      <td>10</td>\n",
       "      <td>0</td>\n",
       "      <td>0</td>\n",
       "      <td>0</td>\n",
       "      <td>0</td>\n",
       "      <td>0</td>\n",
       "      <td>0</td>\n",
       "      <td>Business Entity Type 3</td>\n",
       "      <td>0.083037</td>\n",
       "      <td>0.262949</td>\n",
       "      <td>0.139376</td>\n",
       "      <td>0.0247</td>\n",
       "      <td>0.0369</td>\n",
       "      <td>0.9722</td>\n",
       "      <td>0.6192</td>\n",
       "      <td>0.0143</td>\n",
       "      <td>0.00</td>\n",
       "      <td>0.0690</td>\n",
       "      <td>0.0833</td>\n",
       "      <td>0.1250</td>\n",
       "      <td>0.0369</td>\n",
       "      <td>0.0202</td>\n",
       "      <td>0.0190</td>\n",
       "      <td>0.0000</td>\n",
       "      <td>0.0000</td>\n",
       "      <td>0.0252</td>\n",
       "      <td>0.0383</td>\n",
       "      <td>0.9722</td>\n",
       "      <td>0.6341</td>\n",
       "      <td>0.0144</td>\n",
       "      <td>0.0000</td>\n",
       "      <td>0.0690</td>\n",
       "      <td>0.0833</td>\n",
       "      <td>0.1250</td>\n",
       "      <td>0.0377</td>\n",
       "      <td>0.022</td>\n",
       "      <td>0.0198</td>\n",
       "      <td>0.0</td>\n",
       "      <td>0.0</td>\n",
       "      <td>0.0250</td>\n",
       "      <td>0.0369</td>\n",
       "      <td>0.9722</td>\n",
       "      <td>0.6243</td>\n",
       "      <td>0.0144</td>\n",
       "      <td>0.00</td>\n",
       "      <td>0.0690</td>\n",
       "      <td>0.0833</td>\n",
       "      <td>0.1250</td>\n",
       "      <td>0.0375</td>\n",
       "      <td>0.0205</td>\n",
       "      <td>0.0193</td>\n",
       "      <td>0.0000</td>\n",
       "      <td>0.00</td>\n",
       "      <td>reg oper account</td>\n",
       "      <td>block of flats</td>\n",
       "      <td>0.0149</td>\n",
       "      <td>Stone, brick</td>\n",
       "      <td>No</td>\n",
       "      <td>2.0</td>\n",
       "      <td>2.0</td>\n",
       "      <td>2.0</td>\n",
       "      <td>2.0</td>\n",
       "      <td>-1134.0</td>\n",
       "      <td>0</td>\n",
       "      <td>1</td>\n",
       "      <td>0</td>\n",
       "      <td>0</td>\n",
       "      <td>0</td>\n",
       "      <td>0</td>\n",
       "      <td>0</td>\n",
       "      <td>0</td>\n",
       "      <td>0</td>\n",
       "      <td>0</td>\n",
       "      <td>0</td>\n",
       "      <td>0</td>\n",
       "      <td>0</td>\n",
       "      <td>0</td>\n",
       "      <td>0</td>\n",
       "      <td>0</td>\n",
       "      <td>0</td>\n",
       "      <td>0</td>\n",
       "      <td>0</td>\n",
       "      <td>0</td>\n",
       "      <td>0.0</td>\n",
       "      <td>0.0</td>\n",
       "      <td>0.0</td>\n",
       "      <td>0.0</td>\n",
       "      <td>0.0</td>\n",
       "      <td>1.0</td>\n",
       "    </tr>\n",
       "    <tr>\n",
       "      <th>1</th>\n",
       "      <td>100003</td>\n",
       "      <td>0</td>\n",
       "      <td>Cash loans</td>\n",
       "      <td>F</td>\n",
       "      <td>N</td>\n",
       "      <td>N</td>\n",
       "      <td>0</td>\n",
       "      <td>270000.0</td>\n",
       "      <td>1293502.5</td>\n",
       "      <td>35698.5</td>\n",
       "      <td>1129500.0</td>\n",
       "      <td>Family</td>\n",
       "      <td>State servant</td>\n",
       "      <td>Higher education</td>\n",
       "      <td>Married</td>\n",
       "      <td>House / apartment</td>\n",
       "      <td>0.003541</td>\n",
       "      <td>-16765</td>\n",
       "      <td>-1188</td>\n",
       "      <td>-1186.0</td>\n",
       "      <td>-291</td>\n",
       "      <td>NaN</td>\n",
       "      <td>1</td>\n",
       "      <td>1</td>\n",
       "      <td>0</td>\n",
       "      <td>1</td>\n",
       "      <td>1</td>\n",
       "      <td>0</td>\n",
       "      <td>Core staff</td>\n",
       "      <td>2.0</td>\n",
       "      <td>1</td>\n",
       "      <td>1</td>\n",
       "      <td>MONDAY</td>\n",
       "      <td>11</td>\n",
       "      <td>0</td>\n",
       "      <td>0</td>\n",
       "      <td>0</td>\n",
       "      <td>0</td>\n",
       "      <td>0</td>\n",
       "      <td>0</td>\n",
       "      <td>School</td>\n",
       "      <td>0.311267</td>\n",
       "      <td>0.622246</td>\n",
       "      <td>NaN</td>\n",
       "      <td>0.0959</td>\n",
       "      <td>0.0529</td>\n",
       "      <td>0.9851</td>\n",
       "      <td>0.7960</td>\n",
       "      <td>0.0605</td>\n",
       "      <td>0.08</td>\n",
       "      <td>0.0345</td>\n",
       "      <td>0.2917</td>\n",
       "      <td>0.3333</td>\n",
       "      <td>0.0130</td>\n",
       "      <td>0.0773</td>\n",
       "      <td>0.0549</td>\n",
       "      <td>0.0039</td>\n",
       "      <td>0.0098</td>\n",
       "      <td>0.0924</td>\n",
       "      <td>0.0538</td>\n",
       "      <td>0.9851</td>\n",
       "      <td>0.8040</td>\n",
       "      <td>0.0497</td>\n",
       "      <td>0.0806</td>\n",
       "      <td>0.0345</td>\n",
       "      <td>0.2917</td>\n",
       "      <td>0.3333</td>\n",
       "      <td>0.0128</td>\n",
       "      <td>0.079</td>\n",
       "      <td>0.0554</td>\n",
       "      <td>0.0</td>\n",
       "      <td>0.0</td>\n",
       "      <td>0.0968</td>\n",
       "      <td>0.0529</td>\n",
       "      <td>0.9851</td>\n",
       "      <td>0.7987</td>\n",
       "      <td>0.0608</td>\n",
       "      <td>0.08</td>\n",
       "      <td>0.0345</td>\n",
       "      <td>0.2917</td>\n",
       "      <td>0.3333</td>\n",
       "      <td>0.0132</td>\n",
       "      <td>0.0787</td>\n",
       "      <td>0.0558</td>\n",
       "      <td>0.0039</td>\n",
       "      <td>0.01</td>\n",
       "      <td>reg oper account</td>\n",
       "      <td>block of flats</td>\n",
       "      <td>0.0714</td>\n",
       "      <td>Block</td>\n",
       "      <td>No</td>\n",
       "      <td>1.0</td>\n",
       "      <td>0.0</td>\n",
       "      <td>1.0</td>\n",
       "      <td>0.0</td>\n",
       "      <td>-828.0</td>\n",
       "      <td>0</td>\n",
       "      <td>1</td>\n",
       "      <td>0</td>\n",
       "      <td>0</td>\n",
       "      <td>0</td>\n",
       "      <td>0</td>\n",
       "      <td>0</td>\n",
       "      <td>0</td>\n",
       "      <td>0</td>\n",
       "      <td>0</td>\n",
       "      <td>0</td>\n",
       "      <td>0</td>\n",
       "      <td>0</td>\n",
       "      <td>0</td>\n",
       "      <td>0</td>\n",
       "      <td>0</td>\n",
       "      <td>0</td>\n",
       "      <td>0</td>\n",
       "      <td>0</td>\n",
       "      <td>0</td>\n",
       "      <td>0.0</td>\n",
       "      <td>0.0</td>\n",
       "      <td>0.0</td>\n",
       "      <td>0.0</td>\n",
       "      <td>0.0</td>\n",
       "      <td>0.0</td>\n",
       "    </tr>\n",
       "    <tr>\n",
       "      <th>2</th>\n",
       "      <td>100004</td>\n",
       "      <td>0</td>\n",
       "      <td>Revolving loans</td>\n",
       "      <td>M</td>\n",
       "      <td>Y</td>\n",
       "      <td>Y</td>\n",
       "      <td>0</td>\n",
       "      <td>67500.0</td>\n",
       "      <td>135000.0</td>\n",
       "      <td>6750.0</td>\n",
       "      <td>135000.0</td>\n",
       "      <td>Unaccompanied</td>\n",
       "      <td>Working</td>\n",
       "      <td>Secondary / secondary special</td>\n",
       "      <td>Single / not married</td>\n",
       "      <td>House / apartment</td>\n",
       "      <td>0.010032</td>\n",
       "      <td>-19046</td>\n",
       "      <td>-225</td>\n",
       "      <td>-4260.0</td>\n",
       "      <td>-2531</td>\n",
       "      <td>26.0</td>\n",
       "      <td>1</td>\n",
       "      <td>1</td>\n",
       "      <td>1</td>\n",
       "      <td>1</td>\n",
       "      <td>1</td>\n",
       "      <td>0</td>\n",
       "      <td>Laborers</td>\n",
       "      <td>1.0</td>\n",
       "      <td>2</td>\n",
       "      <td>2</td>\n",
       "      <td>MONDAY</td>\n",
       "      <td>9</td>\n",
       "      <td>0</td>\n",
       "      <td>0</td>\n",
       "      <td>0</td>\n",
       "      <td>0</td>\n",
       "      <td>0</td>\n",
       "      <td>0</td>\n",
       "      <td>Government</td>\n",
       "      <td>NaN</td>\n",
       "      <td>0.555912</td>\n",
       "      <td>0.729567</td>\n",
       "      <td>NaN</td>\n",
       "      <td>NaN</td>\n",
       "      <td>NaN</td>\n",
       "      <td>NaN</td>\n",
       "      <td>NaN</td>\n",
       "      <td>NaN</td>\n",
       "      <td>NaN</td>\n",
       "      <td>NaN</td>\n",
       "      <td>NaN</td>\n",
       "      <td>NaN</td>\n",
       "      <td>NaN</td>\n",
       "      <td>NaN</td>\n",
       "      <td>NaN</td>\n",
       "      <td>NaN</td>\n",
       "      <td>NaN</td>\n",
       "      <td>NaN</td>\n",
       "      <td>NaN</td>\n",
       "      <td>NaN</td>\n",
       "      <td>NaN</td>\n",
       "      <td>NaN</td>\n",
       "      <td>NaN</td>\n",
       "      <td>NaN</td>\n",
       "      <td>NaN</td>\n",
       "      <td>NaN</td>\n",
       "      <td>NaN</td>\n",
       "      <td>NaN</td>\n",
       "      <td>NaN</td>\n",
       "      <td>NaN</td>\n",
       "      <td>NaN</td>\n",
       "      <td>NaN</td>\n",
       "      <td>NaN</td>\n",
       "      <td>NaN</td>\n",
       "      <td>NaN</td>\n",
       "      <td>NaN</td>\n",
       "      <td>NaN</td>\n",
       "      <td>NaN</td>\n",
       "      <td>NaN</td>\n",
       "      <td>NaN</td>\n",
       "      <td>NaN</td>\n",
       "      <td>NaN</td>\n",
       "      <td>NaN</td>\n",
       "      <td>NaN</td>\n",
       "      <td>NaN</td>\n",
       "      <td>NaN</td>\n",
       "      <td>NaN</td>\n",
       "      <td>NaN</td>\n",
       "      <td>NaN</td>\n",
       "      <td>0.0</td>\n",
       "      <td>0.0</td>\n",
       "      <td>0.0</td>\n",
       "      <td>0.0</td>\n",
       "      <td>-815.0</td>\n",
       "      <td>0</td>\n",
       "      <td>0</td>\n",
       "      <td>0</td>\n",
       "      <td>0</td>\n",
       "      <td>0</td>\n",
       "      <td>0</td>\n",
       "      <td>0</td>\n",
       "      <td>0</td>\n",
       "      <td>0</td>\n",
       "      <td>0</td>\n",
       "      <td>0</td>\n",
       "      <td>0</td>\n",
       "      <td>0</td>\n",
       "      <td>0</td>\n",
       "      <td>0</td>\n",
       "      <td>0</td>\n",
       "      <td>0</td>\n",
       "      <td>0</td>\n",
       "      <td>0</td>\n",
       "      <td>0</td>\n",
       "      <td>0.0</td>\n",
       "      <td>0.0</td>\n",
       "      <td>0.0</td>\n",
       "      <td>0.0</td>\n",
       "      <td>0.0</td>\n",
       "      <td>0.0</td>\n",
       "    </tr>\n",
       "    <tr>\n",
       "      <th>3</th>\n",
       "      <td>100006</td>\n",
       "      <td>0</td>\n",
       "      <td>Cash loans</td>\n",
       "      <td>F</td>\n",
       "      <td>N</td>\n",
       "      <td>Y</td>\n",
       "      <td>0</td>\n",
       "      <td>135000.0</td>\n",
       "      <td>312682.5</td>\n",
       "      <td>29686.5</td>\n",
       "      <td>297000.0</td>\n",
       "      <td>Unaccompanied</td>\n",
       "      <td>Working</td>\n",
       "      <td>Secondary / secondary special</td>\n",
       "      <td>Civil marriage</td>\n",
       "      <td>House / apartment</td>\n",
       "      <td>0.008019</td>\n",
       "      <td>-19005</td>\n",
       "      <td>-3039</td>\n",
       "      <td>-9833.0</td>\n",
       "      <td>-2437</td>\n",
       "      <td>NaN</td>\n",
       "      <td>1</td>\n",
       "      <td>1</td>\n",
       "      <td>0</td>\n",
       "      <td>1</td>\n",
       "      <td>0</td>\n",
       "      <td>0</td>\n",
       "      <td>Laborers</td>\n",
       "      <td>2.0</td>\n",
       "      <td>2</td>\n",
       "      <td>2</td>\n",
       "      <td>WEDNESDAY</td>\n",
       "      <td>17</td>\n",
       "      <td>0</td>\n",
       "      <td>0</td>\n",
       "      <td>0</td>\n",
       "      <td>0</td>\n",
       "      <td>0</td>\n",
       "      <td>0</td>\n",
       "      <td>Business Entity Type 3</td>\n",
       "      <td>NaN</td>\n",
       "      <td>0.650442</td>\n",
       "      <td>NaN</td>\n",
       "      <td>NaN</td>\n",
       "      <td>NaN</td>\n",
       "      <td>NaN</td>\n",
       "      <td>NaN</td>\n",
       "      <td>NaN</td>\n",
       "      <td>NaN</td>\n",
       "      <td>NaN</td>\n",
       "      <td>NaN</td>\n",
       "      <td>NaN</td>\n",
       "      <td>NaN</td>\n",
       "      <td>NaN</td>\n",
       "      <td>NaN</td>\n",
       "      <td>NaN</td>\n",
       "      <td>NaN</td>\n",
       "      <td>NaN</td>\n",
       "      <td>NaN</td>\n",
       "      <td>NaN</td>\n",
       "      <td>NaN</td>\n",
       "      <td>NaN</td>\n",
       "      <td>NaN</td>\n",
       "      <td>NaN</td>\n",
       "      <td>NaN</td>\n",
       "      <td>NaN</td>\n",
       "      <td>NaN</td>\n",
       "      <td>NaN</td>\n",
       "      <td>NaN</td>\n",
       "      <td>NaN</td>\n",
       "      <td>NaN</td>\n",
       "      <td>NaN</td>\n",
       "      <td>NaN</td>\n",
       "      <td>NaN</td>\n",
       "      <td>NaN</td>\n",
       "      <td>NaN</td>\n",
       "      <td>NaN</td>\n",
       "      <td>NaN</td>\n",
       "      <td>NaN</td>\n",
       "      <td>NaN</td>\n",
       "      <td>NaN</td>\n",
       "      <td>NaN</td>\n",
       "      <td>NaN</td>\n",
       "      <td>NaN</td>\n",
       "      <td>NaN</td>\n",
       "      <td>NaN</td>\n",
       "      <td>NaN</td>\n",
       "      <td>NaN</td>\n",
       "      <td>NaN</td>\n",
       "      <td>NaN</td>\n",
       "      <td>2.0</td>\n",
       "      <td>0.0</td>\n",
       "      <td>2.0</td>\n",
       "      <td>0.0</td>\n",
       "      <td>-617.0</td>\n",
       "      <td>0</td>\n",
       "      <td>1</td>\n",
       "      <td>0</td>\n",
       "      <td>0</td>\n",
       "      <td>0</td>\n",
       "      <td>0</td>\n",
       "      <td>0</td>\n",
       "      <td>0</td>\n",
       "      <td>0</td>\n",
       "      <td>0</td>\n",
       "      <td>0</td>\n",
       "      <td>0</td>\n",
       "      <td>0</td>\n",
       "      <td>0</td>\n",
       "      <td>0</td>\n",
       "      <td>0</td>\n",
       "      <td>0</td>\n",
       "      <td>0</td>\n",
       "      <td>0</td>\n",
       "      <td>0</td>\n",
       "      <td>NaN</td>\n",
       "      <td>NaN</td>\n",
       "      <td>NaN</td>\n",
       "      <td>NaN</td>\n",
       "      <td>NaN</td>\n",
       "      <td>NaN</td>\n",
       "    </tr>\n",
       "    <tr>\n",
       "      <th>4</th>\n",
       "      <td>100007</td>\n",
       "      <td>0</td>\n",
       "      <td>Cash loans</td>\n",
       "      <td>M</td>\n",
       "      <td>N</td>\n",
       "      <td>Y</td>\n",
       "      <td>0</td>\n",
       "      <td>121500.0</td>\n",
       "      <td>513000.0</td>\n",
       "      <td>21865.5</td>\n",
       "      <td>513000.0</td>\n",
       "      <td>Unaccompanied</td>\n",
       "      <td>Working</td>\n",
       "      <td>Secondary / secondary special</td>\n",
       "      <td>Single / not married</td>\n",
       "      <td>House / apartment</td>\n",
       "      <td>0.028663</td>\n",
       "      <td>-19932</td>\n",
       "      <td>-3038</td>\n",
       "      <td>-4311.0</td>\n",
       "      <td>-3458</td>\n",
       "      <td>NaN</td>\n",
       "      <td>1</td>\n",
       "      <td>1</td>\n",
       "      <td>0</td>\n",
       "      <td>1</td>\n",
       "      <td>0</td>\n",
       "      <td>0</td>\n",
       "      <td>Core staff</td>\n",
       "      <td>1.0</td>\n",
       "      <td>2</td>\n",
       "      <td>2</td>\n",
       "      <td>THURSDAY</td>\n",
       "      <td>11</td>\n",
       "      <td>0</td>\n",
       "      <td>0</td>\n",
       "      <td>0</td>\n",
       "      <td>0</td>\n",
       "      <td>1</td>\n",
       "      <td>1</td>\n",
       "      <td>Religion</td>\n",
       "      <td>NaN</td>\n",
       "      <td>0.322738</td>\n",
       "      <td>NaN</td>\n",
       "      <td>NaN</td>\n",
       "      <td>NaN</td>\n",
       "      <td>NaN</td>\n",
       "      <td>NaN</td>\n",
       "      <td>NaN</td>\n",
       "      <td>NaN</td>\n",
       "      <td>NaN</td>\n",
       "      <td>NaN</td>\n",
       "      <td>NaN</td>\n",
       "      <td>NaN</td>\n",
       "      <td>NaN</td>\n",
       "      <td>NaN</td>\n",
       "      <td>NaN</td>\n",
       "      <td>NaN</td>\n",
       "      <td>NaN</td>\n",
       "      <td>NaN</td>\n",
       "      <td>NaN</td>\n",
       "      <td>NaN</td>\n",
       "      <td>NaN</td>\n",
       "      <td>NaN</td>\n",
       "      <td>NaN</td>\n",
       "      <td>NaN</td>\n",
       "      <td>NaN</td>\n",
       "      <td>NaN</td>\n",
       "      <td>NaN</td>\n",
       "      <td>NaN</td>\n",
       "      <td>NaN</td>\n",
       "      <td>NaN</td>\n",
       "      <td>NaN</td>\n",
       "      <td>NaN</td>\n",
       "      <td>NaN</td>\n",
       "      <td>NaN</td>\n",
       "      <td>NaN</td>\n",
       "      <td>NaN</td>\n",
       "      <td>NaN</td>\n",
       "      <td>NaN</td>\n",
       "      <td>NaN</td>\n",
       "      <td>NaN</td>\n",
       "      <td>NaN</td>\n",
       "      <td>NaN</td>\n",
       "      <td>NaN</td>\n",
       "      <td>NaN</td>\n",
       "      <td>NaN</td>\n",
       "      <td>NaN</td>\n",
       "      <td>NaN</td>\n",
       "      <td>NaN</td>\n",
       "      <td>NaN</td>\n",
       "      <td>0.0</td>\n",
       "      <td>0.0</td>\n",
       "      <td>0.0</td>\n",
       "      <td>0.0</td>\n",
       "      <td>-1106.0</td>\n",
       "      <td>0</td>\n",
       "      <td>0</td>\n",
       "      <td>0</td>\n",
       "      <td>0</td>\n",
       "      <td>0</td>\n",
       "      <td>0</td>\n",
       "      <td>1</td>\n",
       "      <td>0</td>\n",
       "      <td>0</td>\n",
       "      <td>0</td>\n",
       "      <td>0</td>\n",
       "      <td>0</td>\n",
       "      <td>0</td>\n",
       "      <td>0</td>\n",
       "      <td>0</td>\n",
       "      <td>0</td>\n",
       "      <td>0</td>\n",
       "      <td>0</td>\n",
       "      <td>0</td>\n",
       "      <td>0</td>\n",
       "      <td>0.0</td>\n",
       "      <td>0.0</td>\n",
       "      <td>0.0</td>\n",
       "      <td>0.0</td>\n",
       "      <td>0.0</td>\n",
       "      <td>0.0</td>\n",
       "    </tr>\n",
       "  </tbody>\n",
       "</table>\n",
       "</div>"
      ],
      "text/plain": [
       "   SK_ID_CURR  TARGET NAME_CONTRACT_TYPE CODE_GENDER FLAG_OWN_CAR  \\\n",
       "0      100002       1         Cash loans           M            N   \n",
       "1      100003       0         Cash loans           F            N   \n",
       "2      100004       0    Revolving loans           M            Y   \n",
       "3      100006       0         Cash loans           F            N   \n",
       "4      100007       0         Cash loans           M            N   \n",
       "\n",
       "  FLAG_OWN_REALTY  CNT_CHILDREN  AMT_INCOME_TOTAL  AMT_CREDIT  AMT_ANNUITY  \\\n",
       "0               Y             0          202500.0    406597.5      24700.5   \n",
       "1               N             0          270000.0   1293502.5      35698.5   \n",
       "2               Y             0           67500.0    135000.0       6750.0   \n",
       "3               Y             0          135000.0    312682.5      29686.5   \n",
       "4               Y             0          121500.0    513000.0      21865.5   \n",
       "\n",
       "   AMT_GOODS_PRICE NAME_TYPE_SUITE NAME_INCOME_TYPE  \\\n",
       "0         351000.0   Unaccompanied          Working   \n",
       "1        1129500.0          Family    State servant   \n",
       "2         135000.0   Unaccompanied          Working   \n",
       "3         297000.0   Unaccompanied          Working   \n",
       "4         513000.0   Unaccompanied          Working   \n",
       "\n",
       "             NAME_EDUCATION_TYPE    NAME_FAMILY_STATUS  NAME_HOUSING_TYPE  \\\n",
       "0  Secondary / secondary special  Single / not married  House / apartment   \n",
       "1               Higher education               Married  House / apartment   \n",
       "2  Secondary / secondary special  Single / not married  House / apartment   \n",
       "3  Secondary / secondary special        Civil marriage  House / apartment   \n",
       "4  Secondary / secondary special  Single / not married  House / apartment   \n",
       "\n",
       "   REGION_POPULATION_RELATIVE  DAYS_BIRTH  DAYS_EMPLOYED  DAYS_REGISTRATION  \\\n",
       "0                    0.018801       -9461           -637            -3648.0   \n",
       "1                    0.003541      -16765          -1188            -1186.0   \n",
       "2                    0.010032      -19046           -225            -4260.0   \n",
       "3                    0.008019      -19005          -3039            -9833.0   \n",
       "4                    0.028663      -19932          -3038            -4311.0   \n",
       "\n",
       "   DAYS_ID_PUBLISH  OWN_CAR_AGE  FLAG_MOBIL  FLAG_EMP_PHONE  FLAG_WORK_PHONE  \\\n",
       "0            -2120          NaN           1               1                0   \n",
       "1             -291          NaN           1               1                0   \n",
       "2            -2531         26.0           1               1                1   \n",
       "3            -2437          NaN           1               1                0   \n",
       "4            -3458          NaN           1               1                0   \n",
       "\n",
       "   FLAG_CONT_MOBILE  FLAG_PHONE  FLAG_EMAIL OCCUPATION_TYPE  CNT_FAM_MEMBERS  \\\n",
       "0                 1           1           0        Laborers              1.0   \n",
       "1                 1           1           0      Core staff              2.0   \n",
       "2                 1           1           0        Laborers              1.0   \n",
       "3                 1           0           0        Laborers              2.0   \n",
       "4                 1           0           0      Core staff              1.0   \n",
       "\n",
       "   REGION_RATING_CLIENT  REGION_RATING_CLIENT_W_CITY  \\\n",
       "0                     2                            2   \n",
       "1                     1                            1   \n",
       "2                     2                            2   \n",
       "3                     2                            2   \n",
       "4                     2                            2   \n",
       "\n",
       "  WEEKDAY_APPR_PROCESS_START  HOUR_APPR_PROCESS_START  \\\n",
       "0                  WEDNESDAY                       10   \n",
       "1                     MONDAY                       11   \n",
       "2                     MONDAY                        9   \n",
       "3                  WEDNESDAY                       17   \n",
       "4                   THURSDAY                       11   \n",
       "\n",
       "   REG_REGION_NOT_LIVE_REGION  REG_REGION_NOT_WORK_REGION  \\\n",
       "0                           0                           0   \n",
       "1                           0                           0   \n",
       "2                           0                           0   \n",
       "3                           0                           0   \n",
       "4                           0                           0   \n",
       "\n",
       "   LIVE_REGION_NOT_WORK_REGION  REG_CITY_NOT_LIVE_CITY  \\\n",
       "0                            0                       0   \n",
       "1                            0                       0   \n",
       "2                            0                       0   \n",
       "3                            0                       0   \n",
       "4                            0                       0   \n",
       "\n",
       "   REG_CITY_NOT_WORK_CITY  LIVE_CITY_NOT_WORK_CITY       ORGANIZATION_TYPE  \\\n",
       "0                       0                        0  Business Entity Type 3   \n",
       "1                       0                        0                  School   \n",
       "2                       0                        0              Government   \n",
       "3                       0                        0  Business Entity Type 3   \n",
       "4                       1                        1                Religion   \n",
       "\n",
       "   EXT_SOURCE_1  EXT_SOURCE_2  EXT_SOURCE_3  APARTMENTS_AVG  BASEMENTAREA_AVG  \\\n",
       "0      0.083037      0.262949      0.139376          0.0247            0.0369   \n",
       "1      0.311267      0.622246           NaN          0.0959            0.0529   \n",
       "2           NaN      0.555912      0.729567             NaN               NaN   \n",
       "3           NaN      0.650442           NaN             NaN               NaN   \n",
       "4           NaN      0.322738           NaN             NaN               NaN   \n",
       "\n",
       "   YEARS_BEGINEXPLUATATION_AVG  YEARS_BUILD_AVG  COMMONAREA_AVG  \\\n",
       "0                       0.9722           0.6192          0.0143   \n",
       "1                       0.9851           0.7960          0.0605   \n",
       "2                          NaN              NaN             NaN   \n",
       "3                          NaN              NaN             NaN   \n",
       "4                          NaN              NaN             NaN   \n",
       "\n",
       "   ELEVATORS_AVG  ENTRANCES_AVG  FLOORSMAX_AVG  FLOORSMIN_AVG  LANDAREA_AVG  \\\n",
       "0           0.00         0.0690         0.0833         0.1250        0.0369   \n",
       "1           0.08         0.0345         0.2917         0.3333        0.0130   \n",
       "2            NaN            NaN            NaN            NaN           NaN   \n",
       "3            NaN            NaN            NaN            NaN           NaN   \n",
       "4            NaN            NaN            NaN            NaN           NaN   \n",
       "\n",
       "   LIVINGAPARTMENTS_AVG  LIVINGAREA_AVG  NONLIVINGAPARTMENTS_AVG  \\\n",
       "0                0.0202          0.0190                   0.0000   \n",
       "1                0.0773          0.0549                   0.0039   \n",
       "2                   NaN             NaN                      NaN   \n",
       "3                   NaN             NaN                      NaN   \n",
       "4                   NaN             NaN                      NaN   \n",
       "\n",
       "   NONLIVINGAREA_AVG  APARTMENTS_MODE  BASEMENTAREA_MODE  \\\n",
       "0             0.0000           0.0252             0.0383   \n",
       "1             0.0098           0.0924             0.0538   \n",
       "2                NaN              NaN                NaN   \n",
       "3                NaN              NaN                NaN   \n",
       "4                NaN              NaN                NaN   \n",
       "\n",
       "   YEARS_BEGINEXPLUATATION_MODE  YEARS_BUILD_MODE  COMMONAREA_MODE  \\\n",
       "0                        0.9722            0.6341           0.0144   \n",
       "1                        0.9851            0.8040           0.0497   \n",
       "2                           NaN               NaN              NaN   \n",
       "3                           NaN               NaN              NaN   \n",
       "4                           NaN               NaN              NaN   \n",
       "\n",
       "   ELEVATORS_MODE  ENTRANCES_MODE  FLOORSMAX_MODE  FLOORSMIN_MODE  \\\n",
       "0          0.0000          0.0690          0.0833          0.1250   \n",
       "1          0.0806          0.0345          0.2917          0.3333   \n",
       "2             NaN             NaN             NaN             NaN   \n",
       "3             NaN             NaN             NaN             NaN   \n",
       "4             NaN             NaN             NaN             NaN   \n",
       "\n",
       "   LANDAREA_MODE  LIVINGAPARTMENTS_MODE  LIVINGAREA_MODE  \\\n",
       "0         0.0377                  0.022           0.0198   \n",
       "1         0.0128                  0.079           0.0554   \n",
       "2            NaN                    NaN              NaN   \n",
       "3            NaN                    NaN              NaN   \n",
       "4            NaN                    NaN              NaN   \n",
       "\n",
       "   NONLIVINGAPARTMENTS_MODE  NONLIVINGAREA_MODE  APARTMENTS_MEDI  \\\n",
       "0                       0.0                 0.0           0.0250   \n",
       "1                       0.0                 0.0           0.0968   \n",
       "2                       NaN                 NaN              NaN   \n",
       "3                       NaN                 NaN              NaN   \n",
       "4                       NaN                 NaN              NaN   \n",
       "\n",
       "   BASEMENTAREA_MEDI  YEARS_BEGINEXPLUATATION_MEDI  YEARS_BUILD_MEDI  \\\n",
       "0             0.0369                        0.9722            0.6243   \n",
       "1             0.0529                        0.9851            0.7987   \n",
       "2                NaN                           NaN               NaN   \n",
       "3                NaN                           NaN               NaN   \n",
       "4                NaN                           NaN               NaN   \n",
       "\n",
       "   COMMONAREA_MEDI  ELEVATORS_MEDI  ENTRANCES_MEDI  FLOORSMAX_MEDI  \\\n",
       "0           0.0144            0.00          0.0690          0.0833   \n",
       "1           0.0608            0.08          0.0345          0.2917   \n",
       "2              NaN             NaN             NaN             NaN   \n",
       "3              NaN             NaN             NaN             NaN   \n",
       "4              NaN             NaN             NaN             NaN   \n",
       "\n",
       "   FLOORSMIN_MEDI  LANDAREA_MEDI  LIVINGAPARTMENTS_MEDI  LIVINGAREA_MEDI  \\\n",
       "0          0.1250         0.0375                 0.0205           0.0193   \n",
       "1          0.3333         0.0132                 0.0787           0.0558   \n",
       "2             NaN            NaN                    NaN              NaN   \n",
       "3             NaN            NaN                    NaN              NaN   \n",
       "4             NaN            NaN                    NaN              NaN   \n",
       "\n",
       "   NONLIVINGAPARTMENTS_MEDI  NONLIVINGAREA_MEDI FONDKAPREMONT_MODE  \\\n",
       "0                    0.0000                0.00   reg oper account   \n",
       "1                    0.0039                0.01   reg oper account   \n",
       "2                       NaN                 NaN                NaN   \n",
       "3                       NaN                 NaN                NaN   \n",
       "4                       NaN                 NaN                NaN   \n",
       "\n",
       "   HOUSETYPE_MODE  TOTALAREA_MODE WALLSMATERIAL_MODE EMERGENCYSTATE_MODE  \\\n",
       "0  block of flats          0.0149       Stone, brick                  No   \n",
       "1  block of flats          0.0714              Block                  No   \n",
       "2             NaN             NaN                NaN                 NaN   \n",
       "3             NaN             NaN                NaN                 NaN   \n",
       "4             NaN             NaN                NaN                 NaN   \n",
       "\n",
       "   OBS_30_CNT_SOCIAL_CIRCLE  DEF_30_CNT_SOCIAL_CIRCLE  \\\n",
       "0                       2.0                       2.0   \n",
       "1                       1.0                       0.0   \n",
       "2                       0.0                       0.0   \n",
       "3                       2.0                       0.0   \n",
       "4                       0.0                       0.0   \n",
       "\n",
       "   OBS_60_CNT_SOCIAL_CIRCLE  DEF_60_CNT_SOCIAL_CIRCLE  DAYS_LAST_PHONE_CHANGE  \\\n",
       "0                       2.0                       2.0                 -1134.0   \n",
       "1                       1.0                       0.0                  -828.0   \n",
       "2                       0.0                       0.0                  -815.0   \n",
       "3                       2.0                       0.0                  -617.0   \n",
       "4                       0.0                       0.0                 -1106.0   \n",
       "\n",
       "   FLAG_DOCUMENT_2  FLAG_DOCUMENT_3  FLAG_DOCUMENT_4  FLAG_DOCUMENT_5  \\\n",
       "0                0                1                0                0   \n",
       "1                0                1                0                0   \n",
       "2                0                0                0                0   \n",
       "3                0                1                0                0   \n",
       "4                0                0                0                0   \n",
       "\n",
       "   FLAG_DOCUMENT_6  FLAG_DOCUMENT_7  FLAG_DOCUMENT_8  FLAG_DOCUMENT_9  \\\n",
       "0                0                0                0                0   \n",
       "1                0                0                0                0   \n",
       "2                0                0                0                0   \n",
       "3                0                0                0                0   \n",
       "4                0                0                1                0   \n",
       "\n",
       "   FLAG_DOCUMENT_10  FLAG_DOCUMENT_11  FLAG_DOCUMENT_12  FLAG_DOCUMENT_13  \\\n",
       "0                 0                 0                 0                 0   \n",
       "1                 0                 0                 0                 0   \n",
       "2                 0                 0                 0                 0   \n",
       "3                 0                 0                 0                 0   \n",
       "4                 0                 0                 0                 0   \n",
       "\n",
       "   FLAG_DOCUMENT_14  FLAG_DOCUMENT_15  FLAG_DOCUMENT_16  FLAG_DOCUMENT_17  \\\n",
       "0                 0                 0                 0                 0   \n",
       "1                 0                 0                 0                 0   \n",
       "2                 0                 0                 0                 0   \n",
       "3                 0                 0                 0                 0   \n",
       "4                 0                 0                 0                 0   \n",
       "\n",
       "   FLAG_DOCUMENT_18  FLAG_DOCUMENT_19  FLAG_DOCUMENT_20  FLAG_DOCUMENT_21  \\\n",
       "0                 0                 0                 0                 0   \n",
       "1                 0                 0                 0                 0   \n",
       "2                 0                 0                 0                 0   \n",
       "3                 0                 0                 0                 0   \n",
       "4                 0                 0                 0                 0   \n",
       "\n",
       "   AMT_REQ_CREDIT_BUREAU_HOUR  AMT_REQ_CREDIT_BUREAU_DAY  \\\n",
       "0                         0.0                        0.0   \n",
       "1                         0.0                        0.0   \n",
       "2                         0.0                        0.0   \n",
       "3                         NaN                        NaN   \n",
       "4                         0.0                        0.0   \n",
       "\n",
       "   AMT_REQ_CREDIT_BUREAU_WEEK  AMT_REQ_CREDIT_BUREAU_MON  \\\n",
       "0                         0.0                        0.0   \n",
       "1                         0.0                        0.0   \n",
       "2                         0.0                        0.0   \n",
       "3                         NaN                        NaN   \n",
       "4                         0.0                        0.0   \n",
       "\n",
       "   AMT_REQ_CREDIT_BUREAU_QRT  AMT_REQ_CREDIT_BUREAU_YEAR  \n",
       "0                        0.0                         1.0  \n",
       "1                        0.0                         0.0  \n",
       "2                        0.0                         0.0  \n",
       "3                        NaN                         NaN  \n",
       "4                        0.0                         0.0  "
      ]
     },
     "execution_count": 2,
     "metadata": {},
     "output_type": "execute_result"
    }
   ],
   "source": [
    "#Lets assign 'application_data.csv' into variable 'df'.\n",
    "pd.set_option('display.max_columns', None)\n",
    "pd.set_option('display.max_rows', None)\n",
    "df= pd.read_csv(r'C:\\Users\\deepa\\Desktop\\Mysql installer\\Credit EDA Assignment\\application_data.csv')\n",
    "df.head()"
   ]
  },
  {
   "cell_type": "code",
   "execution_count": 9,
   "id": "a8390196",
   "metadata": {},
   "outputs": [
    {
     "data": {
      "text/plain": [
       "(307511, 122)"
      ]
     },
     "execution_count": 9,
     "metadata": {},
     "output_type": "execute_result"
    }
   ],
   "source": [
    "df.shape"
   ]
  },
  {
   "cell_type": "code",
   "execution_count": 3,
   "id": "c64bf19c",
   "metadata": {},
   "outputs": [
    {
     "data": {
      "text/plain": [
       "0"
      ]
     },
     "execution_count": 3,
     "metadata": {},
     "output_type": "execute_result"
    }
   ],
   "source": [
    "#Checking if the data is having complete duplicate rows or not. If Yes, then how many?\n",
    "df.duplicated().sum()"
   ]
  },
  {
   "cell_type": "code",
   "execution_count": 6,
   "id": "7a0814ed",
   "metadata": {},
   "outputs": [
    {
     "data": {
      "text/plain": [
       "0"
      ]
     },
     "execution_count": 6,
     "metadata": {},
     "output_type": "execute_result"
    }
   ],
   "source": [
    "#Lets check the same for \"SK_ID_CURR\" column as well if there is any duplicate entry with that id.\n",
    "df.duplicated(subset = 'SK_ID_CURR').sum()"
   ]
  },
  {
   "cell_type": "code",
   "execution_count": 7,
   "id": "d748f18b",
   "metadata": {},
   "outputs": [
    {
     "name": "stdout",
     "output_type": "stream",
     "text": [
      "<class 'pandas.core.frame.DataFrame'>\n",
      "RangeIndex: 307511 entries, 0 to 307510\n",
      "Data columns (total 122 columns):\n",
      " #    Column                        Dtype  \n",
      "---   ------                        -----  \n",
      " 0    SK_ID_CURR                    int64  \n",
      " 1    TARGET                        int64  \n",
      " 2    NAME_CONTRACT_TYPE            object \n",
      " 3    CODE_GENDER                   object \n",
      " 4    FLAG_OWN_CAR                  object \n",
      " 5    FLAG_OWN_REALTY               object \n",
      " 6    CNT_CHILDREN                  int64  \n",
      " 7    AMT_INCOME_TOTAL              float64\n",
      " 8    AMT_CREDIT                    float64\n",
      " 9    AMT_ANNUITY                   float64\n",
      " 10   AMT_GOODS_PRICE               float64\n",
      " 11   NAME_TYPE_SUITE               object \n",
      " 12   NAME_INCOME_TYPE              object \n",
      " 13   NAME_EDUCATION_TYPE           object \n",
      " 14   NAME_FAMILY_STATUS            object \n",
      " 15   NAME_HOUSING_TYPE             object \n",
      " 16   REGION_POPULATION_RELATIVE    float64\n",
      " 17   DAYS_BIRTH                    int64  \n",
      " 18   DAYS_EMPLOYED                 int64  \n",
      " 19   DAYS_REGISTRATION             float64\n",
      " 20   DAYS_ID_PUBLISH               int64  \n",
      " 21   OWN_CAR_AGE                   float64\n",
      " 22   FLAG_MOBIL                    int64  \n",
      " 23   FLAG_EMP_PHONE                int64  \n",
      " 24   FLAG_WORK_PHONE               int64  \n",
      " 25   FLAG_CONT_MOBILE              int64  \n",
      " 26   FLAG_PHONE                    int64  \n",
      " 27   FLAG_EMAIL                    int64  \n",
      " 28   OCCUPATION_TYPE               object \n",
      " 29   CNT_FAM_MEMBERS               float64\n",
      " 30   REGION_RATING_CLIENT          int64  \n",
      " 31   REGION_RATING_CLIENT_W_CITY   int64  \n",
      " 32   WEEKDAY_APPR_PROCESS_START    object \n",
      " 33   HOUR_APPR_PROCESS_START       int64  \n",
      " 34   REG_REGION_NOT_LIVE_REGION    int64  \n",
      " 35   REG_REGION_NOT_WORK_REGION    int64  \n",
      " 36   LIVE_REGION_NOT_WORK_REGION   int64  \n",
      " 37   REG_CITY_NOT_LIVE_CITY        int64  \n",
      " 38   REG_CITY_NOT_WORK_CITY        int64  \n",
      " 39   LIVE_CITY_NOT_WORK_CITY       int64  \n",
      " 40   ORGANIZATION_TYPE             object \n",
      " 41   EXT_SOURCE_1                  float64\n",
      " 42   EXT_SOURCE_2                  float64\n",
      " 43   EXT_SOURCE_3                  float64\n",
      " 44   APARTMENTS_AVG                float64\n",
      " 45   BASEMENTAREA_AVG              float64\n",
      " 46   YEARS_BEGINEXPLUATATION_AVG   float64\n",
      " 47   YEARS_BUILD_AVG               float64\n",
      " 48   COMMONAREA_AVG                float64\n",
      " 49   ELEVATORS_AVG                 float64\n",
      " 50   ENTRANCES_AVG                 float64\n",
      " 51   FLOORSMAX_AVG                 float64\n",
      " 52   FLOORSMIN_AVG                 float64\n",
      " 53   LANDAREA_AVG                  float64\n",
      " 54   LIVINGAPARTMENTS_AVG          float64\n",
      " 55   LIVINGAREA_AVG                float64\n",
      " 56   NONLIVINGAPARTMENTS_AVG       float64\n",
      " 57   NONLIVINGAREA_AVG             float64\n",
      " 58   APARTMENTS_MODE               float64\n",
      " 59   BASEMENTAREA_MODE             float64\n",
      " 60   YEARS_BEGINEXPLUATATION_MODE  float64\n",
      " 61   YEARS_BUILD_MODE              float64\n",
      " 62   COMMONAREA_MODE               float64\n",
      " 63   ELEVATORS_MODE                float64\n",
      " 64   ENTRANCES_MODE                float64\n",
      " 65   FLOORSMAX_MODE                float64\n",
      " 66   FLOORSMIN_MODE                float64\n",
      " 67   LANDAREA_MODE                 float64\n",
      " 68   LIVINGAPARTMENTS_MODE         float64\n",
      " 69   LIVINGAREA_MODE               float64\n",
      " 70   NONLIVINGAPARTMENTS_MODE      float64\n",
      " 71   NONLIVINGAREA_MODE            float64\n",
      " 72   APARTMENTS_MEDI               float64\n",
      " 73   BASEMENTAREA_MEDI             float64\n",
      " 74   YEARS_BEGINEXPLUATATION_MEDI  float64\n",
      " 75   YEARS_BUILD_MEDI              float64\n",
      " 76   COMMONAREA_MEDI               float64\n",
      " 77   ELEVATORS_MEDI                float64\n",
      " 78   ENTRANCES_MEDI                float64\n",
      " 79   FLOORSMAX_MEDI                float64\n",
      " 80   FLOORSMIN_MEDI                float64\n",
      " 81   LANDAREA_MEDI                 float64\n",
      " 82   LIVINGAPARTMENTS_MEDI         float64\n",
      " 83   LIVINGAREA_MEDI               float64\n",
      " 84   NONLIVINGAPARTMENTS_MEDI      float64\n",
      " 85   NONLIVINGAREA_MEDI            float64\n",
      " 86   FONDKAPREMONT_MODE            object \n",
      " 87   HOUSETYPE_MODE                object \n",
      " 88   TOTALAREA_MODE                float64\n",
      " 89   WALLSMATERIAL_MODE            object \n",
      " 90   EMERGENCYSTATE_MODE           object \n",
      " 91   OBS_30_CNT_SOCIAL_CIRCLE      float64\n",
      " 92   DEF_30_CNT_SOCIAL_CIRCLE      float64\n",
      " 93   OBS_60_CNT_SOCIAL_CIRCLE      float64\n",
      " 94   DEF_60_CNT_SOCIAL_CIRCLE      float64\n",
      " 95   DAYS_LAST_PHONE_CHANGE        float64\n",
      " 96   FLAG_DOCUMENT_2               int64  \n",
      " 97   FLAG_DOCUMENT_3               int64  \n",
      " 98   FLAG_DOCUMENT_4               int64  \n",
      " 99   FLAG_DOCUMENT_5               int64  \n",
      " 100  FLAG_DOCUMENT_6               int64  \n",
      " 101  FLAG_DOCUMENT_7               int64  \n",
      " 102  FLAG_DOCUMENT_8               int64  \n",
      " 103  FLAG_DOCUMENT_9               int64  \n",
      " 104  FLAG_DOCUMENT_10              int64  \n",
      " 105  FLAG_DOCUMENT_11              int64  \n",
      " 106  FLAG_DOCUMENT_12              int64  \n",
      " 107  FLAG_DOCUMENT_13              int64  \n",
      " 108  FLAG_DOCUMENT_14              int64  \n",
      " 109  FLAG_DOCUMENT_15              int64  \n",
      " 110  FLAG_DOCUMENT_16              int64  \n",
      " 111  FLAG_DOCUMENT_17              int64  \n",
      " 112  FLAG_DOCUMENT_18              int64  \n",
      " 113  FLAG_DOCUMENT_19              int64  \n",
      " 114  FLAG_DOCUMENT_20              int64  \n",
      " 115  FLAG_DOCUMENT_21              int64  \n",
      " 116  AMT_REQ_CREDIT_BUREAU_HOUR    float64\n",
      " 117  AMT_REQ_CREDIT_BUREAU_DAY     float64\n",
      " 118  AMT_REQ_CREDIT_BUREAU_WEEK    float64\n",
      " 119  AMT_REQ_CREDIT_BUREAU_MON     float64\n",
      " 120  AMT_REQ_CREDIT_BUREAU_QRT     float64\n",
      " 121  AMT_REQ_CREDIT_BUREAU_YEAR    float64\n",
      "dtypes: float64(65), int64(41), object(16)\n",
      "memory usage: 286.2+ MB\n"
     ]
    }
   ],
   "source": [
    "#Since there is no duplicate rows, we are going to the next step of data cleaning.\n",
    "#Lets look at the df1 info with (verbose=True) since they have a large set of columns.\n",
    "df.info(verbose=True)"
   ]
  },
  {
   "cell_type": "code",
   "execution_count": 68,
   "id": "ccc6803d",
   "metadata": {},
   "outputs": [
    {
     "data": {
      "text/plain": [
       "SK_ID_CURR                           0\n",
       "TARGET                               0\n",
       "NAME_CONTRACT_TYPE                   0\n",
       "CODE_GENDER                          0\n",
       "FLAG_OWN_CAR                         0\n",
       "FLAG_OWN_REALTY                      0\n",
       "CNT_CHILDREN                         0\n",
       "AMT_INCOME_TOTAL                     0\n",
       "AMT_CREDIT                           0\n",
       "AMT_ANNUITY                         12\n",
       "AMT_GOODS_PRICE                    278\n",
       "NAME_TYPE_SUITE                   1292\n",
       "NAME_INCOME_TYPE                     0\n",
       "NAME_EDUCATION_TYPE                  0\n",
       "NAME_FAMILY_STATUS                   0\n",
       "NAME_HOUSING_TYPE                    0\n",
       "REGION_POPULATION_RELATIVE           0\n",
       "DAYS_BIRTH                           0\n",
       "DAYS_EMPLOYED                        0\n",
       "DAYS_REGISTRATION                    0\n",
       "DAYS_ID_PUBLISH                      0\n",
       "OWN_CAR_AGE                     202929\n",
       "FLAG_MOBIL                           0\n",
       "FLAG_EMP_PHONE                       0\n",
       "FLAG_WORK_PHONE                      0\n",
       "FLAG_CONT_MOBILE                     0\n",
       "FLAG_PHONE                           0\n",
       "FLAG_EMAIL                           0\n",
       "OCCUPATION_TYPE                  96391\n",
       "CNT_FAM_MEMBERS                      2\n",
       "REGION_RATING_CLIENT                 0\n",
       "REGION_RATING_CLIENT_W_CITY          0\n",
       "WEEKDAY_APPR_PROCESS_START           0\n",
       "HOUR_APPR_PROCESS_START              0\n",
       "REG_REGION_NOT_LIVE_REGION           0\n",
       "REG_REGION_NOT_WORK_REGION           0\n",
       "LIVE_REGION_NOT_WORK_REGION          0\n",
       "REG_CITY_NOT_LIVE_CITY               0\n",
       "REG_CITY_NOT_WORK_CITY               0\n",
       "LIVE_CITY_NOT_WORK_CITY              0\n",
       "ORGANIZATION_TYPE                    0\n",
       "EXT_SOURCE_1                    173378\n",
       "EXT_SOURCE_2                       660\n",
       "EXT_SOURCE_3                     60965\n",
       "APARTMENTS_AVG                  156061\n",
       "BASEMENTAREA_AVG                179943\n",
       "YEARS_BEGINEXPLUATATION_AVG     150007\n",
       "YEARS_BUILD_AVG                 204488\n",
       "COMMONAREA_AVG                  214865\n",
       "ELEVATORS_AVG                   163891\n",
       "ENTRANCES_AVG                   154828\n",
       "FLOORSMAX_AVG                   153020\n",
       "FLOORSMIN_AVG                   208642\n",
       "LANDAREA_AVG                    182590\n",
       "LIVINGAPARTMENTS_AVG            210199\n",
       "LIVINGAREA_AVG                  154350\n",
       "NONLIVINGAPARTMENTS_AVG         213514\n",
       "NONLIVINGAREA_AVG               169682\n",
       "APARTMENTS_MODE                 156061\n",
       "BASEMENTAREA_MODE               179943\n",
       "YEARS_BEGINEXPLUATATION_MODE    150007\n",
       "YEARS_BUILD_MODE                204488\n",
       "COMMONAREA_MODE                 214865\n",
       "ELEVATORS_MODE                  163891\n",
       "ENTRANCES_MODE                  154828\n",
       "FLOORSMAX_MODE                  153020\n",
       "FLOORSMIN_MODE                  208642\n",
       "LANDAREA_MODE                   182590\n",
       "LIVINGAPARTMENTS_MODE           210199\n",
       "LIVINGAREA_MODE                 154350\n",
       "NONLIVINGAPARTMENTS_MODE        213514\n",
       "NONLIVINGAREA_MODE              169682\n",
       "APARTMENTS_MEDI                 156061\n",
       "BASEMENTAREA_MEDI               179943\n",
       "YEARS_BEGINEXPLUATATION_MEDI    150007\n",
       "YEARS_BUILD_MEDI                204488\n",
       "COMMONAREA_MEDI                 214865\n",
       "ELEVATORS_MEDI                  163891\n",
       "ENTRANCES_MEDI                  154828\n",
       "FLOORSMAX_MEDI                  153020\n",
       "FLOORSMIN_MEDI                  208642\n",
       "LANDAREA_MEDI                   182590\n",
       "LIVINGAPARTMENTS_MEDI           210199\n",
       "LIVINGAREA_MEDI                 154350\n",
       "NONLIVINGAPARTMENTS_MEDI        213514\n",
       "NONLIVINGAREA_MEDI              169682\n",
       "FONDKAPREMONT_MODE              210295\n",
       "HOUSETYPE_MODE                  154297\n",
       "TOTALAREA_MODE                  148431\n",
       "WALLSMATERIAL_MODE              156341\n",
       "EMERGENCYSTATE_MODE             145755\n",
       "OBS_30_CNT_SOCIAL_CIRCLE          1021\n",
       "DEF_30_CNT_SOCIAL_CIRCLE          1021\n",
       "OBS_60_CNT_SOCIAL_CIRCLE          1021\n",
       "DEF_60_CNT_SOCIAL_CIRCLE          1021\n",
       "DAYS_LAST_PHONE_CHANGE               1\n",
       "FLAG_DOCUMENT_2                      0\n",
       "FLAG_DOCUMENT_3                      0\n",
       "FLAG_DOCUMENT_4                      0\n",
       "FLAG_DOCUMENT_5                      0\n",
       "FLAG_DOCUMENT_6                      0\n",
       "FLAG_DOCUMENT_7                      0\n",
       "FLAG_DOCUMENT_8                      0\n",
       "FLAG_DOCUMENT_9                      0\n",
       "FLAG_DOCUMENT_10                     0\n",
       "FLAG_DOCUMENT_11                     0\n",
       "FLAG_DOCUMENT_12                     0\n",
       "FLAG_DOCUMENT_13                     0\n",
       "FLAG_DOCUMENT_14                     0\n",
       "FLAG_DOCUMENT_15                     0\n",
       "FLAG_DOCUMENT_16                     0\n",
       "FLAG_DOCUMENT_17                     0\n",
       "FLAG_DOCUMENT_18                     0\n",
       "FLAG_DOCUMENT_19                     0\n",
       "FLAG_DOCUMENT_20                     0\n",
       "FLAG_DOCUMENT_21                     0\n",
       "AMT_REQ_CREDIT_BUREAU_HOUR       41519\n",
       "AMT_REQ_CREDIT_BUREAU_DAY        41519\n",
       "AMT_REQ_CREDIT_BUREAU_WEEK       41519\n",
       "AMT_REQ_CREDIT_BUREAU_MON        41519\n",
       "AMT_REQ_CREDIT_BUREAU_QRT        41519\n",
       "AMT_REQ_CREDIT_BUREAU_YEAR       41519\n",
       "dtype: int64"
      ]
     },
     "execution_count": 68,
     "metadata": {},
     "output_type": "execute_result"
    }
   ],
   "source": [
    "## The data seems to have a large set of columns so, lets try to eliminate those set of data which has Null value~40% ormore.\n",
    "#checking for the null value counts in each column\n",
    "df.isnull().sum()"
   ]
  },
  {
   "cell_type": "code",
   "execution_count": 69,
   "id": "15bfdd49",
   "metadata": {},
   "outputs": [
    {
     "data": {
      "text/plain": [
       "SK_ID_CURR                       0.000000\n",
       "TARGET                           0.000000\n",
       "NAME_CONTRACT_TYPE               0.000000\n",
       "CODE_GENDER                      0.000000\n",
       "FLAG_OWN_CAR                     0.000000\n",
       "FLAG_OWN_REALTY                  0.000000\n",
       "CNT_CHILDREN                     0.000000\n",
       "AMT_INCOME_TOTAL                 0.000000\n",
       "AMT_CREDIT                       0.000000\n",
       "AMT_ANNUITY                      0.003902\n",
       "AMT_GOODS_PRICE                  0.090403\n",
       "NAME_TYPE_SUITE                  0.420148\n",
       "NAME_INCOME_TYPE                 0.000000\n",
       "NAME_EDUCATION_TYPE              0.000000\n",
       "NAME_FAMILY_STATUS               0.000000\n",
       "NAME_HOUSING_TYPE                0.000000\n",
       "REGION_POPULATION_RELATIVE       0.000000\n",
       "DAYS_BIRTH                       0.000000\n",
       "DAYS_EMPLOYED                    0.000000\n",
       "DAYS_REGISTRATION                0.000000\n",
       "DAYS_ID_PUBLISH                  0.000000\n",
       "OWN_CAR_AGE                     65.990810\n",
       "FLAG_MOBIL                       0.000000\n",
       "FLAG_EMP_PHONE                   0.000000\n",
       "FLAG_WORK_PHONE                  0.000000\n",
       "FLAG_CONT_MOBILE                 0.000000\n",
       "FLAG_PHONE                       0.000000\n",
       "FLAG_EMAIL                       0.000000\n",
       "OCCUPATION_TYPE                 31.345545\n",
       "CNT_FAM_MEMBERS                  0.000650\n",
       "REGION_RATING_CLIENT             0.000000\n",
       "REGION_RATING_CLIENT_W_CITY      0.000000\n",
       "WEEKDAY_APPR_PROCESS_START       0.000000\n",
       "HOUR_APPR_PROCESS_START          0.000000\n",
       "REG_REGION_NOT_LIVE_REGION       0.000000\n",
       "REG_REGION_NOT_WORK_REGION       0.000000\n",
       "LIVE_REGION_NOT_WORK_REGION      0.000000\n",
       "REG_CITY_NOT_LIVE_CITY           0.000000\n",
       "REG_CITY_NOT_WORK_CITY           0.000000\n",
       "LIVE_CITY_NOT_WORK_CITY          0.000000\n",
       "ORGANIZATION_TYPE                0.000000\n",
       "EXT_SOURCE_1                    56.381073\n",
       "EXT_SOURCE_2                     0.214626\n",
       "EXT_SOURCE_3                    19.825307\n",
       "APARTMENTS_AVG                  50.749729\n",
       "BASEMENTAREA_AVG                58.515956\n",
       "YEARS_BEGINEXPLUATATION_AVG     48.781019\n",
       "YEARS_BUILD_AVG                 66.497784\n",
       "COMMONAREA_AVG                  69.872297\n",
       "ELEVATORS_AVG                   53.295980\n",
       "ENTRANCES_AVG                   50.348768\n",
       "FLOORSMAX_AVG                   49.760822\n",
       "FLOORSMIN_AVG                   67.848630\n",
       "LANDAREA_AVG                    59.376738\n",
       "LIVINGAPARTMENTS_AVG            68.354953\n",
       "LIVINGAREA_AVG                  50.193326\n",
       "NONLIVINGAPARTMENTS_AVG         69.432963\n",
       "NONLIVINGAREA_AVG               55.179164\n",
       "APARTMENTS_MODE                 50.749729\n",
       "BASEMENTAREA_MODE               58.515956\n",
       "YEARS_BEGINEXPLUATATION_MODE    48.781019\n",
       "YEARS_BUILD_MODE                66.497784\n",
       "COMMONAREA_MODE                 69.872297\n",
       "ELEVATORS_MODE                  53.295980\n",
       "ENTRANCES_MODE                  50.348768\n",
       "FLOORSMAX_MODE                  49.760822\n",
       "FLOORSMIN_MODE                  67.848630\n",
       "LANDAREA_MODE                   59.376738\n",
       "LIVINGAPARTMENTS_MODE           68.354953\n",
       "LIVINGAREA_MODE                 50.193326\n",
       "NONLIVINGAPARTMENTS_MODE        69.432963\n",
       "NONLIVINGAREA_MODE              55.179164\n",
       "APARTMENTS_MEDI                 50.749729\n",
       "BASEMENTAREA_MEDI               58.515956\n",
       "YEARS_BEGINEXPLUATATION_MEDI    48.781019\n",
       "YEARS_BUILD_MEDI                66.497784\n",
       "COMMONAREA_MEDI                 69.872297\n",
       "ELEVATORS_MEDI                  53.295980\n",
       "ENTRANCES_MEDI                  50.348768\n",
       "FLOORSMAX_MEDI                  49.760822\n",
       "FLOORSMIN_MEDI                  67.848630\n",
       "LANDAREA_MEDI                   59.376738\n",
       "LIVINGAPARTMENTS_MEDI           68.354953\n",
       "LIVINGAREA_MEDI                 50.193326\n",
       "NONLIVINGAPARTMENTS_MEDI        69.432963\n",
       "NONLIVINGAREA_MEDI              55.179164\n",
       "FONDKAPREMONT_MODE              68.386172\n",
       "HOUSETYPE_MODE                  50.176091\n",
       "TOTALAREA_MODE                  48.268517\n",
       "WALLSMATERIAL_MODE              50.840783\n",
       "EMERGENCYSTATE_MODE             47.398304\n",
       "OBS_30_CNT_SOCIAL_CIRCLE         0.332021\n",
       "DEF_30_CNT_SOCIAL_CIRCLE         0.332021\n",
       "OBS_60_CNT_SOCIAL_CIRCLE         0.332021\n",
       "DEF_60_CNT_SOCIAL_CIRCLE         0.332021\n",
       "DAYS_LAST_PHONE_CHANGE           0.000325\n",
       "FLAG_DOCUMENT_2                  0.000000\n",
       "FLAG_DOCUMENT_3                  0.000000\n",
       "FLAG_DOCUMENT_4                  0.000000\n",
       "FLAG_DOCUMENT_5                  0.000000\n",
       "FLAG_DOCUMENT_6                  0.000000\n",
       "FLAG_DOCUMENT_7                  0.000000\n",
       "FLAG_DOCUMENT_8                  0.000000\n",
       "FLAG_DOCUMENT_9                  0.000000\n",
       "FLAG_DOCUMENT_10                 0.000000\n",
       "FLAG_DOCUMENT_11                 0.000000\n",
       "FLAG_DOCUMENT_12                 0.000000\n",
       "FLAG_DOCUMENT_13                 0.000000\n",
       "FLAG_DOCUMENT_14                 0.000000\n",
       "FLAG_DOCUMENT_15                 0.000000\n",
       "FLAG_DOCUMENT_16                 0.000000\n",
       "FLAG_DOCUMENT_17                 0.000000\n",
       "FLAG_DOCUMENT_18                 0.000000\n",
       "FLAG_DOCUMENT_19                 0.000000\n",
       "FLAG_DOCUMENT_20                 0.000000\n",
       "FLAG_DOCUMENT_21                 0.000000\n",
       "AMT_REQ_CREDIT_BUREAU_HOUR      13.501631\n",
       "AMT_REQ_CREDIT_BUREAU_DAY       13.501631\n",
       "AMT_REQ_CREDIT_BUREAU_WEEK      13.501631\n",
       "AMT_REQ_CREDIT_BUREAU_MON       13.501631\n",
       "AMT_REQ_CREDIT_BUREAU_QRT       13.501631\n",
       "AMT_REQ_CREDIT_BUREAU_YEAR      13.501631\n",
       "dtype: float64"
      ]
     },
     "execution_count": 69,
     "metadata": {},
     "output_type": "execute_result"
    }
   ],
   "source": [
    "#Calculating the percentage null values in each column\n",
    "(df.isnull().sum()/df.shape[0])*100"
   ]
  },
  {
   "cell_type": "markdown",
   "id": "fb1c56bb",
   "metadata": {},
   "source": [
    "Before deleting the data, it is important to check if the data that we are going to drop is not affecting our analysis.\n",
    "- Lets have a look to those data which has null count %ge more than 40%. \n",
    "- After that, we will refer to the dictionary description of each of those column before dropping them from the data set."
   ]
  },
  {
   "cell_type": "code",
   "execution_count": 18,
   "id": "48bc0dbd",
   "metadata": {},
   "outputs": [
    {
     "data": {
      "text/plain": [
       "49"
      ]
     },
     "execution_count": 18,
     "metadata": {},
     "output_type": "execute_result"
    }
   ],
   "source": [
    "((df.isnull().sum()/df.shape[0])*100>40.0).sum() #Gives total no. of columns which has null values more than 40%."
   ]
  },
  {
   "cell_type": "code",
   "execution_count": 70,
   "id": "ba6edf6b",
   "metadata": {},
   "outputs": [
    {
     "data": {
      "text/plain": [
       "SK_ID_CURR                      False\n",
       "TARGET                          False\n",
       "NAME_CONTRACT_TYPE              False\n",
       "CODE_GENDER                     False\n",
       "FLAG_OWN_CAR                    False\n",
       "FLAG_OWN_REALTY                 False\n",
       "CNT_CHILDREN                    False\n",
       "AMT_INCOME_TOTAL                False\n",
       "AMT_CREDIT                      False\n",
       "AMT_ANNUITY                     False\n",
       "AMT_GOODS_PRICE                 False\n",
       "NAME_TYPE_SUITE                 False\n",
       "NAME_INCOME_TYPE                False\n",
       "NAME_EDUCATION_TYPE             False\n",
       "NAME_FAMILY_STATUS              False\n",
       "NAME_HOUSING_TYPE               False\n",
       "REGION_POPULATION_RELATIVE      False\n",
       "DAYS_BIRTH                      False\n",
       "DAYS_EMPLOYED                   False\n",
       "DAYS_REGISTRATION               False\n",
       "DAYS_ID_PUBLISH                 False\n",
       "OWN_CAR_AGE                      True\n",
       "FLAG_MOBIL                      False\n",
       "FLAG_EMP_PHONE                  False\n",
       "FLAG_WORK_PHONE                 False\n",
       "FLAG_CONT_MOBILE                False\n",
       "FLAG_PHONE                      False\n",
       "FLAG_EMAIL                      False\n",
       "OCCUPATION_TYPE                 False\n",
       "CNT_FAM_MEMBERS                 False\n",
       "REGION_RATING_CLIENT            False\n",
       "REGION_RATING_CLIENT_W_CITY     False\n",
       "WEEKDAY_APPR_PROCESS_START      False\n",
       "HOUR_APPR_PROCESS_START         False\n",
       "REG_REGION_NOT_LIVE_REGION      False\n",
       "REG_REGION_NOT_WORK_REGION      False\n",
       "LIVE_REGION_NOT_WORK_REGION     False\n",
       "REG_CITY_NOT_LIVE_CITY          False\n",
       "REG_CITY_NOT_WORK_CITY          False\n",
       "LIVE_CITY_NOT_WORK_CITY         False\n",
       "ORGANIZATION_TYPE               False\n",
       "EXT_SOURCE_1                     True\n",
       "EXT_SOURCE_2                    False\n",
       "EXT_SOURCE_3                    False\n",
       "APARTMENTS_AVG                   True\n",
       "BASEMENTAREA_AVG                 True\n",
       "YEARS_BEGINEXPLUATATION_AVG      True\n",
       "YEARS_BUILD_AVG                  True\n",
       "COMMONAREA_AVG                   True\n",
       "ELEVATORS_AVG                    True\n",
       "ENTRANCES_AVG                    True\n",
       "FLOORSMAX_AVG                    True\n",
       "FLOORSMIN_AVG                    True\n",
       "LANDAREA_AVG                     True\n",
       "LIVINGAPARTMENTS_AVG             True\n",
       "LIVINGAREA_AVG                   True\n",
       "NONLIVINGAPARTMENTS_AVG          True\n",
       "NONLIVINGAREA_AVG                True\n",
       "APARTMENTS_MODE                  True\n",
       "BASEMENTAREA_MODE                True\n",
       "YEARS_BEGINEXPLUATATION_MODE     True\n",
       "YEARS_BUILD_MODE                 True\n",
       "COMMONAREA_MODE                  True\n",
       "ELEVATORS_MODE                   True\n",
       "ENTRANCES_MODE                   True\n",
       "FLOORSMAX_MODE                   True\n",
       "FLOORSMIN_MODE                   True\n",
       "LANDAREA_MODE                    True\n",
       "LIVINGAPARTMENTS_MODE            True\n",
       "LIVINGAREA_MODE                  True\n",
       "NONLIVINGAPARTMENTS_MODE         True\n",
       "NONLIVINGAREA_MODE               True\n",
       "APARTMENTS_MEDI                  True\n",
       "BASEMENTAREA_MEDI                True\n",
       "YEARS_BEGINEXPLUATATION_MEDI     True\n",
       "YEARS_BUILD_MEDI                 True\n",
       "COMMONAREA_MEDI                  True\n",
       "ELEVATORS_MEDI                   True\n",
       "ENTRANCES_MEDI                   True\n",
       "FLOORSMAX_MEDI                   True\n",
       "FLOORSMIN_MEDI                   True\n",
       "LANDAREA_MEDI                    True\n",
       "LIVINGAPARTMENTS_MEDI            True\n",
       "LIVINGAREA_MEDI                  True\n",
       "NONLIVINGAPARTMENTS_MEDI         True\n",
       "NONLIVINGAREA_MEDI               True\n",
       "FONDKAPREMONT_MODE               True\n",
       "HOUSETYPE_MODE                   True\n",
       "TOTALAREA_MODE                   True\n",
       "WALLSMATERIAL_MODE               True\n",
       "EMERGENCYSTATE_MODE              True\n",
       "OBS_30_CNT_SOCIAL_CIRCLE        False\n",
       "DEF_30_CNT_SOCIAL_CIRCLE        False\n",
       "OBS_60_CNT_SOCIAL_CIRCLE        False\n",
       "DEF_60_CNT_SOCIAL_CIRCLE        False\n",
       "DAYS_LAST_PHONE_CHANGE          False\n",
       "FLAG_DOCUMENT_2                 False\n",
       "FLAG_DOCUMENT_3                 False\n",
       "FLAG_DOCUMENT_4                 False\n",
       "FLAG_DOCUMENT_5                 False\n",
       "FLAG_DOCUMENT_6                 False\n",
       "FLAG_DOCUMENT_7                 False\n",
       "FLAG_DOCUMENT_8                 False\n",
       "FLAG_DOCUMENT_9                 False\n",
       "FLAG_DOCUMENT_10                False\n",
       "FLAG_DOCUMENT_11                False\n",
       "FLAG_DOCUMENT_12                False\n",
       "FLAG_DOCUMENT_13                False\n",
       "FLAG_DOCUMENT_14                False\n",
       "FLAG_DOCUMENT_15                False\n",
       "FLAG_DOCUMENT_16                False\n",
       "FLAG_DOCUMENT_17                False\n",
       "FLAG_DOCUMENT_18                False\n",
       "FLAG_DOCUMENT_19                False\n",
       "FLAG_DOCUMENT_20                False\n",
       "FLAG_DOCUMENT_21                False\n",
       "AMT_REQ_CREDIT_BUREAU_HOUR      False\n",
       "AMT_REQ_CREDIT_BUREAU_DAY       False\n",
       "AMT_REQ_CREDIT_BUREAU_WEEK      False\n",
       "AMT_REQ_CREDIT_BUREAU_MON       False\n",
       "AMT_REQ_CREDIT_BUREAU_QRT       False\n",
       "AMT_REQ_CREDIT_BUREAU_YEAR      False\n",
       "dtype: bool"
      ]
     },
     "execution_count": 70,
     "metadata": {},
     "output_type": "execute_result"
    }
   ],
   "source": [
    "(df.isnull().sum()/df.shape[0])*100>40.0"
   ]
  },
  {
   "cell_type": "code",
   "execution_count": 3,
   "id": "c5a04be7",
   "metadata": {},
   "outputs": [
    {
     "data": {
      "text/plain": [
       "['OWN_CAR_AGE',\n",
       " 'EXT_SOURCE_1',\n",
       " 'APARTMENTS_AVG',\n",
       " 'BASEMENTAREA_AVG',\n",
       " 'YEARS_BEGINEXPLUATATION_AVG',\n",
       " 'YEARS_BUILD_AVG',\n",
       " 'COMMONAREA_AVG',\n",
       " 'ELEVATORS_AVG',\n",
       " 'ENTRANCES_AVG',\n",
       " 'FLOORSMAX_AVG',\n",
       " 'FLOORSMIN_AVG',\n",
       " 'LANDAREA_AVG',\n",
       " 'LIVINGAPARTMENTS_AVG',\n",
       " 'LIVINGAREA_AVG',\n",
       " 'NONLIVINGAPARTMENTS_AVG',\n",
       " 'NONLIVINGAREA_AVG',\n",
       " 'APARTMENTS_MODE',\n",
       " 'BASEMENTAREA_MODE',\n",
       " 'YEARS_BEGINEXPLUATATION_MODE',\n",
       " 'YEARS_BUILD_MODE',\n",
       " 'COMMONAREA_MODE',\n",
       " 'ELEVATORS_MODE',\n",
       " 'ENTRANCES_MODE',\n",
       " 'FLOORSMAX_MODE',\n",
       " 'FLOORSMIN_MODE',\n",
       " 'LANDAREA_MODE',\n",
       " 'LIVINGAPARTMENTS_MODE',\n",
       " 'LIVINGAREA_MODE',\n",
       " 'NONLIVINGAPARTMENTS_MODE',\n",
       " 'NONLIVINGAREA_MODE',\n",
       " 'APARTMENTS_MEDI',\n",
       " 'BASEMENTAREA_MEDI',\n",
       " 'YEARS_BEGINEXPLUATATION_MEDI',\n",
       " 'YEARS_BUILD_MEDI',\n",
       " 'COMMONAREA_MEDI',\n",
       " 'ELEVATORS_MEDI',\n",
       " 'ENTRANCES_MEDI',\n",
       " 'FLOORSMAX_MEDI',\n",
       " 'FLOORSMIN_MEDI',\n",
       " 'LANDAREA_MEDI',\n",
       " 'LIVINGAPARTMENTS_MEDI',\n",
       " 'LIVINGAREA_MEDI',\n",
       " 'NONLIVINGAPARTMENTS_MEDI',\n",
       " 'NONLIVINGAREA_MEDI',\n",
       " 'FONDKAPREMONT_MODE',\n",
       " 'HOUSETYPE_MODE',\n",
       " 'TOTALAREA_MODE',\n",
       " 'WALLSMATERIAL_MODE',\n",
       " 'EMERGENCYSTATE_MODE']"
      ]
     },
     "execution_count": 3,
     "metadata": {},
     "output_type": "execute_result"
    }
   ],
   "source": [
    "#We will check the the list of those columns who has null values more than 40%, so that we are sure before dropping them.\n",
    "Bool= (df.isnull().sum()/df.shape[0])*100>40.0\n",
    "na_columns= [df.columns[i] for i in np.where(Bool)[0]]\n",
    "na_columns"
   ]
  },
  {
   "cell_type": "code",
   "execution_count": 4,
   "id": "6a26e3e9",
   "metadata": {},
   "outputs": [
    {
     "name": "stdout",
     "output_type": "stream",
     "text": [
      "49\n"
     ]
    }
   ],
   "source": [
    "print(len([df.columns[i] for i in np.where(Bool)[0]]))"
   ]
  },
  {
   "cell_type": "code",
   "execution_count": 5,
   "id": "37f995f5",
   "metadata": {},
   "outputs": [
    {
     "data": {
      "text/plain": [
       "['OWN_CAR_AGE',\n",
       " 'EXT_SOURCE_1',\n",
       " 'APARTMENTS_AVG',\n",
       " 'BASEMENTAREA_AVG',\n",
       " 'YEARS_BEGINEXPLUATATION_AVG',\n",
       " 'YEARS_BUILD_AVG',\n",
       " 'COMMONAREA_AVG',\n",
       " 'ELEVATORS_AVG',\n",
       " 'ENTRANCES_AVG',\n",
       " 'FLOORSMAX_AVG',\n",
       " 'FLOORSMIN_AVG',\n",
       " 'LANDAREA_AVG',\n",
       " 'LIVINGAPARTMENTS_AVG',\n",
       " 'LIVINGAREA_AVG',\n",
       " 'NONLIVINGAPARTMENTS_AVG',\n",
       " 'NONLIVINGAREA_AVG',\n",
       " 'APARTMENTS_MODE',\n",
       " 'BASEMENTAREA_MODE',\n",
       " 'YEARS_BEGINEXPLUATATION_MODE',\n",
       " 'YEARS_BUILD_MODE',\n",
       " 'COMMONAREA_MODE',\n",
       " 'ELEVATORS_MODE',\n",
       " 'ENTRANCES_MODE',\n",
       " 'FLOORSMAX_MODE',\n",
       " 'FLOORSMIN_MODE',\n",
       " 'LANDAREA_MODE',\n",
       " 'LIVINGAPARTMENTS_MODE',\n",
       " 'LIVINGAREA_MODE',\n",
       " 'NONLIVINGAPARTMENTS_MODE',\n",
       " 'NONLIVINGAREA_MODE',\n",
       " 'APARTMENTS_MEDI',\n",
       " 'BASEMENTAREA_MEDI',\n",
       " 'YEARS_BEGINEXPLUATATION_MEDI',\n",
       " 'YEARS_BUILD_MEDI',\n",
       " 'COMMONAREA_MEDI',\n",
       " 'ELEVATORS_MEDI',\n",
       " 'ENTRANCES_MEDI',\n",
       " 'FLOORSMAX_MEDI',\n",
       " 'FLOORSMIN_MEDI',\n",
       " 'LANDAREA_MEDI',\n",
       " 'LIVINGAPARTMENTS_MEDI',\n",
       " 'LIVINGAREA_MEDI',\n",
       " 'NONLIVINGAPARTMENTS_MEDI',\n",
       " 'NONLIVINGAREA_MEDI',\n",
       " 'FONDKAPREMONT_MODE',\n",
       " 'HOUSETYPE_MODE',\n",
       " 'TOTALAREA_MODE',\n",
       " 'WALLSMATERIAL_MODE',\n",
       " 'EMERGENCYSTATE_MODE']"
      ]
     },
     "execution_count": 5,
     "metadata": {},
     "output_type": "execute_result"
    }
   ],
   "source": [
    "#An alternate way to check those columns who has null values more than 40%, so that we are sure before dropping them.\n",
    "list(((df.isnull().sum()/df.shape[0])*100>40.0)[(df.isnull().sum()/df.shape[0])*100>40.0].index)"
   ]
  },
  {
   "cell_type": "code",
   "execution_count": 4,
   "id": "41d4c4ef",
   "metadata": {},
   "outputs": [],
   "source": [
    "#After having a look above, we can go ahead and drop the above columns since they don't seem to be afecting our analysis.\n",
    "df.drop(labels= na_columns, axis=1, inplace=True)"
   ]
  },
  {
   "cell_type": "code",
   "execution_count": 5,
   "id": "b5b7aef5",
   "metadata": {},
   "outputs": [
    {
     "data": {
      "text/plain": [
       "(307511, 73)"
      ]
     },
     "execution_count": 5,
     "metadata": {},
     "output_type": "execute_result"
    }
   ],
   "source": [
    "df.shape #(To check if the columns are dropped successfully)"
   ]
  },
  {
   "cell_type": "markdown",
   "id": "0a098678",
   "metadata": {},
   "source": [
    "**We will now go ahead and check if each column is in the correct data type. "
   ]
  },
  {
   "cell_type": "code",
   "execution_count": 11,
   "id": "1883d2ee",
   "metadata": {},
   "outputs": [
    {
     "data": {
      "text/plain": [
       "SK_ID_CURR                       int64\n",
       "TARGET                           int64\n",
       "NAME_CONTRACT_TYPE              object\n",
       "CODE_GENDER                     object\n",
       "FLAG_OWN_CAR                    object\n",
       "FLAG_OWN_REALTY                 object\n",
       "CNT_CHILDREN                     int64\n",
       "AMT_INCOME_TOTAL               float64\n",
       "AMT_CREDIT                     float64\n",
       "AMT_ANNUITY                    float64\n",
       "AMT_GOODS_PRICE                float64\n",
       "NAME_TYPE_SUITE                 object\n",
       "NAME_INCOME_TYPE                object\n",
       "NAME_EDUCATION_TYPE             object\n",
       "NAME_FAMILY_STATUS              object\n",
       "NAME_HOUSING_TYPE               object\n",
       "REGION_POPULATION_RELATIVE     float64\n",
       "DAYS_BIRTH                       int64\n",
       "DAYS_EMPLOYED                    int64\n",
       "DAYS_REGISTRATION              float64\n",
       "DAYS_ID_PUBLISH                  int64\n",
       "FLAG_MOBIL                       int64\n",
       "FLAG_EMP_PHONE                   int64\n",
       "FLAG_WORK_PHONE                  int64\n",
       "FLAG_CONT_MOBILE                 int64\n",
       "FLAG_PHONE                       int64\n",
       "FLAG_EMAIL                       int64\n",
       "OCCUPATION_TYPE                 object\n",
       "CNT_FAM_MEMBERS                float64\n",
       "REGION_RATING_CLIENT             int64\n",
       "REGION_RATING_CLIENT_W_CITY      int64\n",
       "WEEKDAY_APPR_PROCESS_START      object\n",
       "HOUR_APPR_PROCESS_START          int64\n",
       "REG_REGION_NOT_LIVE_REGION       int64\n",
       "REG_REGION_NOT_WORK_REGION       int64\n",
       "LIVE_REGION_NOT_WORK_REGION      int64\n",
       "REG_CITY_NOT_LIVE_CITY           int64\n",
       "REG_CITY_NOT_WORK_CITY           int64\n",
       "LIVE_CITY_NOT_WORK_CITY          int64\n",
       "ORGANIZATION_TYPE               object\n",
       "EXT_SOURCE_2                   float64\n",
       "EXT_SOURCE_3                   float64\n",
       "OBS_30_CNT_SOCIAL_CIRCLE       float64\n",
       "DEF_30_CNT_SOCIAL_CIRCLE       float64\n",
       "OBS_60_CNT_SOCIAL_CIRCLE       float64\n",
       "DEF_60_CNT_SOCIAL_CIRCLE       float64\n",
       "DAYS_LAST_PHONE_CHANGE         float64\n",
       "FLAG_DOCUMENT_2                  int64\n",
       "FLAG_DOCUMENT_3                  int64\n",
       "FLAG_DOCUMENT_4                  int64\n",
       "FLAG_DOCUMENT_5                  int64\n",
       "FLAG_DOCUMENT_6                  int64\n",
       "FLAG_DOCUMENT_7                  int64\n",
       "FLAG_DOCUMENT_8                  int64\n",
       "FLAG_DOCUMENT_9                  int64\n",
       "FLAG_DOCUMENT_10                 int64\n",
       "FLAG_DOCUMENT_11                 int64\n",
       "FLAG_DOCUMENT_12                 int64\n",
       "FLAG_DOCUMENT_13                 int64\n",
       "FLAG_DOCUMENT_14                 int64\n",
       "FLAG_DOCUMENT_15                 int64\n",
       "FLAG_DOCUMENT_16                 int64\n",
       "FLAG_DOCUMENT_17                 int64\n",
       "FLAG_DOCUMENT_18                 int64\n",
       "FLAG_DOCUMENT_19                 int64\n",
       "FLAG_DOCUMENT_20                 int64\n",
       "FLAG_DOCUMENT_21                 int64\n",
       "AMT_REQ_CREDIT_BUREAU_HOUR     float64\n",
       "AMT_REQ_CREDIT_BUREAU_DAY      float64\n",
       "AMT_REQ_CREDIT_BUREAU_WEEK     float64\n",
       "AMT_REQ_CREDIT_BUREAU_MON      float64\n",
       "AMT_REQ_CREDIT_BUREAU_QRT      float64\n",
       "AMT_REQ_CREDIT_BUREAU_YEAR     float64\n",
       "dtype: object"
      ]
     },
     "execution_count": 11,
     "metadata": {},
     "output_type": "execute_result"
    }
   ],
   "source": [
    "df.dtypes"
   ]
  },
  {
   "cell_type": "markdown",
   "id": "c5b4ae90",
   "metadata": {},
   "source": [
    "Since, I could feel the dataset has still too many attributes left, it is not an ideal way to first check the data type of each an every columns before we start our analysis. We will rather pick 5 set of most important variables as per our understanding. We will check if they are in the correct data type format and then start our analysis with respect to our Target variable which is the \"TARGET\" column.\n",
    "This way we are going to pick 20 to 25 set of important variables and we will perform univariate analysis first."
   ]
  },
  {
   "cell_type": "markdown",
   "id": "55e6ef03",
   "metadata": {},
   "source": [
    "Before I proceed further, let me have a look on my TARGET column iself and plot a graph over it."
   ]
  },
  {
   "cell_type": "code",
   "execution_count": 31,
   "id": "55fb4885",
   "metadata": {},
   "outputs": [
    {
     "data": {
      "text/plain": [
       "0    0.919271\n",
       "1    0.080729\n",
       "Name: TARGET, dtype: float64"
      ]
     },
     "execution_count": 31,
     "metadata": {},
     "output_type": "execute_result"
    }
   ],
   "source": [
    "df.TARGET.value_counts(normalize=True)"
   ]
  },
  {
   "cell_type": "code",
   "execution_count": 33,
   "id": "fb612789",
   "metadata": {},
   "outputs": [
    {
     "data": {
      "image/png": "[encoded data removed]",
      "text/plain": [
       "<Figure size 432x288 with 1 Axes>"
      ]
     },
     "metadata": {
      "needs_background": "light"
     },
     "output_type": "display_data"
    }
   ],
   "source": [
    "df.TARGET.value_counts(normalize=True).plot.bar()\n",
    "plt.show()"
   ]
  },
  {
   "cell_type": "markdown",
   "id": "50a9274b",
   "metadata": {},
   "source": [
    "- The data suggests that almost 8% of the people are defaulters."
   ]
  },
  {
   "cell_type": "markdown",
   "id": "d79e0857",
   "metadata": {},
   "source": [
    "Lets proceed further and do some more analysis to get more insights on the kind of applicants and the trends they have been following.\n",
    "To start with, lets pick our first 5 set of variables as \"CODE_GENDER, FLAG_OWN_CAR, FLAG_OWN_REALTY, CNT_CHILDREN, AMT_INCOME_TOTAL\" and check their datatypes."
   ]
  },
  {
   "cell_type": "code",
   "execution_count": 33,
   "id": "35bf09e1",
   "metadata": {},
   "outputs": [
    {
     "data": {
      "text/plain": [
       "CODE_GENDER          object\n",
       "FLAG_OWN_CAR         object\n",
       "FLAG_OWN_REALTY      object\n",
       "CNT_CHILDREN          int64\n",
       "AMT_INCOME_TOTAL    float64\n",
       "dtype: object"
      ]
     },
     "execution_count": 33,
     "metadata": {},
     "output_type": "execute_result"
    }
   ],
   "source": [
    "df[['CODE_GENDER', 'FLAG_OWN_CAR', 'FLAG_OWN_REALTY', 'CNT_CHILDREN', 'AMT_INCOME_TOTAL']].dtypes"
   ]
  },
  {
   "cell_type": "markdown",
   "id": "e9a160c6",
   "metadata": {},
   "source": [
    "Since the data type looks aboslutely fine, lets start our unvariate analysis."
   ]
  },
  {
   "cell_type": "code",
   "execution_count": 34,
   "id": "878788f9",
   "metadata": {},
   "outputs": [
    {
     "data": {
      "text/plain": [
       "F      202448\n",
       "M      105059\n",
       "XNA         4\n",
       "Name: CODE_GENDER, dtype: int64"
      ]
     },
     "execution_count": 34,
     "metadata": {},
     "output_type": "execute_result"
    }
   ],
   "source": [
    "df.CODE_GENDER.value_counts()"
   ]
  },
  {
   "cell_type": "code",
   "execution_count": 36,
   "id": "8cf3b0c2",
   "metadata": {},
   "outputs": [
    {
     "data": {
      "image/png": "[encoded data removed]",
      "text/plain": [
       "<Figure size 432x288 with 1 Axes>"
      ]
     },
     "metadata": {
      "needs_background": "light"
     },
     "output_type": "display_data"
    }
   ],
   "source": [
    "#plotting the bar for each gender type who have applied for the loan.\n",
    "df.CODE_GENDER.value_counts(normalize=True).plot.barh()\n",
    "plt.show()"
   ]
  },
  {
   "cell_type": "markdown",
   "id": "0831a376",
   "metadata": {},
   "source": [
    "- This concludes female population is significantly high in terms of loan application."
   ]
  },
  {
   "cell_type": "code",
   "execution_count": 37,
   "id": "15400ab7",
   "metadata": {},
   "outputs": [
    {
     "data": {
      "text/plain": [
       "N    202924\n",
       "Y    104587\n",
       "Name: FLAG_OWN_CAR, dtype: int64"
      ]
     },
     "execution_count": 37,
     "metadata": {},
     "output_type": "execute_result"
    }
   ],
   "source": [
    "df.FLAG_OWN_CAR.value_counts()"
   ]
  },
  {
   "cell_type": "code",
   "execution_count": 38,
   "id": "ad9ec959",
   "metadata": {},
   "outputs": [
    {
     "data": {
      "image/png": "[encoded data removed]",
      "text/plain": [
       "<Figure size 432x288 with 1 Axes>"
      ]
     },
     "metadata": {
      "needs_background": "light"
     },
     "output_type": "display_data"
    }
   ],
   "source": [
    "#plotting the bar to check if the applicants own a car or not.\n",
    "df.FLAG_OWN_CAR.value_counts(normalize=True).plot.barh()\n",
    "plt.show()"
   ]
  },
  {
   "cell_type": "markdown",
   "id": "dfd1ce56",
   "metadata": {},
   "source": [
    "- This concludes the population which doesn't own a car is significantly high in terms of loan application."
   ]
  },
  {
   "cell_type": "code",
   "execution_count": 39,
   "id": "b37bfd01",
   "metadata": {},
   "outputs": [
    {
     "data": {
      "text/plain": [
       "Y    213312\n",
       "N     94199\n",
       "Name: FLAG_OWN_REALTY, dtype: int64"
      ]
     },
     "execution_count": 39,
     "metadata": {},
     "output_type": "execute_result"
    }
   ],
   "source": [
    "df.FLAG_OWN_REALTY.value_counts()"
   ]
  },
  {
   "cell_type": "code",
   "execution_count": 40,
   "id": "9e210a4b",
   "metadata": {},
   "outputs": [
    {
     "data": {
      "image/png": "[encoded data removed]",
      "text/plain": [
       "<Figure size 432x288 with 1 Axes>"
      ]
     },
     "metadata": {
      "needs_background": "light"
     },
     "output_type": "display_data"
    }
   ],
   "source": [
    "#plotting the bar to check if the applicants own a real estate property or not.\n",
    "df.FLAG_OWN_REALTY.value_counts(normalize=True).plot.barh()\n",
    "plt.show()"
   ]
  },
  {
   "cell_type": "markdown",
   "id": "c6485cfc",
   "metadata": {},
   "source": [
    "- This concludes the population which owns a real estate property is significantly high in terms of loan application."
   ]
  },
  {
   "cell_type": "code",
   "execution_count": 122,
   "id": "21c76d21",
   "metadata": {},
   "outputs": [
    {
     "data": {
      "text/plain": [
       "0     0.700368\n",
       "1     0.198754\n",
       "2     0.086986\n",
       "3     0.012087\n",
       "4     0.001395\n",
       "5     0.000273\n",
       "6     0.000068\n",
       "7     0.000023\n",
       "14    0.000010\n",
       "8     0.000007\n",
       "9     0.000007\n",
       "12    0.000007\n",
       "10    0.000007\n",
       "19    0.000007\n",
       "11    0.000003\n",
       "Name: CNT_CHILDREN, dtype: float64"
      ]
     },
     "execution_count": 122,
     "metadata": {},
     "output_type": "execute_result"
    }
   ],
   "source": [
    "df.CNT_CHILDREN.value_counts(normalize=True)"
   ]
  },
  {
   "cell_type": "code",
   "execution_count": 125,
   "id": "dffb816e",
   "metadata": {},
   "outputs": [
    {
     "data": {
      "image/png": "[encoded data removed]",
      "text/plain": [
       "<Figure size 1296x360 with 1 Axes>"
      ]
     },
     "metadata": {
      "needs_background": "light"
     },
     "output_type": "display_data"
    }
   ],
   "source": [
    "plt.figure(figsize=[18,5])\n",
    "df.CNT_CHILDREN.value_counts(normalize=True).plot.bar()\n",
    "plt.show()"
   ]
  },
  {
   "cell_type": "markdown",
   "id": "26f442b8",
   "metadata": {},
   "source": [
    "- This concludes: Amongst the applicants, almost 70% of the population doesn't have any child and almost 20% have single child."
   ]
  },
  {
   "cell_type": "code",
   "execution_count": 61,
   "id": "4819227e",
   "metadata": {},
   "outputs": [
    {
     "data": {
      "text/plain": [
       "count    3.075110e+05\n",
       "mean     1.687979e+05\n",
       "std      2.371231e+05\n",
       "min      2.565000e+04\n",
       "25%      1.125000e+05\n",
       "50%      1.471500e+05\n",
       "75%      2.025000e+05\n",
       "max      1.170000e+08\n",
       "Name: AMT_INCOME_TOTAL, dtype: float64"
      ]
     },
     "execution_count": 61,
     "metadata": {},
     "output_type": "execute_result"
    }
   ],
   "source": [
    "df.AMT_INCOME_TOTAL.describe()"
   ]
  },
  {
   "cell_type": "markdown",
   "id": "37a8be30",
   "metadata": {},
   "source": [
    "Since AMT_INCOME_TOTAL column has values in float, it might not give us an easy to understand insights. I am rather going to convert this column to an integer type since, this won't affect our analysis going further and would rather simplify it more."
   ]
  },
  {
   "cell_type": "code",
   "execution_count": 6,
   "id": "69e9639f",
   "metadata": {},
   "outputs": [],
   "source": [
    "df.AMT_INCOME_TOTAL= df.AMT_INCOME_TOTAL.astype('int64')"
   ]
  },
  {
   "cell_type": "code",
   "execution_count": 7,
   "id": "efa738d4",
   "metadata": {},
   "outputs": [],
   "source": [
    "#Just to avoid the repercussions if there is any negative values entered by mistake.\n",
    "df.AMT_INCOME_TOTAL= df.AMT_INCOME_TOTAL.abs()"
   ]
  },
  {
   "cell_type": "code",
   "execution_count": 10,
   "id": "3f04c3b6",
   "metadata": {},
   "outputs": [
    {
     "data": {
      "image/png": "[encoded data removed]",
      "text/plain": [
       "<Figure size 1080x216 with 1 Axes>"
      ]
     },
     "metadata": {
      "needs_background": "light"
     },
     "output_type": "display_data"
    }
   ],
   "source": [
    "plt.figure(figsize=[15,3])\n",
    "sns.boxplot(df.AMT_INCOME_TOTAL)\n",
    "plt.show()"
   ]
  },
  {
   "cell_type": "markdown",
   "id": "9501de51",
   "metadata": {},
   "source": [
    "- In AMT_INCOME_TOTAL only single high value data point is present as an outlier. \n",
    "- Also concludes, people with lower(lowest) income are most likely to apply for a loan."
   ]
  },
  {
   "cell_type": "markdown",
   "id": "69b83b58",
   "metadata": {},
   "source": [
    "Lets pick our next 5 set of variables as \"NAME_CONTRACT_TYPE, AMT_CREDIT, AMT_ANNUITY, NAME_INCOME_TYPE, NAME_EDUCATION_TYPE\" and check their datatypes."
   ]
  },
  {
   "cell_type": "code",
   "execution_count": 75,
   "id": "fda650bf",
   "metadata": {},
   "outputs": [
    {
     "data": {
      "text/plain": [
       "NAME_CONTRACT_TYPE      object\n",
       "AMT_CREDIT             float64\n",
       "AMT_ANNUITY            float64\n",
       "NAME_INCOME_TYPE        object\n",
       "NAME_EDUCATION_TYPE     object\n",
       "dtype: object"
      ]
     },
     "execution_count": 75,
     "metadata": {},
     "output_type": "execute_result"
    }
   ],
   "source": [
    "df[['NAME_CONTRACT_TYPE', 'AMT_CREDIT', 'AMT_ANNUITY', 'NAME_INCOME_TYPE', 'NAME_EDUCATION_TYPE']].dtypes"
   ]
  },
  {
   "cell_type": "markdown",
   "id": "6f986ddc",
   "metadata": {},
   "source": [
    "Since Data types seems to be correct for the selected columns, we will proceed further with our analysis."
   ]
  },
  {
   "cell_type": "code",
   "execution_count": 76,
   "id": "17ecac2f",
   "metadata": {},
   "outputs": [
    {
     "data": {
      "text/plain": [
       "Cash loans         278232\n",
       "Revolving loans     29279\n",
       "Name: NAME_CONTRACT_TYPE, dtype: int64"
      ]
     },
     "execution_count": 76,
     "metadata": {},
     "output_type": "execute_result"
    }
   ],
   "source": [
    "df.NAME_CONTRACT_TYPE.value_counts()"
   ]
  },
  {
   "cell_type": "code",
   "execution_count": 77,
   "id": "015aa78a",
   "metadata": {},
   "outputs": [
    {
     "data": {
      "image/png": "[encoded data removed]",
      "text/plain": [
       "<Figure size 432x288 with 1 Axes>"
      ]
     },
     "metadata": {
      "needs_background": "light"
     },
     "output_type": "display_data"
    }
   ],
   "source": [
    "df.NAME_CONTRACT_TYPE.value_counts().plot.barh()\n",
    "plt.show()"
   ]
  },
  {
   "cell_type": "markdown",
   "id": "e6bb40a1",
   "metadata": {},
   "source": [
    "- People taking cash loans seems to apply more for a loan as per the plotted bar above."
   ]
  },
  {
   "cell_type": "code",
   "execution_count": 79,
   "id": "932ff2a6",
   "metadata": {},
   "outputs": [
    {
     "data": {
      "text/plain": [
       "count    3.075110e+05\n",
       "mean     5.990260e+05\n",
       "std      4.024908e+05\n",
       "min      4.500000e+04\n",
       "25%      2.700000e+05\n",
       "50%      5.135310e+05\n",
       "75%      8.086500e+05\n",
       "max      4.050000e+06\n",
       "Name: AMT_CREDIT, dtype: float64"
      ]
     },
     "execution_count": 79,
     "metadata": {},
     "output_type": "execute_result"
    }
   ],
   "source": [
    "df.AMT_CREDIT.describe()"
   ]
  },
  {
   "cell_type": "code",
   "execution_count": 8,
   "id": "4771cbea",
   "metadata": {},
   "outputs": [],
   "source": [
    "#Just to avoid the repercussions if there is any negative values entered by mistake.\n",
    "df.AMT_CREDIT= df.AMT_CREDIT.abs()"
   ]
  },
  {
   "cell_type": "code",
   "execution_count": 88,
   "id": "236cf26d",
   "metadata": {},
   "outputs": [
    {
     "data": {
      "image/png": "[encoded data removed]",
      "text/plain": [
       "<Figure size 1080x216 with 1 Axes>"
      ]
     },
     "metadata": {
      "needs_background": "light"
     },
     "output_type": "display_data"
    }
   ],
   "source": [
    "plt.figure(figsize=[15,3])\n",
    "sns.boxplot(df.AMT_CREDIT)\n",
    "plt.show()"
   ]
  },
  {
   "cell_type": "markdown",
   "id": "75d54108",
   "metadata": {},
   "source": [
    "- This reflects, majority of the people or say (50%) of the population who apply for loan are getting approved for the loan amount between 2.5L to 5.0L."
   ]
  },
  {
   "cell_type": "code",
   "execution_count": 89,
   "id": "d2cc530d",
   "metadata": {},
   "outputs": [
    {
     "data": {
      "text/plain": [
       "count    307499.000000\n",
       "mean      27108.573909\n",
       "std       14493.737315\n",
       "min        1615.500000\n",
       "25%       16524.000000\n",
       "50%       24903.000000\n",
       "75%       34596.000000\n",
       "max      258025.500000\n",
       "Name: AMT_ANNUITY, dtype: float64"
      ]
     },
     "execution_count": 89,
     "metadata": {},
     "output_type": "execute_result"
    }
   ],
   "source": [
    "df.AMT_ANNUITY.describe()"
   ]
  },
  {
   "cell_type": "code",
   "execution_count": 9,
   "id": "4ed1a9e3",
   "metadata": {},
   "outputs": [],
   "source": [
    "#Just to avoid the repercussions if there is any negative values entered by mistake.\n",
    "df.AMT_ANNUITY= df.AMT_ANNUITY.abs()"
   ]
  },
  {
   "cell_type": "code",
   "execution_count": 91,
   "id": "830a4a60",
   "metadata": {},
   "outputs": [
    {
     "data": {
      "image/png": "[encoded data removed]",
      "text/plain": [
       "<Figure size 1080x216 with 1 Axes>"
      ]
     },
     "metadata": {
      "needs_background": "light"
     },
     "output_type": "display_data"
    }
   ],
   "source": [
    "plt.figure(figsize=[15,3])\n",
    "sns.boxplot(df.AMT_ANNUITY)\n",
    "plt.show()"
   ]
  },
  {
   "cell_type": "markdown",
   "id": "2f69da36",
   "metadata": {},
   "source": [
    "- This concludes 50% of the applicants have annuity amount between 15K to 35K. However, the number of applicants significantly increases in the department where annuity is somewhat more than 60-65K.\n"
   ]
  },
  {
   "cell_type": "code",
   "execution_count": 93,
   "id": "62fb1b3c",
   "metadata": {},
   "outputs": [
    {
     "data": {
      "text/plain": [
       "Working                 0.516320\n",
       "Commercial associate    0.232892\n",
       "Pensioner               0.180033\n",
       "State servant           0.070576\n",
       "Unemployed              0.000072\n",
       "Student                 0.000059\n",
       "Businessman             0.000033\n",
       "Maternity leave         0.000016\n",
       "Name: NAME_INCOME_TYPE, dtype: float64"
      ]
     },
     "execution_count": 93,
     "metadata": {},
     "output_type": "execute_result"
    }
   ],
   "source": [
    "df.NAME_INCOME_TYPE.value_counts(normalize=True)"
   ]
  },
  {
   "cell_type": "code",
   "execution_count": 96,
   "id": "1b07700d",
   "metadata": {},
   "outputs": [
    {
     "data": {
      "image/png": "[encoded data removed]",
      "text/plain": [
       "<Figure size 720x360 with 1 Axes>"
      ]
     },
     "metadata": {
      "needs_background": "light"
     },
     "output_type": "display_data"
    }
   ],
   "source": [
    "plt.figure(figsize=[10,5])\n",
    "df.NAME_INCOME_TYPE.value_counts(normalize=True).plot.barh()\n",
    "plt.show()"
   ]
  },
  {
   "cell_type": "markdown",
   "id": "abf5cb63",
   "metadata": {},
   "source": [
    "- We can clearly see which income category has the most number of applicants and come to the conclusion that people who have a source of income are most likely to apply for a loan. However, the set of people who probably have the best source of income i.e. Businessmen are least likely to apply for a loan."
   ]
  },
  {
   "cell_type": "code",
   "execution_count": 100,
   "id": "dbfb8762",
   "metadata": {},
   "outputs": [
    {
     "data": {
      "text/plain": [
       "Secondary / secondary special    0.710189\n",
       "Higher education                 0.243448\n",
       "Incomplete higher                0.033420\n",
       "Lower secondary                  0.012409\n",
       "Academic degree                  0.000533\n",
       "Name: NAME_EDUCATION_TYPE, dtype: float64"
      ]
     },
     "execution_count": 100,
     "metadata": {},
     "output_type": "execute_result"
    }
   ],
   "source": [
    "df.NAME_EDUCATION_TYPE.value_counts(normalize=True)"
   ]
  },
  {
   "cell_type": "code",
   "execution_count": 101,
   "id": "39602741",
   "metadata": {},
   "outputs": [
    {
     "data": {
      "image/png": "[encoded data removed]",
      "text/plain": [
       "<Figure size 720x360 with 1 Axes>"
      ]
     },
     "metadata": {
      "needs_background": "light"
     },
     "output_type": "display_data"
    }
   ],
   "source": [
    "plt.figure(figsize=[10,5])\n",
    "df.NAME_EDUCATION_TYPE.value_counts(normalize=True).plot.barh()\n",
    "plt.show()"
   ]
  },
  {
   "cell_type": "markdown",
   "id": "dc9f871d",
   "metadata": {},
   "source": [
    "- This concludes, more educated people are more likely to apply for a loan."
   ]
  },
  {
   "cell_type": "markdown",
   "id": "f85807ac",
   "metadata": {},
   "source": [
    "Lets pick our next 5 set of variables as \"NAME_HOUSING_TYPE, REGION_POPULATION_RELATIVE, DAYS_BIRTH, DAYS_EMPLOYED, DAYS_REGISTRATION\" and check their datatypes."
   ]
  },
  {
   "cell_type": "code",
   "execution_count": 102,
   "id": "3b7b551d",
   "metadata": {},
   "outputs": [
    {
     "data": {
      "text/plain": [
       "NAME_HOUSING_TYPE              object\n",
       "REGION_POPULATION_RELATIVE    float64\n",
       "DAYS_BIRTH                      int64\n",
       "DAYS_EMPLOYED                   int64\n",
       "DAYS_REGISTRATION             float64\n",
       "dtype: object"
      ]
     },
     "execution_count": 102,
     "metadata": {},
     "output_type": "execute_result"
    }
   ],
   "source": [
    "df[['NAME_HOUSING_TYPE', 'REGION_POPULATION_RELATIVE', 'DAYS_BIRTH', 'DAYS_EMPLOYED', 'DAYS_REGISTRATION']].dtypes"
   ]
  },
  {
   "cell_type": "code",
   "execution_count": 103,
   "id": "74dd346a",
   "metadata": {},
   "outputs": [
    {
     "data": {
      "text/plain": [
       "House / apartment      0.887344\n",
       "With parents           0.048258\n",
       "Municipal apartment    0.036366\n",
       "Rented apartment       0.015873\n",
       "Office apartment       0.008510\n",
       "Co-op apartment        0.003649\n",
       "Name: NAME_HOUSING_TYPE, dtype: float64"
      ]
     },
     "execution_count": 103,
     "metadata": {},
     "output_type": "execute_result"
    }
   ],
   "source": [
    "df.NAME_HOUSING_TYPE.value_counts(normalize=True)"
   ]
  },
  {
   "cell_type": "code",
   "execution_count": 105,
   "id": "4c813838",
   "metadata": {},
   "outputs": [
    {
     "data": {
      "image/png": "[encoded data removed]",
      "text/plain": [
       "<Figure size 720x360 with 1 Axes>"
      ]
     },
     "metadata": {
      "needs_background": "light"
     },
     "output_type": "display_data"
    }
   ],
   "source": [
    "plt.figure(figsize=[10,5])\n",
    "df.NAME_HOUSING_TYPE.value_counts(normalize=True).plot.barh()\n",
    "plt.show()"
   ]
  },
  {
   "cell_type": "markdown",
   "id": "5abd47cb",
   "metadata": {},
   "source": [
    "- Here we may conclude that people having their own houses and apartments are most likely to apply for a loan.\n",
    "- We may also have a look over the categories as well and figure out how likely they are to apply for a loan."
   ]
  },
  {
   "cell_type": "code",
   "execution_count": 10,
   "id": "c5ea793c",
   "metadata": {},
   "outputs": [],
   "source": [
    "#Just to avoid the repercussions if there is any negative values entered by mistake.\n",
    "df.DAYS_BIRTH= df.DAYS_BIRTH.abs()"
   ]
  },
  {
   "cell_type": "markdown",
   "id": "2603dac0",
   "metadata": {},
   "source": [
    "It will look more meaningful if we divide our DAYS_BIRTH column by 365 to convert the age into years."
   ]
  },
  {
   "cell_type": "code",
   "execution_count": 11,
   "id": "299cec2a",
   "metadata": {},
   "outputs": [],
   "source": [
    "df.DAYS_BIRTH= df.DAYS_BIRTH/365\n",
    "df.DAYS_BIRTH= df.DAYS_BIRTH.apply(np.floor) #Function I'm using to round the decimal places to 0."
   ]
  },
  {
   "cell_type": "code",
   "execution_count": 15,
   "id": "11d54cdb",
   "metadata": {},
   "outputs": [
    {
     "data": {
      "text/plain": [
       "0    25.0\n",
       "1    45.0\n",
       "2    52.0\n",
       "3    52.0\n",
       "4    54.0\n",
       "Name: DAYS_BIRTH, dtype: float64"
      ]
     },
     "execution_count": 15,
     "metadata": {},
     "output_type": "execute_result"
    }
   ],
   "source": [
    "df.DAYS_BIRTH.head()"
   ]
  },
  {
   "cell_type": "code",
   "execution_count": 112,
   "id": "c65c1e9f",
   "metadata": {},
   "outputs": [
    {
     "data": {
      "text/plain": [
       "dtype('float64')"
      ]
     },
     "execution_count": 112,
     "metadata": {},
     "output_type": "execute_result"
    }
   ],
   "source": [
    "df.DAYS_BIRTH.dtypes"
   ]
  },
  {
   "cell_type": "code",
   "execution_count": 12,
   "id": "6d15eba6",
   "metadata": {},
   "outputs": [
    {
     "data": {
      "text/plain": [
       "0    25\n",
       "1    45\n",
       "2    52\n",
       "3    52\n",
       "4    54\n",
       "Name: DAYS_BIRTH, dtype: int64"
      ]
     },
     "execution_count": 12,
     "metadata": {},
     "output_type": "execute_result"
    }
   ],
   "source": [
    "#Lets convert the age into integers before we proceed with further analysis.\n",
    "df.DAYS_BIRTH= df.DAYS_BIRTH.astype('int64')\n",
    "df.DAYS_BIRTH.head()"
   ]
  },
  {
   "cell_type": "code",
   "execution_count": 17,
   "id": "d6a2e693",
   "metadata": {},
   "outputs": [
    {
     "data": {
      "text/plain": [
       "count    307511.000000\n",
       "mean         43.435968\n",
       "std          11.954593\n",
       "min          20.000000\n",
       "25%          34.000000\n",
       "50%          43.000000\n",
       "75%          53.000000\n",
       "max          69.000000\n",
       "Name: DAYS_BIRTH, dtype: float64"
      ]
     },
     "execution_count": 17,
     "metadata": {},
     "output_type": "execute_result"
    }
   ],
   "source": [
    "df.DAYS_BIRTH.describe()"
   ]
  },
  {
   "cell_type": "code",
   "execution_count": 118,
   "id": "ccf6ceda",
   "metadata": {},
   "outputs": [
    {
     "data": {
      "image/png": "[encoded data removed]",
      "text/plain": [
       "<Figure size 432x288 with 1 Axes>"
      ]
     },
     "metadata": {
      "needs_background": "light"
     },
     "output_type": "display_data"
    }
   ],
   "source": [
    "sns.boxplot(df.DAYS_BIRTH)\n",
    "plt.show()"
   ]
  },
  {
   "cell_type": "markdown",
   "id": "f09b66ba",
   "metadata": {},
   "source": [
    "- This concludes 50% of the people's age lie within the range of 34 to 53 yrs. Also, 75% of the oeople who apply for the loan are below 53 yrs."
   ]
  },
  {
   "cell_type": "code",
   "execution_count": 13,
   "id": "96d486aa",
   "metadata": {},
   "outputs": [],
   "source": [
    "#Just to avoid the repercussions if there is any negative values entered by mistake.\n",
    "df.DAYS_EMPLOYED= df.DAYS_EMPLOYED.abs()"
   ]
  },
  {
   "cell_type": "code",
   "execution_count": 14,
   "id": "214112a4",
   "metadata": {},
   "outputs": [],
   "source": [
    "df.DAYS_EMPLOYED= df.DAYS_EMPLOYED/365"
   ]
  },
  {
   "cell_type": "code",
   "execution_count": 149,
   "id": "0afc0672",
   "metadata": {},
   "outputs": [
    {
     "data": {
      "text/plain": [
       "count    307511.000000\n",
       "mean        185.547239\n",
       "std         382.037676\n",
       "min           0.000000\n",
       "25%           2.556164\n",
       "50%           6.079452\n",
       "75%          15.635616\n",
       "max        1000.665753\n",
       "Name: DAYS_EMPLOYED, dtype: float64"
      ]
     },
     "execution_count": 149,
     "metadata": {},
     "output_type": "execute_result"
    }
   ],
   "source": [
    "df.DAYS_EMPLOYED.describe()"
   ]
  },
  {
   "cell_type": "code",
   "execution_count": 146,
   "id": "153a7410",
   "metadata": {},
   "outputs": [
    {
     "data": {
      "image/png": "[encoded data removed]",
      "text/plain": [
       "<Figure size 720x216 with 1 Axes>"
      ]
     },
     "metadata": {
      "needs_background": "light"
     },
     "output_type": "display_data"
    }
   ],
   "source": [
    "plt.figure(figsize=[10,3])\n",
    "sns.boxplot(df.DAYS_EMPLOYED)\n",
    "plt.show()"
   ]
  },
  {
   "cell_type": "markdown",
   "id": "a3c0ce9d",
   "metadata": {},
   "source": [
    "**Since it doesn't look much informative as it contains some unreal values in the column. So, to have a beter insight lets take few quantile values till 80 percentile."
   ]
  },
  {
   "cell_type": "code",
   "execution_count": 154,
   "id": "d72443eb",
   "metadata": {},
   "outputs": [
    {
     "data": {
      "text/plain": [
       "count     8.000000\n",
       "mean      7.789041\n",
       "std       7.892453\n",
       "min       1.073973\n",
       "25%       2.839041\n",
       "50%       5.227397\n",
       "75%       9.267808\n",
       "max      25.172603\n",
       "Name: DAYS_EMPLOYED, dtype: float64"
      ]
     },
     "execution_count": 154,
     "metadata": {},
     "output_type": "execute_result"
    }
   ],
   "source": [
    "df.DAYS_EMPLOYED.quantile([0.1, 0.2, 0.3, 0.4, 0.5, 0.6, 0.7, 0.8]).describe()"
   ]
  },
  {
   "cell_type": "code",
   "execution_count": 148,
   "id": "985c9405",
   "metadata": {},
   "outputs": [
    {
     "data": {
      "image/png": "[encoded data removed]",
      "text/plain": [
       "<Figure size 720x216 with 1 Axes>"
      ]
     },
     "metadata": {
      "needs_background": "light"
     },
     "output_type": "display_data"
    }
   ],
   "source": [
    "plt.figure(figsize=[10,3])\n",
    "sns.boxplot(df.DAYS_EMPLOYED.quantile([0.1, 0.2, 0.3, 0.4, 0.5, 0.6, 0.7, 0.8]))\n",
    "plt.show()"
   ]
  },
  {
   "cell_type": "markdown",
   "id": "7dfbc92f",
   "metadata": {},
   "source": [
    "- Here we can easily conclude that almost 50% of the population within the range who have been working for more than 2.5yrs and less than 10 years. \n",
    "- Also, people working for more than 12 years seem less likely to apply for a loan and same goes with people working for less than an year."
   ]
  },
  {
   "cell_type": "code",
   "execution_count": 15,
   "id": "2374e65e",
   "metadata": {},
   "outputs": [],
   "source": [
    "#Just to avoid the repercussions if there is any negative values entered by mistake.\n",
    "df.DAYS_REGISTRATION= df.DAYS_REGISTRATION.abs()"
   ]
  },
  {
   "cell_type": "code",
   "execution_count": 16,
   "id": "4f250b69",
   "metadata": {},
   "outputs": [],
   "source": [
    "df.DAYS_REGISTRATION= df.DAYS_REGISTRATION/365"
   ]
  },
  {
   "cell_type": "code",
   "execution_count": 163,
   "id": "4b7750cd",
   "metadata": {},
   "outputs": [
    {
     "data": {
      "text/plain": [
       "count    307511.000000\n",
       "mean         13.660604\n",
       "std           9.651743\n",
       "min           0.000000\n",
       "25%           5.506849\n",
       "50%          12.339726\n",
       "75%          20.491781\n",
       "max          67.594521\n",
       "Name: DAYS_REGISTRATION, dtype: float64"
      ]
     },
     "execution_count": 163,
     "metadata": {},
     "output_type": "execute_result"
    }
   ],
   "source": [
    "df.DAYS_REGISTRATION.describe()"
   ]
  },
  {
   "cell_type": "code",
   "execution_count": 165,
   "id": "68f56633",
   "metadata": {},
   "outputs": [
    {
     "data": {
      "image/png": "[encoded data removed]",
      "text/plain": [
       "<Figure size 720x216 with 1 Axes>"
      ]
     },
     "metadata": {
      "needs_background": "light"
     },
     "output_type": "display_data"
    }
   ],
   "source": [
    "plt.figure(figsize=[10,3])\n",
    "sns.boxplot(df.DAYS_REGISTRATION)\n",
    "plt.show()"
   ]
  },
  {
   "cell_type": "markdown",
   "id": "641827b8",
   "metadata": {},
   "source": [
    "- 50% of the people who applied for the loan have done the registration within the range of (5.5 yrs to 20) yrs ago.\n",
    "- Kindly ignore the outliers, though we can certainly see a significant rise in number of applicants who have spent more than 42 yrs since the time of registration which is most likely seems to be a bit unreal."
   ]
  },
  {
   "cell_type": "markdown",
   "id": "7f19bf22",
   "metadata": {},
   "source": [
    "Lets pick our last 9 set of variables as \"DAYS_ID_PUBLISH, FLAG_EMP_PHONE, FLAG_MOBIL, FLAG_CONT_MOBILE, FLAG_PHONE, FLAG_EMAIL, OCCUPATION_TYPE, CNT_FAM_MEMBERS, REGION_RATING_CLIENT_W_CITY\" and check their datatypes."
   ]
  },
  {
   "cell_type": "code",
   "execution_count": 174,
   "id": "6c364a65",
   "metadata": {},
   "outputs": [
    {
     "data": {
      "text/plain": [
       "DAYS_ID_PUBLISH                float64\n",
       "FLAG_EMP_PHONE                   int64\n",
       "FLAG_MOBIL                       int64\n",
       "FLAG_CONT_MOBILE                 int64\n",
       "FLAG_PHONE                       int64\n",
       "FLAG_EMAIL                       int64\n",
       "OCCUPATION_TYPE                 object\n",
       "CNT_FAM_MEMBERS                float64\n",
       "REGION_RATING_CLIENT_W_CITY      int64\n",
       "dtype: object"
      ]
     },
     "execution_count": 174,
     "metadata": {},
     "output_type": "execute_result"
    }
   ],
   "source": [
    "df[['DAYS_ID_PUBLISH','FLAG_EMP_PHONE','FLAG_MOBIL','FLAG_CONT_MOBILE','FLAG_PHONE','FLAG_EMAIL','OCCUPATION_TYPE','CNT_FAM_MEMBERS','REGION_RATING_CLIENT_W_CITY']].dtypes"
   ]
  },
  {
   "cell_type": "code",
   "execution_count": 17,
   "id": "7b5c9655",
   "metadata": {},
   "outputs": [],
   "source": [
    "#Just to avoid the repercussions if there is any negative values entered by mistake.\n",
    "df.DAYS_ID_PUBLISH= df.DAYS_ID_PUBLISH.abs()"
   ]
  },
  {
   "cell_type": "code",
   "execution_count": 18,
   "id": "d1d8fb26",
   "metadata": {},
   "outputs": [],
   "source": [
    "df.DAYS_ID_PUBLISH= df.DAYS_ID_PUBLISH/365"
   ]
  },
  {
   "cell_type": "code",
   "execution_count": 170,
   "id": "5fa5947a",
   "metadata": {},
   "outputs": [
    {
     "data": {
      "text/plain": [
       "count    307511.000000\n",
       "mean          8.203294\n",
       "std           4.135481\n",
       "min           0.000000\n",
       "25%           4.712329\n",
       "50%           8.915068\n",
       "75%          11.778082\n",
       "max          19.717808\n",
       "Name: DAYS_ID_PUBLISH, dtype: float64"
      ]
     },
     "execution_count": 170,
     "metadata": {},
     "output_type": "execute_result"
    }
   ],
   "source": [
    "df.DAYS_ID_PUBLISH.describe()"
   ]
  },
  {
   "cell_type": "code",
   "execution_count": 171,
   "id": "f1684bc6",
   "metadata": {},
   "outputs": [
    {
     "data": {
      "image/png": "[encoded data removed]",
      "text/plain": [
       "<Figure size 720x216 with 1 Axes>"
      ]
     },
     "metadata": {
      "needs_background": "light"
     },
     "output_type": "display_data"
    }
   ],
   "source": [
    "plt.figure(figsize=[10,3])\n",
    "sns.boxplot(df.DAYS_ID_PUBLISH)\n",
    "plt.show()"
   ]
  },
  {
   "cell_type": "markdown",
   "id": "b6d941d4",
   "metadata": {},
   "source": [
    "- We may conclude that 50% of the population issued a new id to apply for the loan approximately 5 to 12 yrs ago.\n",
    "- There is no applicant whose id was issued 20 yrs ago or beyond."
   ]
  },
  {
   "cell_type": "markdown",
   "id": "6a0ff397",
   "metadata": {},
   "source": [
    "**From here on there will be total of 5 Flag columns which is categorised in two enties \"1\" and \"0\" with \"1\" being \"YES\" and \"0\" being \"NO\"."
   ]
  },
  {
   "cell_type": "code",
   "execution_count": 176,
   "id": "ca1aa542",
   "metadata": {},
   "outputs": [
    {
     "data": {
      "text/plain": [
       "1    0.819889\n",
       "0    0.180111\n",
       "Name: FLAG_EMP_PHONE, dtype: float64"
      ]
     },
     "execution_count": 176,
     "metadata": {},
     "output_type": "execute_result"
    }
   ],
   "source": [
    "df.FLAG_EMP_PHONE.value_counts(normalize=True)"
   ]
  },
  {
   "cell_type": "code",
   "execution_count": 177,
   "id": "ef64ef55",
   "metadata": {},
   "outputs": [
    {
     "data": {
      "image/png": "[encoded data removed]",
      "text/plain": [
       "<Figure size 432x288 with 1 Axes>"
      ]
     },
     "metadata": {},
     "output_type": "display_data"
    }
   ],
   "source": [
    "df.FLAG_EMP_PHONE.value_counts(normalize=True).plot.pie()\n",
    "plt.show()"
   ]
  },
  {
   "cell_type": "markdown",
   "id": "c17bd556",
   "metadata": {},
   "source": [
    "- Majority of the population who applied for the loan have shared their work phone number."
   ]
  },
  {
   "cell_type": "code",
   "execution_count": 178,
   "id": "c6cd7ff4",
   "metadata": {},
   "outputs": [
    {
     "data": {
      "text/plain": [
       "1    0.999997\n",
       "0    0.000003\n",
       "Name: FLAG_MOBIL, dtype: float64"
      ]
     },
     "execution_count": 178,
     "metadata": {},
     "output_type": "execute_result"
    }
   ],
   "source": [
    "df.FLAG_MOBIL.value_counts(normalize=True)"
   ]
  },
  {
   "cell_type": "code",
   "execution_count": 181,
   "id": "9c5cf141",
   "metadata": {},
   "outputs": [
    {
     "data": {
      "image/png": "[encoded data removed]",
      "text/plain": [
       "<Figure size 432x288 with 1 Axes>"
      ]
     },
     "metadata": {
      "needs_background": "light"
     },
     "output_type": "display_data"
    }
   ],
   "source": [
    "df.FLAG_MOBIL.value_counts(normalize=True).plot.barh()\n",
    "plt.show()"
   ]
  },
  {
   "cell_type": "markdown",
   "id": "1a4f2832",
   "metadata": {},
   "source": [
    "- This is the most expected oucome. Those who are applying for a loan must have shared the mobile number."
   ]
  },
  {
   "cell_type": "code",
   "execution_count": 182,
   "id": "d098b42b",
   "metadata": {},
   "outputs": [
    {
     "data": {
      "text/plain": [
       "1    0.998133\n",
       "0    0.001867\n",
       "Name: FLAG_CONT_MOBILE, dtype: float64"
      ]
     },
     "execution_count": 182,
     "metadata": {},
     "output_type": "execute_result"
    }
   ],
   "source": [
    "df.FLAG_CONT_MOBILE.value_counts(normalize=True)"
   ]
  },
  {
   "cell_type": "code",
   "execution_count": 183,
   "id": "f39459f4",
   "metadata": {},
   "outputs": [
    {
     "data": {
      "image/png": "[encoded data removed]",
      "text/plain": [
       "<Figure size 432x288 with 1 Axes>"
      ]
     },
     "metadata": {
      "needs_background": "light"
     },
     "output_type": "display_data"
    }
   ],
   "source": [
    "df.FLAG_CONT_MOBILE.value_counts(normalize=True).plot.barh()\n",
    "plt.show()"
   ]
  },
  {
   "cell_type": "markdown",
   "id": "9f19eaf8",
   "metadata": {},
   "source": [
    "- Again the most likely outcome. Almost all the phone numbers shared by the applicants are reachable."
   ]
  },
  {
   "cell_type": "code",
   "execution_count": 184,
   "id": "8a6d3101",
   "metadata": {},
   "outputs": [
    {
     "data": {
      "text/plain": [
       "0    0.718934\n",
       "1    0.281066\n",
       "Name: FLAG_PHONE, dtype: float64"
      ]
     },
     "execution_count": 184,
     "metadata": {},
     "output_type": "execute_result"
    }
   ],
   "source": [
    "df.FLAG_PHONE.value_counts(normalize=True)"
   ]
  },
  {
   "cell_type": "code",
   "execution_count": 185,
   "id": "8a24ea93",
   "metadata": {},
   "outputs": [
    {
     "data": {
      "image/png": "[encoded data removed]",
      "text/plain": [
       "<Figure size 432x288 with 1 Axes>"
      ]
     },
     "metadata": {},
     "output_type": "display_data"
    }
   ],
   "source": [
    "df.FLAG_PHONE.value_counts(normalize=True).plot.pie()\n",
    "plt.show()"
   ]
  },
  {
   "cell_type": "markdown",
   "id": "46a7e191",
   "metadata": {},
   "source": [
    "- Here is an interesting outcome. Almost 70% of the population haven't provided the home phone number."
   ]
  },
  {
   "cell_type": "code",
   "execution_count": 186,
   "id": "1de6f367",
   "metadata": {},
   "outputs": [
    {
     "data": {
      "text/plain": [
       "0    0.94328\n",
       "1    0.05672\n",
       "Name: FLAG_EMAIL, dtype: float64"
      ]
     },
     "execution_count": 186,
     "metadata": {},
     "output_type": "execute_result"
    }
   ],
   "source": [
    "df.FLAG_EMAIL.value_counts(normalize=True)"
   ]
  },
  {
   "cell_type": "code",
   "execution_count": 187,
   "id": "86c01fd4",
   "metadata": {},
   "outputs": [
    {
     "data": {
      "image/png": "[encoded data removed]",
      "text/plain": [
       "<Figure size 432x288 with 1 Axes>"
      ]
     },
     "metadata": {},
     "output_type": "display_data"
    }
   ],
   "source": [
    "df.FLAG_EMAIL.value_counts(normalize=True).plot.pie()\n",
    "plt.show()"
   ]
  },
  {
   "cell_type": "markdown",
   "id": "cebce091",
   "metadata": {},
   "source": [
    "- Again an interesting outcome. Almost 95% of the applicants haven't shared there email id with the bank."
   ]
  },
  {
   "cell_type": "code",
   "execution_count": 188,
   "id": "a9b0a447",
   "metadata": {},
   "outputs": [
    {
     "data": {
      "text/plain": [
       "Laborers                 0.261396\n",
       "Sales staff              0.152056\n",
       "Core staff               0.130589\n",
       "Managers                 0.101227\n",
       "Drivers                  0.088116\n",
       "High skill tech staff    0.053903\n",
       "Accountants              0.046481\n",
       "Medicine staff           0.040437\n",
       "Security staff           0.031835\n",
       "Cooking staff            0.028164\n",
       "Cleaning staff           0.022040\n",
       "Private service staff    0.012562\n",
       "Low-skill Laborers       0.009914\n",
       "Waiters/barmen staff     0.006385\n",
       "Secretaries              0.006181\n",
       "Realty agents            0.003557\n",
       "HR staff                 0.002667\n",
       "IT staff                 0.002491\n",
       "Name: OCCUPATION_TYPE, dtype: float64"
      ]
     },
     "execution_count": 188,
     "metadata": {},
     "output_type": "execute_result"
    }
   ],
   "source": [
    "df.OCCUPATION_TYPE.value_counts(normalize=True)"
   ]
  },
  {
   "cell_type": "code",
   "execution_count": 189,
   "id": "624fe49f",
   "metadata": {},
   "outputs": [
    {
     "data": {
      "image/png": "[encoded data removed]",
      "text/plain": [
       "<Figure size 432x288 with 1 Axes>"
      ]
     },
     "metadata": {
      "needs_background": "light"
     },
     "output_type": "display_data"
    }
   ],
   "source": [
    "df.OCCUPATION_TYPE.value_counts(normalize=True).plot.bar()\n",
    "plt.show()"
   ]
  },
  {
   "cell_type": "markdown",
   "id": "c15be0bc",
   "metadata": {},
   "source": [
    "- We can have a detailed look here and figure out that people from which occupation goes for the loan more often."
   ]
  },
  {
   "cell_type": "code",
   "execution_count": 192,
   "id": "27fbd531",
   "metadata": {},
   "outputs": [
    {
     "data": {
      "image/png": "[encoded data removed]",
      "text/plain": [
       "<Figure size 432x288 with 1 Axes>"
      ]
     },
     "metadata": {
      "needs_background": "light"
     },
     "output_type": "display_data"
    }
   ],
   "source": [
    "df.CNT_FAM_MEMBERS.value_counts(normalize=True).plot.bar()\n",
    "plt.show()"
   ]
  },
  {
   "cell_type": "markdown",
   "id": "0d7a3123",
   "metadata": {},
   "source": [
    "- A family of two is most likely to apply for the loan. \n",
    "- Also, the trend suggests, higher the count of family members is indirectly propotion to the possibility that people will apply for a loan. Only the first 2 bars are exceptions."
   ]
  },
  {
   "cell_type": "code",
   "execution_count": 193,
   "id": "6eec417b",
   "metadata": {},
   "outputs": [
    {
     "data": {
      "image/png": "[encoded data removed]",
      "text/plain": [
       "<Figure size 432x288 with 1 Axes>"
      ]
     },
     "metadata": {},
     "output_type": "display_data"
    }
   ],
   "source": [
    "df.REGION_RATING_CLIENT_W_CITY.value_counts(normalize=True).plot.pie()\n",
    "plt.show()"
   ]
  },
  {
   "cell_type": "markdown",
   "id": "04bab9d8",
   "metadata": {},
   "source": [
    "- Applicants are most likely from the cities which are rated as \"2\" say, \"Medium\" rated.\n",
    "- Then comes the applicants from \"3\" rated cities say, \"Highest\" rated.\n",
    "- Applicants from lower rated cities are also somewhat low."
   ]
  },
  {
   "cell_type": "markdown",
   "id": "80b3e9e1",
   "metadata": {},
   "source": [
    "### Now, we will do some bivariate analysis based on few of the above columns and try to figure out the trends among them. Also, we will end with a set of segmented univariate analysis to show some trends between our TARGET column and some set of categorical variables."
   ]
  },
  {
   "cell_type": "code",
   "execution_count": 194,
   "id": "771963da",
   "metadata": {},
   "outputs": [
    {
     "data": {
      "image/png": "[encoded data removed]",
      "text/plain": [
       "<Figure size 432x288 with 1 Axes>"
      ]
     },
     "metadata": {
      "needs_background": "light"
     },
     "output_type": "display_data"
    }
   ],
   "source": [
    "#plot the scatter plot of AMT_INCOME_TOTAL and AMT_CREDIT variable in df.\n",
    "plt.scatter(df.AMT_CREDIT, df.AMT_INCOME_TOTAL)\n",
    "plt.show()"
   ]
  },
  {
   "cell_type": "markdown",
   "id": "a2886f9d",
   "metadata": {},
   "source": [
    "- It doesn't show any strong correlation. Probably that analysis wouldn't help us to figure out anything good out of it."
   ]
  },
  {
   "cell_type": "code",
   "execution_count": 195,
   "id": "77c0a4d2",
   "metadata": {},
   "outputs": [
    {
     "data": {
      "image/png": "[encoded data removed]",
      "text/plain": [
       "<Figure size 432x288 with 1 Axes>"
      ]
     },
     "metadata": {
      "needs_background": "light"
     },
     "output_type": "display_data"
    }
   ],
   "source": [
    "#plot the scatter plot of DAYS_BIRTH and AMT_CREDIT variable in df.\n",
    "plt.scatter(df.DAYS_BIRTH, df.AMT_CREDIT)\n",
    "plt.show()"
   ]
  },
  {
   "cell_type": "markdown",
   "id": "c4147aae",
   "metadata": {},
   "source": [
    "- This graph is also not showing any kind of pattern and therefore, it is also doesn't help us to figure out anything good out of it."
   ]
  },
  {
   "cell_type": "markdown",
   "id": "432b625f",
   "metadata": {},
   "source": [
    "We will try to check if there is any correlation between the above three variables with the help of heatmap."
   ]
  },
  {
   "cell_type": "code",
   "execution_count": 196,
   "id": "07c36beb",
   "metadata": {},
   "outputs": [
    {
     "data": {
      "text/html": [
       "<div>\n",
       "<style scoped>\n",
       "    .dataframe tbody tr th:only-of-type {\n",
       "        vertical-align: middle;\n",
       "    }\n",
       "\n",
       "    .dataframe tbody tr th {\n",
       "        vertical-align: top;\n",
       "    }\n",
       "\n",
       "    .dataframe thead th {\n",
       "        text-align: right;\n",
       "    }\n",
       "</style>\n",
       "<table border=\"1\" class=\"dataframe\">\n",
       "  <thead>\n",
       "    <tr style=\"text-align: right;\">\n",
       "      <th></th>\n",
       "      <th>DAYS_BIRTH</th>\n",
       "      <th>AMT_CREDIT</th>\n",
       "      <th>AMT_INCOME_TOTAL</th>\n",
       "    </tr>\n",
       "  </thead>\n",
       "  <tbody>\n",
       "    <tr>\n",
       "      <th>DAYS_BIRTH</th>\n",
       "      <td>1.000000</td>\n",
       "      <td>-0.009621</td>\n",
       "      <td>-0.027805</td>\n",
       "    </tr>\n",
       "    <tr>\n",
       "      <th>AMT_CREDIT</th>\n",
       "      <td>-0.009621</td>\n",
       "      <td>1.000000</td>\n",
       "      <td>0.156870</td>\n",
       "    </tr>\n",
       "    <tr>\n",
       "      <th>AMT_INCOME_TOTAL</th>\n",
       "      <td>-0.027805</td>\n",
       "      <td>0.156870</td>\n",
       "      <td>1.000000</td>\n",
       "    </tr>\n",
       "  </tbody>\n",
       "</table>\n",
       "</div>"
      ],
      "text/plain": [
       "                  DAYS_BIRTH  AMT_CREDIT  AMT_INCOME_TOTAL\n",
       "DAYS_BIRTH          1.000000   -0.009621         -0.027805\n",
       "AMT_CREDIT         -0.009621    1.000000          0.156870\n",
       "AMT_INCOME_TOTAL   -0.027805    0.156870          1.000000"
      ]
     },
     "execution_count": 196,
     "metadata": {},
     "output_type": "execute_result"
    }
   ],
   "source": [
    "df[['DAYS_BIRTH','AMT_CREDIT','AMT_INCOME_TOTAL']].corr()"
   ]
  },
  {
   "cell_type": "code",
   "execution_count": 202,
   "id": "c6c9fd5a",
   "metadata": {},
   "outputs": [
    {
     "data": {
      "image/png": "[encoded data removed]",
      "text/plain": [
       "<Figure size 432x288 with 2 Axes>"
      ]
     },
     "metadata": {
      "needs_background": "light"
     },
     "output_type": "display_data"
    }
   ],
   "source": [
    "sns.heatmap(df[['DAYS_BIRTH','AMT_CREDIT','AMT_INCOME_TOTAL']].corr(), annot=True, cmap= 'Greens')\n",
    "plt.show()"
   ]
  },
  {
   "cell_type": "markdown",
   "id": "dfd6e6bb",
   "metadata": {},
   "source": [
    "- Here we can see there is no strong correlation among these 3 variables."
   ]
  },
  {
   "cell_type": "markdown",
   "id": "1e729e1a",
   "metadata": {},
   "source": [
    "Lets try to analyse some of the numerical columns grouping by our Target variable which is 'TARGET'.\n",
    "\n",
    "**Note: In target variable, there are only two values assigned. \"1\" refers to clients with payment difficulties: he/she had late payment more than X days on at least one of the first Y installments of the loan in our sample i.e. DEFAULTERS and, '0' refers to all the other cases i.e. NON-DEFAULTERS) "
   ]
  },
  {
   "cell_type": "code",
   "execution_count": 209,
   "id": "3853b3d1",
   "metadata": {},
   "outputs": [
    {
     "data": {
      "image/png": "[encoded data removed]",
      "text/plain": [
       "<Figure size 432x288 with 1 Axes>"
      ]
     },
     "metadata": {
      "needs_background": "light"
     },
     "output_type": "display_data"
    }
   ],
   "source": [
    "# Lets plot the bar graph of AMT_INCOME_TOTAL's mean an median with TARGET.\n",
    "\n",
    "df.groupby('TARGET')['AMT_INCOME_TOTAL'].aggregate(['mean','median']).plot.bar()\n",
    "plt.show()"
   ]
  },
  {
   "cell_type": "markdown",
   "id": "1728a48e",
   "metadata": {},
   "source": [
    "- We can't figure out much with this since, there is not much difference between the bars. However, it suggests people with lower income are a bit more likely to default."
   ]
  },
  {
   "cell_type": "code",
   "execution_count": 214,
   "id": "989ca2d6",
   "metadata": {},
   "outputs": [
    {
     "data": {
      "image/png": "[encoded data removed]",
      "text/plain": [
       "<Figure size 576x576 with 1 Axes>"
      ]
     },
     "metadata": {
      "needs_background": "light"
     },
     "output_type": "display_data"
    }
   ],
   "source": [
    "# Lets plot a box plot of AMT_CREDIT for TARGET.\n",
    "plt.figure(figsize=[8,8])\n",
    "sns.boxplot(data= df, x= 'TARGET', y= 'AMT_CREDIT')\n",
    "plt.show()"
   ]
  },
  {
   "cell_type": "markdown",
   "id": "b6c6a103",
   "metadata": {},
   "source": [
    "- Here again we don't get too much of an insight. But, we can say a customores is less likely to default in case he has applied for a credit within the lowest and the highest range."
   ]
  },
  {
   "cell_type": "code",
   "execution_count": 24,
   "id": "83efb3b7",
   "metadata": {},
   "outputs": [
    {
     "data": {
      "image/png": "[encoded data removed]",
      "text/plain": [
       "<Figure size 576x576 with 1 Axes>"
      ]
     },
     "metadata": {
      "needs_background": "light"
     },
     "output_type": "display_data"
    }
   ],
   "source": [
    "#Lets check the same with respect to the DAYS_BIRTH variable now.\n",
    "plt.figure(figsize=[8,8])\n",
    "sns.boxplot(data= df, x= 'TARGET', y= 'DAYS_BIRTH')\n",
    "plt.show()"
   ]
  },
  {
   "cell_type": "code",
   "execution_count": 77,
   "id": "d42b4e59",
   "metadata": {},
   "outputs": [],
   "source": [
    "#creating the buckets of <30, 30-40, 40-50 50-60 and 60+ from DAYS_BIRTH column. \n",
    "#Here I have taken last entry as 1000 yrs since there are already entries for 1000 yrs in the column \n",
    "#despite of the fact that such entries are unreal.\n",
    "df['age_group']= pd.cut(df.DAYS_BIRTH[:5], [0,30,40,50,60,1000], labels=['<30','30-40','40-50','50-60','60+'])"
   ]
  },
  {
   "cell_type": "code",
   "execution_count": 67,
   "id": "36769c78",
   "metadata": {},
   "outputs": [
    {
     "data": {
      "text/plain": [
       "50-60    0.6\n",
       "<30      0.2\n",
       "40-50    0.2\n",
       "30-40    0.0\n",
       "60+      0.0\n",
       "Name: DAYS_BIRTH, dtype: float64"
      ]
     },
     "execution_count": 67,
     "metadata": {},
     "output_type": "execute_result"
    }
   ],
   "source": [
    "df.age_group.value_counts(normalize=True)"
   ]
  },
  {
   "cell_type": "code",
   "execution_count": 85,
   "id": "5d4c1803",
   "metadata": {},
   "outputs": [
    {
     "data": {
      "image/png": "[encoded data removed]",
      "text/plain": [
       "<Figure size 720x288 with 1 Axes>"
      ]
     },
     "metadata": {
      "needs_background": "light"
     },
     "output_type": "display_data"
    },
    {
     "data": {
      "image/png": "[encoded data removed]",
      "text/plain": [
       "<Figure size 432x288 with 1 Axes>"
      ]
     },
     "metadata": {
      "needs_background": "light"
     },
     "output_type": "display_data"
    }
   ],
   "source": [
    "plt.figure(figsize=[10,4])\n",
    "plt.subplot(1,2,1)\n",
    "df.age_group.value_counts(normalize=True).plot()\n",
    "pd.crosstab(index=df['TARGET'], columns=df['age_group']).plot.bar()\n",
    "plt.show()"
   ]
  },
  {
   "cell_type": "markdown",
   "id": "8181b4f1",
   "metadata": {},
   "source": [
    "- Here, we can say that people within the least age range and people with higher age range are less likely to default in an overall comparison.\n",
    "- People under 30 yrs of age are very likely to default."
   ]
  },
  {
   "cell_type": "code",
   "execution_count": 25,
   "id": "78bdf62f",
   "metadata": {},
   "outputs": [
    {
     "data": {
      "image/png": "[encoded data removed]",
      "text/plain": [
       "<Figure size 576x576 with 1 Axes>"
      ]
     },
     "metadata": {
      "needs_background": "light"
     },
     "output_type": "display_data"
    }
   ],
   "source": [
    "#Lets check the same with respect to the DAYS_EMPLOYED variable now.\n",
    "plt.figure(figsize=[8,8])\n",
    "sns.boxplot(data= df, x= 'TARGET', y= 'DAYS_EMPLOYED')\n",
    "plt.show()"
   ]
  },
  {
   "cell_type": "code",
   "execution_count": 26,
   "id": "acfb642e",
   "metadata": {},
   "outputs": [
    {
     "data": {
      "image/png": "[encoded data removed]",
      "text/plain": [
       "<Figure size 576x576 with 1 Axes>"
      ]
     },
     "metadata": {
      "needs_background": "light"
     },
     "output_type": "display_data"
    }
   ],
   "source": [
    "#Lets check the same with respect to the DAYS_EMPLOYED variable now.\n",
    "plt.figure(figsize=[8,8])\n",
    "sns.boxplot(data= df, x= 'TARGET', y= 'DAYS_ID_PUBLISH')\n",
    "plt.show()"
   ]
  },
  {
   "cell_type": "markdown",
   "id": "ec1fe265",
   "metadata": {},
   "source": [
    "- Here we can say that people who are more likely to default are those who have recently changed the identity document."
   ]
  },
  {
   "cell_type": "code",
   "execution_count": 36,
   "id": "9a189e3d",
   "metadata": {},
   "outputs": [
    {
     "data": {
      "image/png": "[encoded data removed]",
      "text/plain": [
       "<Figure size 432x288 with 1 Axes>"
      ]
     },
     "metadata": {
      "needs_background": "light"
     },
     "output_type": "display_data"
    }
   ],
   "source": [
    "#Lets plot a boxplot to check which housing category gets what amount of loan credited.\n",
    "sns.boxplot(data= df, x= 'AMT_CREDIT', y= 'NAME_HOUSING_TYPE')\n",
    "plt.show()"
   ]
  },
  {
   "cell_type": "markdown",
   "id": "7bebd8e3",
   "metadata": {},
   "source": [
    "Now, lets draw some plots between our TARGET column and some categorical variables."
   ]
  },
  {
   "cell_type": "code",
   "execution_count": 37,
   "id": "a82d4f7a",
   "metadata": {},
   "outputs": [
    {
     "data": {
      "text/html": [
       "<div>\n",
       "<style scoped>\n",
       "    .dataframe tbody tr th:only-of-type {\n",
       "        vertical-align: middle;\n",
       "    }\n",
       "\n",
       "    .dataframe tbody tr th {\n",
       "        vertical-align: top;\n",
       "    }\n",
       "\n",
       "    .dataframe thead th {\n",
       "        text-align: right;\n",
       "    }\n",
       "</style>\n",
       "<table border=\"1\" class=\"dataframe\">\n",
       "  <thead>\n",
       "    <tr style=\"text-align: right;\">\n",
       "      <th>NAME_HOUSING_TYPE</th>\n",
       "      <th>Co-op apartment</th>\n",
       "      <th>House / apartment</th>\n",
       "      <th>Municipal apartment</th>\n",
       "      <th>Office apartment</th>\n",
       "      <th>Rented apartment</th>\n",
       "      <th>With parents</th>\n",
       "    </tr>\n",
       "    <tr>\n",
       "      <th>TARGET</th>\n",
       "      <th></th>\n",
       "      <th></th>\n",
       "      <th></th>\n",
       "      <th></th>\n",
       "      <th></th>\n",
       "      <th></th>\n",
       "    </tr>\n",
       "  </thead>\n",
       "  <tbody>\n",
       "    <tr>\n",
       "      <th>0</th>\n",
       "      <td>1033</td>\n",
       "      <td>251596</td>\n",
       "      <td>10228</td>\n",
       "      <td>2445</td>\n",
       "      <td>4280</td>\n",
       "      <td>13104</td>\n",
       "    </tr>\n",
       "    <tr>\n",
       "      <th>1</th>\n",
       "      <td>89</td>\n",
       "      <td>21272</td>\n",
       "      <td>955</td>\n",
       "      <td>172</td>\n",
       "      <td>601</td>\n",
       "      <td>1736</td>\n",
       "    </tr>\n",
       "  </tbody>\n",
       "</table>\n",
       "</div>"
      ],
      "text/plain": [
       "NAME_HOUSING_TYPE  Co-op apartment  House / apartment  Municipal apartment  \\\n",
       "TARGET                                                                       \n",
       "0                             1033             251596                10228   \n",
       "1                               89              21272                  955   \n",
       "\n",
       "NAME_HOUSING_TYPE  Office apartment  Rented apartment  With parents  \n",
       "TARGET                                                               \n",
       "0                              2445              4280         13104  \n",
       "1                               172               601          1736  "
      ]
     },
     "execution_count": 37,
     "metadata": {},
     "output_type": "execute_result"
    }
   ],
   "source": [
    "#Lets plot a barplot between our TARGET column and NAME_HOUSING_TYPE column to observe the trends they are following.\n",
    "pd.crosstab(index=df['TARGET'], columns=df['NAME_HOUSING_TYPE'])"
   ]
  },
  {
   "cell_type": "code",
   "execution_count": 50,
   "id": "d7d5129a",
   "metadata": {},
   "outputs": [
    {
     "data": {
      "image/png": "[encoded data removed]",
      "text/plain": [
       "<Figure size 432x288 with 1 Axes>"
      ]
     },
     "metadata": {
      "needs_background": "light"
     },
     "output_type": "display_data"
    }
   ],
   "source": [
    "pd.crosstab(index=df['TARGET'], columns=df['NAME_HOUSING_TYPE']).plot.bar()\n",
    "plt.show()"
   ]
  },
  {
   "cell_type": "code",
   "execution_count": 53,
   "id": "1c44cc2b",
   "metadata": {},
   "outputs": [
    {
     "data": {
      "text/plain": [
       "<AxesSubplot:ylabel='TARGET'>"
      ]
     },
     "execution_count": 53,
     "metadata": {},
     "output_type": "execute_result"
    },
    {
     "data": {
      "image/png": "[encoded data removed]",
      "text/plain": [
       "<Figure size 432x288 with 1 Axes>"
      ]
     },
     "metadata": {
      "needs_background": "light"
     },
     "output_type": "display_data"
    }
   ],
   "source": [
    "#Lets now plot a barplot between our TARGET column and OCCUPATION_TYPE column to observe the trends they are following.\n",
    "pd.crosstab(index=df['TARGET'], columns=df['OCCUPATION_TYPE']).plot.barh()"
   ]
  },
  {
   "cell_type": "code",
   "execution_count": 54,
   "id": "6816a4f2",
   "metadata": {},
   "outputs": [
    {
     "data": {
      "image/png": "[encoded data removed]",
      "text/plain": [
       "<Figure size 432x288 with 1 Axes>"
      ]
     },
     "metadata": {
      "needs_background": "light"
     },
     "output_type": "display_data"
    }
   ],
   "source": [
    "#I'm going to place the legend to a suitable place so that the picture looks clear.\n",
    "pd.crosstab(index=df['TARGET'], columns=df['OCCUPATION_TYPE']).plot.barh().legend(title='OCCUPATION_TYPE', bbox_to_anchor=(1, 1.02), loc= 'upper left')\n",
    "plt.show()"
   ]
  },
  {
   "cell_type": "code",
   "execution_count": 57,
   "id": "d7ffbb0d",
   "metadata": {},
   "outputs": [
    {
     "data": {
      "image/png": "[encoded data removed]",
      "text/plain": [
       "<Figure size 432x288 with 1 Axes>"
      ]
     },
     "metadata": {
      "needs_background": "light"
     },
     "output_type": "display_data"
    }
   ],
   "source": [
    "#Lets now plot a barplot between our TARGET column and REGION_RATING_CLIENT_W_CITY column to observe the trends they are following.\n",
    "pd.crosstab(index=df['TARGET'], columns=df['REGION_RATING_CLIENT_W_CITY']).plot.barh()\n",
    "plt.show()"
   ]
  },
  {
   "cell_type": "code",
   "execution_count": 59,
   "id": "a0e4a26b",
   "metadata": {},
   "outputs": [
    {
     "data": {
      "image/png": "[encoded data removed]",
      "text/plain": [
       "<Figure size 576x576 with 1 Axes>"
      ]
     },
     "metadata": {
      "needs_background": "light"
     },
     "output_type": "display_data"
    }
   ],
   "source": [
    "#Lets now plot a boxplot between our TARGET column and CNT_FAM_MEMBERS column to observe the trends they are following.\n",
    "plt.figure(figsize=[8,8])\n",
    "sns.boxplot(data= df, x= 'TARGET', y= 'CNT_FAM_MEMBERS')\n",
    "plt.show()"
   ]
  },
  {
   "cell_type": "markdown",
   "id": "4033b6b4",
   "metadata": {},
   "source": [
    "- The data looks almost the same for the same count of family members in both the categories in the TARGET column."
   ]
  },
  {
   "cell_type": "code",
   "execution_count": 60,
   "id": "22cab13d",
   "metadata": {},
   "outputs": [
    {
     "data": {
      "image/png": "[encoded data removed]",
      "text/plain": [
       "<Figure size 432x288 with 1 Axes>"
      ]
     },
     "metadata": {
      "needs_background": "light"
     },
     "output_type": "display_data"
    }
   ],
   "source": [
    "#Lets now plot a barplot between our TARGET column and FLAG_EMAIL column to observe the trends they are following.\n",
    "pd.crosstab(index=df['TARGET'], columns=df['FLAG_EMAIL']).plot.barh()\n",
    "plt.show()"
   ]
  },
  {
   "cell_type": "code",
   "execution_count": 109,
   "id": "e9d54810",
   "metadata": {},
   "outputs": [
    {
     "data": {
      "image/png": "[encoded data removed]",
      "text/plain": [
       "<Figure size 432x288 with 1 Axes>"
      ]
     },
     "metadata": {
      "needs_background": "light"
     },
     "output_type": "display_data"
    }
   ],
   "source": [
    "#Lets now plot a barplot between our TARGET column and FLAG_PHONE column to observe the trends they are following.\n",
    "pd.crosstab(index=df['TARGET'], columns=df['FLAG_PHONE']).plot.barh()\n",
    "plt.show()"
   ]
  },
  {
   "cell_type": "code",
   "execution_count": 62,
   "id": "7d50fcdd",
   "metadata": {},
   "outputs": [
    {
     "data": {
      "image/png": "[encoded data removed]",
      "text/plain": [
       "<Figure size 432x288 with 1 Axes>"
      ]
     },
     "metadata": {
      "needs_background": "light"
     },
     "output_type": "display_data"
    }
   ],
   "source": [
    "#Lets now plot a barplot between our TARGET column and NAME_EDUCATION_TYPE column to observe the trends they are following.\n",
    "pd.crosstab(index=df['TARGET'], columns=df['NAME_EDUCATION_TYPE']).plot.barh()\n",
    "plt.show()"
   ]
  },
  {
   "cell_type": "code",
   "execution_count": 63,
   "id": "026d0e61",
   "metadata": {},
   "outputs": [
    {
     "data": {
      "image/png": "[encoded data removed]",
      "text/plain": [
       "<Figure size 432x288 with 1 Axes>"
      ]
     },
     "metadata": {
      "needs_background": "light"
     },
     "output_type": "display_data"
    }
   ],
   "source": [
    "#Lets now plot a barplot between our TARGET column and FLAG_OWN_CAR column to observe the trends they are following.\n",
    "pd.crosstab(index=df['TARGET'], columns=df['FLAG_OWN_CAR']).plot.barh()\n",
    "plt.show()"
   ]
  },
  {
   "cell_type": "code",
   "execution_count": 64,
   "id": "fe619a8f",
   "metadata": {},
   "outputs": [
    {
     "data": {
      "image/png": "[encoded data removed]",
      "text/plain": [
       "<Figure size 432x288 with 1 Axes>"
      ]
     },
     "metadata": {
      "needs_background": "light"
     },
     "output_type": "display_data"
    }
   ],
   "source": [
    "#Lets now plot a barplot between our TARGET column and FLAG_OWN_REALTY column to observe the trends they are following.\n",
    "pd.crosstab(index=df['TARGET'], columns=df['FLAG_OWN_REALTY']).plot.barh()\n",
    "plt.show()"
   ]
  },
  {
   "cell_type": "code",
   "execution_count": 65,
   "id": "16255cc2",
   "metadata": {},
   "outputs": [
    {
     "data": {
      "image/png": "[encoded data removed]",
      "text/plain": [
       "<Figure size 432x288 with 1 Axes>"
      ]
     },
     "metadata": {
      "needs_background": "light"
     },
     "output_type": "display_data"
    }
   ],
   "source": [
    "#Lets now plot a barplot between our TARGET column and CODE_GENDER column to observe the trends they are following.\n",
    "pd.crosstab(index=df['TARGET'], columns=df['CODE_GENDER']).plot.barh()\n",
    "plt.show()"
   ]
  },
  {
   "cell_type": "markdown",
   "id": "247c18e8",
   "metadata": {},
   "source": [
    "## Moving on to the next dataset now"
   ]
  },
  {
   "cell_type": "code",
   "execution_count": 19,
   "id": "d7f3f3fa",
   "metadata": {},
   "outputs": [
    {
     "data": {
      "text/html": [
       "<div>\n",
       "<style scoped>\n",
       "    .dataframe tbody tr th:only-of-type {\n",
       "        vertical-align: middle;\n",
       "    }\n",
       "\n",
       "    .dataframe tbody tr th {\n",
       "        vertical-align: top;\n",
       "    }\n",
       "\n",
       "    .dataframe thead th {\n",
       "        text-align: right;\n",
       "    }\n",
       "</style>\n",
       "<table border=\"1\" class=\"dataframe\">\n",
       "  <thead>\n",
       "    <tr style=\"text-align: right;\">\n",
       "      <th></th>\n",
       "      <th>SK_ID_PREV</th>\n",
       "      <th>SK_ID_CURR</th>\n",
       "      <th>NAME_CONTRACT_TYPE</th>\n",
       "      <th>AMT_ANNUITY</th>\n",
       "      <th>AMT_APPLICATION</th>\n",
       "      <th>AMT_CREDIT</th>\n",
       "      <th>AMT_DOWN_PAYMENT</th>\n",
       "      <th>AMT_GOODS_PRICE</th>\n",
       "      <th>WEEKDAY_APPR_PROCESS_START</th>\n",
       "      <th>HOUR_APPR_PROCESS_START</th>\n",
       "      <th>FLAG_LAST_APPL_PER_CONTRACT</th>\n",
       "      <th>NFLAG_LAST_APPL_IN_DAY</th>\n",
       "      <th>RATE_DOWN_PAYMENT</th>\n",
       "      <th>RATE_INTEREST_PRIMARY</th>\n",
       "      <th>RATE_INTEREST_PRIVILEGED</th>\n",
       "      <th>NAME_CASH_LOAN_PURPOSE</th>\n",
       "      <th>NAME_CONTRACT_STATUS</th>\n",
       "      <th>DAYS_DECISION</th>\n",
       "      <th>NAME_PAYMENT_TYPE</th>\n",
       "      <th>CODE_REJECT_REASON</th>\n",
       "      <th>NAME_TYPE_SUITE</th>\n",
       "      <th>NAME_CLIENT_TYPE</th>\n",
       "      <th>NAME_GOODS_CATEGORY</th>\n",
       "      <th>NAME_PORTFOLIO</th>\n",
       "      <th>NAME_PRODUCT_TYPE</th>\n",
       "      <th>CHANNEL_TYPE</th>\n",
       "      <th>SELLERPLACE_AREA</th>\n",
       "      <th>NAME_SELLER_INDUSTRY</th>\n",
       "      <th>CNT_PAYMENT</th>\n",
       "      <th>NAME_YIELD_GROUP</th>\n",
       "      <th>PRODUCT_COMBINATION</th>\n",
       "      <th>DAYS_FIRST_DRAWING</th>\n",
       "      <th>DAYS_FIRST_DUE</th>\n",
       "      <th>DAYS_LAST_DUE_1ST_VERSION</th>\n",
       "      <th>DAYS_LAST_DUE</th>\n",
       "      <th>DAYS_TERMINATION</th>\n",
       "      <th>NFLAG_INSURED_ON_APPROVAL</th>\n",
       "    </tr>\n",
       "  </thead>\n",
       "  <tbody>\n",
       "    <tr>\n",
       "      <th>0</th>\n",
       "      <td>2030495</td>\n",
       "      <td>271877</td>\n",
       "      <td>Consumer loans</td>\n",
       "      <td>1730.430</td>\n",
       "      <td>17145.0</td>\n",
       "      <td>17145.0</td>\n",
       "      <td>0.0</td>\n",
       "      <td>17145.0</td>\n",
       "      <td>SATURDAY</td>\n",
       "      <td>15</td>\n",
       "      <td>Y</td>\n",
       "      <td>1</td>\n",
       "      <td>0.0</td>\n",
       "      <td>0.182832</td>\n",
       "      <td>0.867336</td>\n",
       "      <td>XAP</td>\n",
       "      <td>Approved</td>\n",
       "      <td>-73</td>\n",
       "      <td>Cash through the bank</td>\n",
       "      <td>XAP</td>\n",
       "      <td>NaN</td>\n",
       "      <td>Repeater</td>\n",
       "      <td>Mobile</td>\n",
       "      <td>POS</td>\n",
       "      <td>XNA</td>\n",
       "      <td>Country-wide</td>\n",
       "      <td>35</td>\n",
       "      <td>Connectivity</td>\n",
       "      <td>12.0</td>\n",
       "      <td>middle</td>\n",
       "      <td>POS mobile with interest</td>\n",
       "      <td>365243.0</td>\n",
       "      <td>-42.0</td>\n",
       "      <td>300.0</td>\n",
       "      <td>-42.0</td>\n",
       "      <td>-37.0</td>\n",
       "      <td>0.0</td>\n",
       "    </tr>\n",
       "    <tr>\n",
       "      <th>1</th>\n",
       "      <td>2802425</td>\n",
       "      <td>108129</td>\n",
       "      <td>Cash loans</td>\n",
       "      <td>25188.615</td>\n",
       "      <td>607500.0</td>\n",
       "      <td>679671.0</td>\n",
       "      <td>NaN</td>\n",
       "      <td>607500.0</td>\n",
       "      <td>THURSDAY</td>\n",
       "      <td>11</td>\n",
       "      <td>Y</td>\n",
       "      <td>1</td>\n",
       "      <td>NaN</td>\n",
       "      <td>NaN</td>\n",
       "      <td>NaN</td>\n",
       "      <td>XNA</td>\n",
       "      <td>Approved</td>\n",
       "      <td>-164</td>\n",
       "      <td>XNA</td>\n",
       "      <td>XAP</td>\n",
       "      <td>Unaccompanied</td>\n",
       "      <td>Repeater</td>\n",
       "      <td>XNA</td>\n",
       "      <td>Cash</td>\n",
       "      <td>x-sell</td>\n",
       "      <td>Contact center</td>\n",
       "      <td>-1</td>\n",
       "      <td>XNA</td>\n",
       "      <td>36.0</td>\n",
       "      <td>low_action</td>\n",
       "      <td>Cash X-Sell: low</td>\n",
       "      <td>365243.0</td>\n",
       "      <td>-134.0</td>\n",
       "      <td>916.0</td>\n",
       "      <td>365243.0</td>\n",
       "      <td>365243.0</td>\n",
       "      <td>1.0</td>\n",
       "    </tr>\n",
       "    <tr>\n",
       "      <th>2</th>\n",
       "      <td>2523466</td>\n",
       "      <td>122040</td>\n",
       "      <td>Cash loans</td>\n",
       "      <td>15060.735</td>\n",
       "      <td>112500.0</td>\n",
       "      <td>136444.5</td>\n",
       "      <td>NaN</td>\n",
       "      <td>112500.0</td>\n",
       "      <td>TUESDAY</td>\n",
       "      <td>11</td>\n",
       "      <td>Y</td>\n",
       "      <td>1</td>\n",
       "      <td>NaN</td>\n",
       "      <td>NaN</td>\n",
       "      <td>NaN</td>\n",
       "      <td>XNA</td>\n",
       "      <td>Approved</td>\n",
       "      <td>-301</td>\n",
       "      <td>Cash through the bank</td>\n",
       "      <td>XAP</td>\n",
       "      <td>Spouse, partner</td>\n",
       "      <td>Repeater</td>\n",
       "      <td>XNA</td>\n",
       "      <td>Cash</td>\n",
       "      <td>x-sell</td>\n",
       "      <td>Credit and cash offices</td>\n",
       "      <td>-1</td>\n",
       "      <td>XNA</td>\n",
       "      <td>12.0</td>\n",
       "      <td>high</td>\n",
       "      <td>Cash X-Sell: high</td>\n",
       "      <td>365243.0</td>\n",
       "      <td>-271.0</td>\n",
       "      <td>59.0</td>\n",
       "      <td>365243.0</td>\n",
       "      <td>365243.0</td>\n",
       "      <td>1.0</td>\n",
       "    </tr>\n",
       "    <tr>\n",
       "      <th>3</th>\n",
       "      <td>2819243</td>\n",
       "      <td>176158</td>\n",
       "      <td>Cash loans</td>\n",
       "      <td>47041.335</td>\n",
       "      <td>450000.0</td>\n",
       "      <td>470790.0</td>\n",
       "      <td>NaN</td>\n",
       "      <td>450000.0</td>\n",
       "      <td>MONDAY</td>\n",
       "      <td>7</td>\n",
       "      <td>Y</td>\n",
       "      <td>1</td>\n",
       "      <td>NaN</td>\n",
       "      <td>NaN</td>\n",
       "      <td>NaN</td>\n",
       "      <td>XNA</td>\n",
       "      <td>Approved</td>\n",
       "      <td>-512</td>\n",
       "      <td>Cash through the bank</td>\n",
       "      <td>XAP</td>\n",
       "      <td>NaN</td>\n",
       "      <td>Repeater</td>\n",
       "      <td>XNA</td>\n",
       "      <td>Cash</td>\n",
       "      <td>x-sell</td>\n",
       "      <td>Credit and cash offices</td>\n",
       "      <td>-1</td>\n",
       "      <td>XNA</td>\n",
       "      <td>12.0</td>\n",
       "      <td>middle</td>\n",
       "      <td>Cash X-Sell: middle</td>\n",
       "      <td>365243.0</td>\n",
       "      <td>-482.0</td>\n",
       "      <td>-152.0</td>\n",
       "      <td>-182.0</td>\n",
       "      <td>-177.0</td>\n",
       "      <td>1.0</td>\n",
       "    </tr>\n",
       "    <tr>\n",
       "      <th>4</th>\n",
       "      <td>1784265</td>\n",
       "      <td>202054</td>\n",
       "      <td>Cash loans</td>\n",
       "      <td>31924.395</td>\n",
       "      <td>337500.0</td>\n",
       "      <td>404055.0</td>\n",
       "      <td>NaN</td>\n",
       "      <td>337500.0</td>\n",
       "      <td>THURSDAY</td>\n",
       "      <td>9</td>\n",
       "      <td>Y</td>\n",
       "      <td>1</td>\n",
       "      <td>NaN</td>\n",
       "      <td>NaN</td>\n",
       "      <td>NaN</td>\n",
       "      <td>Repairs</td>\n",
       "      <td>Refused</td>\n",
       "      <td>-781</td>\n",
       "      <td>Cash through the bank</td>\n",
       "      <td>HC</td>\n",
       "      <td>NaN</td>\n",
       "      <td>Repeater</td>\n",
       "      <td>XNA</td>\n",
       "      <td>Cash</td>\n",
       "      <td>walk-in</td>\n",
       "      <td>Credit and cash offices</td>\n",
       "      <td>-1</td>\n",
       "      <td>XNA</td>\n",
       "      <td>24.0</td>\n",
       "      <td>high</td>\n",
       "      <td>Cash Street: high</td>\n",
       "      <td>NaN</td>\n",
       "      <td>NaN</td>\n",
       "      <td>NaN</td>\n",
       "      <td>NaN</td>\n",
       "      <td>NaN</td>\n",
       "      <td>NaN</td>\n",
       "    </tr>\n",
       "  </tbody>\n",
       "</table>\n",
       "</div>"
      ],
      "text/plain": [
       "   SK_ID_PREV  SK_ID_CURR NAME_CONTRACT_TYPE  AMT_ANNUITY  AMT_APPLICATION  \\\n",
       "0     2030495      271877     Consumer loans     1730.430          17145.0   \n",
       "1     2802425      108129         Cash loans    25188.615         607500.0   \n",
       "2     2523466      122040         Cash loans    15060.735         112500.0   \n",
       "3     2819243      176158         Cash loans    47041.335         450000.0   \n",
       "4     1784265      202054         Cash loans    31924.395         337500.0   \n",
       "\n",
       "   AMT_CREDIT  AMT_DOWN_PAYMENT  AMT_GOODS_PRICE WEEKDAY_APPR_PROCESS_START  \\\n",
       "0     17145.0               0.0          17145.0                   SATURDAY   \n",
       "1    679671.0               NaN         607500.0                   THURSDAY   \n",
       "2    136444.5               NaN         112500.0                    TUESDAY   \n",
       "3    470790.0               NaN         450000.0                     MONDAY   \n",
       "4    404055.0               NaN         337500.0                   THURSDAY   \n",
       "\n",
       "   HOUR_APPR_PROCESS_START FLAG_LAST_APPL_PER_CONTRACT  \\\n",
       "0                       15                           Y   \n",
       "1                       11                           Y   \n",
       "2                       11                           Y   \n",
       "3                        7                           Y   \n",
       "4                        9                           Y   \n",
       "\n",
       "   NFLAG_LAST_APPL_IN_DAY  RATE_DOWN_PAYMENT  RATE_INTEREST_PRIMARY  \\\n",
       "0                       1                0.0               0.182832   \n",
       "1                       1                NaN                    NaN   \n",
       "2                       1                NaN                    NaN   \n",
       "3                       1                NaN                    NaN   \n",
       "4                       1                NaN                    NaN   \n",
       "\n",
       "   RATE_INTEREST_PRIVILEGED NAME_CASH_LOAN_PURPOSE NAME_CONTRACT_STATUS  \\\n",
       "0                  0.867336                    XAP             Approved   \n",
       "1                       NaN                    XNA             Approved   \n",
       "2                       NaN                    XNA             Approved   \n",
       "3                       NaN                    XNA             Approved   \n",
       "4                       NaN                Repairs              Refused   \n",
       "\n",
       "   DAYS_DECISION      NAME_PAYMENT_TYPE CODE_REJECT_REASON  NAME_TYPE_SUITE  \\\n",
       "0            -73  Cash through the bank                XAP              NaN   \n",
       "1           -164                    XNA                XAP    Unaccompanied   \n",
       "2           -301  Cash through the bank                XAP  Spouse, partner   \n",
       "3           -512  Cash through the bank                XAP              NaN   \n",
       "4           -781  Cash through the bank                 HC              NaN   \n",
       "\n",
       "  NAME_CLIENT_TYPE NAME_GOODS_CATEGORY NAME_PORTFOLIO NAME_PRODUCT_TYPE  \\\n",
       "0         Repeater              Mobile            POS               XNA   \n",
       "1         Repeater                 XNA           Cash            x-sell   \n",
       "2         Repeater                 XNA           Cash            x-sell   \n",
       "3         Repeater                 XNA           Cash            x-sell   \n",
       "4         Repeater                 XNA           Cash           walk-in   \n",
       "\n",
       "              CHANNEL_TYPE  SELLERPLACE_AREA NAME_SELLER_INDUSTRY  \\\n",
       "0             Country-wide                35         Connectivity   \n",
       "1           Contact center                -1                  XNA   \n",
       "2  Credit and cash offices                -1                  XNA   \n",
       "3  Credit and cash offices                -1                  XNA   \n",
       "4  Credit and cash offices                -1                  XNA   \n",
       "\n",
       "   CNT_PAYMENT NAME_YIELD_GROUP       PRODUCT_COMBINATION  DAYS_FIRST_DRAWING  \\\n",
       "0         12.0           middle  POS mobile with interest            365243.0   \n",
       "1         36.0       low_action          Cash X-Sell: low            365243.0   \n",
       "2         12.0             high         Cash X-Sell: high            365243.0   \n",
       "3         12.0           middle       Cash X-Sell: middle            365243.0   \n",
       "4         24.0             high         Cash Street: high                 NaN   \n",
       "\n",
       "   DAYS_FIRST_DUE  DAYS_LAST_DUE_1ST_VERSION  DAYS_LAST_DUE  DAYS_TERMINATION  \\\n",
       "0           -42.0                      300.0          -42.0             -37.0   \n",
       "1          -134.0                      916.0       365243.0          365243.0   \n",
       "2          -271.0                       59.0       365243.0          365243.0   \n",
       "3          -482.0                     -152.0         -182.0            -177.0   \n",
       "4             NaN                        NaN            NaN               NaN   \n",
       "\n",
       "   NFLAG_INSURED_ON_APPROVAL  \n",
       "0                        0.0  \n",
       "1                        1.0  \n",
       "2                        1.0  \n",
       "3                        1.0  \n",
       "4                        NaN  "
      ]
     },
     "execution_count": 19,
     "metadata": {},
     "output_type": "execute_result"
    }
   ],
   "source": [
    "#Lets assign 'previous_application.csv' into variable 'df0'.\n",
    "pd.set_option('display.max_columns', None)\n",
    "pd.set_option('display.max_rows', None)\n",
    "df0= pd.read_csv(r'C:\\Users\\deepa\\Desktop\\Mysql installer\\Credit EDA Assignment\\previous_application.csv')\n",
    "df0.head()"
   ]
  },
  {
   "cell_type": "code",
   "execution_count": 20,
   "id": "b73f6412",
   "metadata": {},
   "outputs": [
    {
     "data": {
      "text/plain": [
       "(1670214, 37)"
      ]
     },
     "execution_count": 20,
     "metadata": {},
     "output_type": "execute_result"
    }
   ],
   "source": [
    "df0.shape"
   ]
  },
  {
   "cell_type": "code",
   "execution_count": 23,
   "id": "27f4ce44",
   "metadata": {},
   "outputs": [
    {
     "data": {
      "text/plain": [
       "0"
      ]
     },
     "execution_count": 23,
     "metadata": {},
     "output_type": "execute_result"
    }
   ],
   "source": [
    "df0.duplicated().sum()"
   ]
  },
  {
   "cell_type": "markdown",
   "id": "b18bc26c",
   "metadata": {},
   "source": [
    "**I will now follow same steps as I did in the above table to clean the data."
   ]
  },
  {
   "cell_type": "code",
   "execution_count": 25,
   "id": "5c7c101e",
   "metadata": {},
   "outputs": [
    {
     "data": {
      "text/plain": [
       "SK_ID_PREV                      0.000000\n",
       "SK_ID_CURR                      0.000000\n",
       "NAME_CONTRACT_TYPE              0.000000\n",
       "AMT_ANNUITY                    22.286665\n",
       "AMT_APPLICATION                 0.000000\n",
       "AMT_CREDIT                      0.000060\n",
       "AMT_DOWN_PAYMENT               53.636480\n",
       "AMT_GOODS_PRICE                23.081773\n",
       "WEEKDAY_APPR_PROCESS_START      0.000000\n",
       "HOUR_APPR_PROCESS_START         0.000000\n",
       "FLAG_LAST_APPL_PER_CONTRACT     0.000000\n",
       "NFLAG_LAST_APPL_IN_DAY          0.000000\n",
       "RATE_DOWN_PAYMENT              53.636480\n",
       "RATE_INTEREST_PRIMARY          99.643698\n",
       "RATE_INTEREST_PRIVILEGED       99.643698\n",
       "NAME_CASH_LOAN_PURPOSE          0.000000\n",
       "NAME_CONTRACT_STATUS            0.000000\n",
       "DAYS_DECISION                   0.000000\n",
       "NAME_PAYMENT_TYPE               0.000000\n",
       "CODE_REJECT_REASON              0.000000\n",
       "NAME_TYPE_SUITE                49.119754\n",
       "NAME_CLIENT_TYPE                0.000000\n",
       "NAME_GOODS_CATEGORY             0.000000\n",
       "NAME_PORTFOLIO                  0.000000\n",
       "NAME_PRODUCT_TYPE               0.000000\n",
       "CHANNEL_TYPE                    0.000000\n",
       "SELLERPLACE_AREA                0.000000\n",
       "NAME_SELLER_INDUSTRY            0.000000\n",
       "CNT_PAYMENT                    22.286366\n",
       "NAME_YIELD_GROUP                0.000000\n",
       "PRODUCT_COMBINATION             0.020716\n",
       "DAYS_FIRST_DRAWING             40.298129\n",
       "DAYS_FIRST_DUE                 40.298129\n",
       "DAYS_LAST_DUE_1ST_VERSION      40.298129\n",
       "DAYS_LAST_DUE                  40.298129\n",
       "DAYS_TERMINATION               40.298129\n",
       "NFLAG_INSURED_ON_APPROVAL      40.298129\n",
       "dtype: float64"
      ]
     },
     "execution_count": 25,
     "metadata": {},
     "output_type": "execute_result"
    }
   ],
   "source": [
    "#Looking for null value %ge to clean the columns having null values more than 40%.\n",
    "(df0.isnull().sum()/df0.shape[0])*100"
   ]
  },
  {
   "cell_type": "code",
   "execution_count": 26,
   "id": "04bc42f0",
   "metadata": {},
   "outputs": [
    {
     "data": {
      "text/plain": [
       "['AMT_DOWN_PAYMENT',\n",
       " 'RATE_DOWN_PAYMENT',\n",
       " 'RATE_INTEREST_PRIMARY',\n",
       " 'RATE_INTEREST_PRIVILEGED',\n",
       " 'NAME_TYPE_SUITE',\n",
       " 'DAYS_FIRST_DRAWING',\n",
       " 'DAYS_FIRST_DUE',\n",
       " 'DAYS_LAST_DUE_1ST_VERSION',\n",
       " 'DAYS_LAST_DUE',\n",
       " 'DAYS_TERMINATION',\n",
       " 'NFLAG_INSURED_ON_APPROVAL']"
      ]
     },
     "execution_count": 26,
     "metadata": {},
     "output_type": "execute_result"
    }
   ],
   "source": [
    "Bool0= (df0.isnull().sum()/df0.shape[0])*100>40.0\n",
    "na_columns0= [df0.columns[i] for i in np.where(Bool0)[0]]\n",
    "na_columns0"
   ]
  },
  {
   "cell_type": "code",
   "execution_count": 27,
   "id": "0e21b498",
   "metadata": {},
   "outputs": [],
   "source": [
    "#Dropping the columns having null values %ge higher than 40%.\n",
    "df0.drop(labels= na_columns0, axis=1, inplace=True)"
   ]
  },
  {
   "cell_type": "code",
   "execution_count": 28,
   "id": "cd5e8bbc",
   "metadata": {},
   "outputs": [
    {
     "data": {
      "text/plain": [
       "(1670214, 26)"
      ]
     },
     "execution_count": 28,
     "metadata": {},
     "output_type": "execute_result"
    }
   ],
   "source": [
    "df0.shape"
   ]
  },
  {
   "cell_type": "markdown",
   "id": "a2a2ef83",
   "metadata": {},
   "source": [
    "I will now look at the data types of the columns left in the table and correct them if required for the columns on which we are going to work."
   ]
  },
  {
   "cell_type": "code",
   "execution_count": 29,
   "id": "cb3dee07",
   "metadata": {},
   "outputs": [
    {
     "data": {
      "text/plain": [
       "SK_ID_PREV                       int64\n",
       "SK_ID_CURR                       int64\n",
       "NAME_CONTRACT_TYPE              object\n",
       "AMT_ANNUITY                    float64\n",
       "AMT_APPLICATION                float64\n",
       "AMT_CREDIT                     float64\n",
       "AMT_GOODS_PRICE                float64\n",
       "WEEKDAY_APPR_PROCESS_START      object\n",
       "HOUR_APPR_PROCESS_START          int64\n",
       "FLAG_LAST_APPL_PER_CONTRACT     object\n",
       "NFLAG_LAST_APPL_IN_DAY           int64\n",
       "NAME_CASH_LOAN_PURPOSE          object\n",
       "NAME_CONTRACT_STATUS            object\n",
       "DAYS_DECISION                    int64\n",
       "NAME_PAYMENT_TYPE               object\n",
       "CODE_REJECT_REASON              object\n",
       "NAME_CLIENT_TYPE                object\n",
       "NAME_GOODS_CATEGORY             object\n",
       "NAME_PORTFOLIO                  object\n",
       "NAME_PRODUCT_TYPE               object\n",
       "CHANNEL_TYPE                    object\n",
       "SELLERPLACE_AREA                 int64\n",
       "NAME_SELLER_INDUSTRY            object\n",
       "CNT_PAYMENT                    float64\n",
       "NAME_YIELD_GROUP                object\n",
       "PRODUCT_COMBINATION             object\n",
       "dtype: object"
      ]
     },
     "execution_count": 29,
     "metadata": {},
     "output_type": "execute_result"
    }
   ],
   "source": [
    "df0.dtypes"
   ]
  },
  {
   "cell_type": "markdown",
   "id": "4a7794b6",
   "metadata": {},
   "source": [
    "Lets start with some univariate analysis now. I will analyse a set of 4 to 5 important columns as per my understanding."
   ]
  },
  {
   "cell_type": "code",
   "execution_count": 30,
   "id": "6a85e1c9",
   "metadata": {},
   "outputs": [
    {
     "data": {
      "text/plain": [
       "Cash loans         0.447579\n",
       "Consumer loans     0.436561\n",
       "Revolving loans    0.115652\n",
       "XNA                0.000207\n",
       "Name: NAME_CONTRACT_TYPE, dtype: float64"
      ]
     },
     "execution_count": 30,
     "metadata": {},
     "output_type": "execute_result"
    }
   ],
   "source": [
    "#Lets do a univariate analysis on our target column NAME_CONTRACT_TYPE\n",
    "df0.NAME_CONTRACT_TYPE.value_counts(normalize=True)"
   ]
  },
  {
   "cell_type": "code",
   "execution_count": 34,
   "id": "6387430f",
   "metadata": {},
   "outputs": [
    {
     "data": {
      "image/png": "[encoded data removed]",
      "text/plain": [
       "<Figure size 432x288 with 1 Axes>"
      ]
     },
     "metadata": {
      "needs_background": "light"
     },
     "output_type": "display_data"
    }
   ],
   "source": [
    "df0.NAME_CONTRACT_TYPE.value_counts(normalize=True).plot.barh()\n",
    "plt.show()"
   ]
  },
  {
   "cell_type": "markdown",
   "id": "5e07ce0a",
   "metadata": {},
   "source": [
    "- Cash loan applicants are the highest and consumer loan applicants are also not far behind."
   ]
  },
  {
   "cell_type": "code",
   "execution_count": 36,
   "id": "f2c50b61",
   "metadata": {},
   "outputs": [
    {
     "data": {
      "text/plain": [
       "Approved        0.620747\n",
       "Canceled        0.189388\n",
       "Refused         0.174036\n",
       "Unused offer    0.015828\n",
       "Name: NAME_CONTRACT_STATUS, dtype: float64"
      ]
     },
     "execution_count": 36,
     "metadata": {},
     "output_type": "execute_result"
    }
   ],
   "source": [
    "#Lets do a univariate analysis on the column NAME_CONTRACT_STATUS\n",
    "df0.NAME_CONTRACT_STATUS.value_counts(normalize=True)"
   ]
  },
  {
   "cell_type": "code",
   "execution_count": 37,
   "id": "1568f4bd",
   "metadata": {},
   "outputs": [
    {
     "data": {
      "image/png": "[encoded data removed]",
      "text/plain": [
       "<Figure size 432x288 with 1 Axes>"
      ]
     },
     "metadata": {
      "needs_background": "light"
     },
     "output_type": "display_data"
    }
   ],
   "source": [
    "df0.NAME_CONTRACT_STATUS.value_counts(normalize=True).plot.bar()\n",
    "plt.show()"
   ]
  },
  {
   "cell_type": "markdown",
   "id": "ae87ad4f",
   "metadata": {},
   "source": [
    "- Almost 62% of the application shows approved amongst the applicants.\n",
    "- Cancelled and refused applications percentage looks almost similar.  "
   ]
  },
  {
   "cell_type": "code",
   "execution_count": 43,
   "id": "87f3d75d",
   "metadata": {},
   "outputs": [
    {
     "data": {
      "text/plain": [
       "Repeater     0.737188\n",
       "New          0.180434\n",
       "Refreshed    0.081217\n",
       "XNA          0.001162\n",
       "Name: NAME_CLIENT_TYPE, dtype: float64"
      ]
     },
     "execution_count": 43,
     "metadata": {},
     "output_type": "execute_result"
    }
   ],
   "source": [
    "#Lets do a univariate analysis on the column NAME_CLIENT_TYPE\n",
    "df0.NAME_CLIENT_TYPE.value_counts(normalize=True)"
   ]
  },
  {
   "cell_type": "code",
   "execution_count": 44,
   "id": "d298dd78",
   "metadata": {},
   "outputs": [
    {
     "data": {
      "image/png": "[encoded data removed]",
      "text/plain": [
       "<Figure size 432x288 with 1 Axes>"
      ]
     },
     "metadata": {
      "needs_background": "light"
     },
     "output_type": "display_data"
    }
   ],
   "source": [
    "df0.NAME_CLIENT_TYPE.value_counts(normalize=True).plot.bar()\n",
    "plt.show()"
   ]
  },
  {
   "cell_type": "markdown",
   "id": "93d38e3d",
   "metadata": {},
   "source": [
    "- Here almost 75% of the old clients seems to submit the appication again."
   ]
  },
  {
   "cell_type": "markdown",
   "id": "2adcc2a6",
   "metadata": {},
   "source": [
    "Lets do a univariate analysis on some numerical columns.\n"
   ]
  },
  {
   "cell_type": "code",
   "execution_count": 45,
   "id": "6be086ce",
   "metadata": {},
   "outputs": [
    {
     "data": {
      "text/plain": [
       "count    1.670213e+06\n",
       "mean     1.961140e+05\n",
       "std      3.185746e+05\n",
       "min      0.000000e+00\n",
       "25%      2.416050e+04\n",
       "50%      8.054100e+04\n",
       "75%      2.164185e+05\n",
       "max      6.905160e+06\n",
       "Name: AMT_CREDIT, dtype: float64"
      ]
     },
     "execution_count": 45,
     "metadata": {},
     "output_type": "execute_result"
    }
   ],
   "source": [
    "#Lets do a univariate analysis on the column AMT_CREDIT.\n",
    "df0.AMT_CREDIT.describe()"
   ]
  },
  {
   "cell_type": "code",
   "execution_count": 46,
   "id": "74782f28",
   "metadata": {},
   "outputs": [],
   "source": [
    "#Just to avoid the repercussions if there is any negative values entered by mistake.\n",
    "df0.AMT_CREDIT= df0.AMT_CREDIT.abs()"
   ]
  },
  {
   "cell_type": "code",
   "execution_count": 54,
   "id": "9d01b84e",
   "metadata": {},
   "outputs": [
    {
     "data": {
      "image/png": "[encoded data removed]",
      "text/plain": [
       "<Figure size 1080x216 with 1 Axes>"
      ]
     },
     "metadata": {
      "needs_background": "light"
     },
     "output_type": "display_data"
    }
   ],
   "source": [
    "plt.figure(figsize=[15,3])\n",
    "sns.boxplot(df0.AMT_CREDIT)\n",
    "plt.show()"
   ]
  },
  {
   "cell_type": "code",
   "execution_count": 55,
   "id": "7173af9a",
   "metadata": {},
   "outputs": [
    {
     "data": {
      "image/png": "[encoded data removed]",
      "text/plain": [
       "<Figure size 1080x216 with 1 Axes>"
      ]
     },
     "metadata": {
      "needs_background": "light"
     },
     "output_type": "display_data"
    }
   ],
   "source": [
    "#taking quantile till 0.8 to generate a clear and more meaningful insight.\n",
    "plt.figure(figsize=[15,3])\n",
    "sns.boxplot(df0.AMT_CREDIT.quantile([0.1, 0.2, 0.3, 0.4, 0.5, 0.6, 0.7, 0.8]))\n",
    "plt.show()"
   ]
  },
  {
   "cell_type": "markdown",
   "id": "4713d9c8",
   "metadata": {},
   "source": [
    "- Almost 80% of the people are within the range of 2.75L loan amount.\n",
    "- Among these 80% of the population, 50% of the people lie within the range of 25k to 1.25L loan amount."
   ]
  },
  {
   "cell_type": "code",
   "execution_count": 57,
   "id": "f71aa234",
   "metadata": {},
   "outputs": [
    {
     "data": {
      "text/plain": [
       "count    1.670214e+06\n",
       "mean     1.752339e+05\n",
       "std      2.927798e+05\n",
       "min      0.000000e+00\n",
       "25%      1.872000e+04\n",
       "50%      7.104600e+04\n",
       "75%      1.803600e+05\n",
       "max      6.905160e+06\n",
       "Name: AMT_APPLICATION, dtype: float64"
      ]
     },
     "execution_count": 57,
     "metadata": {},
     "output_type": "execute_result"
    }
   ],
   "source": [
    "#Lets do a univariate analysis on the column AMT_APPLICATION.\n",
    "df0.AMT_APPLICATION.describe()"
   ]
  },
  {
   "cell_type": "code",
   "execution_count": 58,
   "id": "c675921f",
   "metadata": {},
   "outputs": [],
   "source": [
    "#Just to avoid the repercussions if there is any negative values entered by mistake.\n",
    "df0.AMT_APPLICATION= df0.AMT_APPLICATION.abs()"
   ]
  },
  {
   "cell_type": "code",
   "execution_count": 59,
   "id": "395a6926",
   "metadata": {},
   "outputs": [
    {
     "data": {
      "image/png": "[encoded data removed]",
      "text/plain": [
       "<Figure size 1080x216 with 1 Axes>"
      ]
     },
     "metadata": {
      "needs_background": "light"
     },
     "output_type": "display_data"
    }
   ],
   "source": [
    "plt.figure(figsize=[15,3])\n",
    "sns.boxplot(df0.AMT_APPLICATION)\n",
    "plt.show()"
   ]
  },
  {
   "cell_type": "code",
   "execution_count": 60,
   "id": "0130edee",
   "metadata": {},
   "outputs": [
    {
     "data": {
      "image/png": "[encoded data removed]",
      "text/plain": [
       "<Figure size 1080x216 with 1 Axes>"
      ]
     },
     "metadata": {
      "needs_background": "light"
     },
     "output_type": "display_data"
    }
   ],
   "source": [
    "#taking quantile till 0.8 to generate a clear and more meaningful insight.\n",
    "plt.figure(figsize=[15,3])\n",
    "sns.boxplot(df0.AMT_APPLICATION.quantile([0.1, 0.2, 0.3, 0.4, 0.5, 0.6, 0.7, 0.8]))\n",
    "plt.show()"
   ]
  },
  {
   "cell_type": "markdown",
   "id": "c6055b66",
   "metadata": {},
   "source": [
    "- Almost 80% of the people have requested for a loan amount lesser than 2.5L.\n",
    "- Among these 80% of the population, 50% of the people are those who requested for a loan amount within the range of 25k to 1.20L."
   ]
  },
  {
   "cell_type": "markdown",
   "id": "c0e7c89a",
   "metadata": {},
   "source": [
    "Here on, I will do some of the bivariate analysis based on our target column i.e. NAME_CONTRACT_TYPE and analyse the results on the basis of some plots."
   ]
  },
  {
   "cell_type": "code",
   "execution_count": 64,
   "id": "0d1fe7fe",
   "metadata": {},
   "outputs": [
    {
     "data": {
      "image/png": "[encoded data removed]",
      "text/plain": [
       "<Figure size 432x288 with 1 Axes>"
      ]
     },
     "metadata": {
      "needs_background": "light"
     },
     "output_type": "display_data"
    }
   ],
   "source": [
    "# lets plot a barplot between NAME_CONTRACT_TYPE and AMT_CREDIT.\n",
    "df0.groupby('NAME_CONTRACT_TYPE')['AMT_CREDIT'].median().plot.bar()\n",
    "plt.show()"
   ]
  },
  {
   "cell_type": "markdown",
   "id": "fbcb7fb7",
   "metadata": {},
   "source": [
    "- It reflects, one who has taken cash loans have often been credited with a significantly higher loan amount."
   ]
  },
  {
   "cell_type": "code",
   "execution_count": 65,
   "id": "fa28c433",
   "metadata": {},
   "outputs": [
    {
     "data": {
      "image/png": "[encoded data removed]",
      "text/plain": [
       "<Figure size 432x288 with 1 Axes>"
      ]
     },
     "metadata": {
      "needs_background": "light"
     },
     "output_type": "display_data"
    }
   ],
   "source": [
    "# lets plot a barplot between NAME_CONTRACT_TYPE and AMT_APPLICATION.\n",
    "df0.groupby('NAME_CONTRACT_TYPE')['AMT_APPLICATION'].median().plot.bar()\n",
    "plt.show()"
   ]
  },
  {
   "cell_type": "markdown",
   "id": "8d603038",
   "metadata": {},
   "source": [
    "- Again, people requesting cash loans tend to request for a significantly higher amount.\n",
    "- Negligible requests are made for revolving loans."
   ]
  },
  {
   "cell_type": "code",
   "execution_count": 88,
   "id": "77b6fb7c",
   "metadata": {},
   "outputs": [
    {
     "data": {
      "image/png": "[encoded data removed]",
      "text/plain": [
       "<Figure size 432x288 with 1 Axes>"
      ]
     },
     "metadata": {
      "needs_background": "light"
     },
     "output_type": "display_data"
    }
   ],
   "source": [
    "#Lets plot a box plot of  NAME_CONTRACT_TYPE w.r.t. to AMT_ANNUITY.\n",
    "#Just to avoid the repercussions if there is any negative values entered by mistake.\n",
    "df0.AMT_ANNUITY= df0.AMT_ANNUITY.abs()\n",
    "sns.boxplot(data= df0, x= 'NAME_CONTRACT_TYPE', y= 'AMT_ANNUITY')\n",
    "plt.show()"
   ]
  },
  {
   "cell_type": "markdown",
   "id": "ab3eaaec",
   "metadata": {},
   "source": [
    "- Again as expected, we can conclude that annuity for cash loan seems to be on significantly higher side."
   ]
  },
  {
   "cell_type": "markdown",
   "id": "ff5b14c2",
   "metadata": {},
   "source": [
    "### We will now merge both the table doing inner join based on the column SK_ID_CURR and try to figure out the insights based on original target column i.e. TARGET column from the table application_data.csv."
   ]
  },
  {
   "cell_type": "code",
   "execution_count": 90,
   "id": "402bf9be",
   "metadata": {},
   "outputs": [
    {
     "data": {
      "text/html": [
       "<div>\n",
       "<style scoped>\n",
       "    .dataframe tbody tr th:only-of-type {\n",
       "        vertical-align: middle;\n",
       "    }\n",
       "\n",
       "    .dataframe tbody tr th {\n",
       "        vertical-align: top;\n",
       "    }\n",
       "\n",
       "    .dataframe thead th {\n",
       "        text-align: right;\n",
       "    }\n",
       "</style>\n",
       "<table border=\"1\" class=\"dataframe\">\n",
       "  <thead>\n",
       "    <tr style=\"text-align: right;\">\n",
       "      <th></th>\n",
       "      <th>SK_ID_CURR</th>\n",
       "      <th>TARGET</th>\n",
       "      <th>NAME_CONTRACT_TYPE_x</th>\n",
       "      <th>CODE_GENDER</th>\n",
       "      <th>FLAG_OWN_CAR</th>\n",
       "      <th>FLAG_OWN_REALTY</th>\n",
       "      <th>CNT_CHILDREN</th>\n",
       "      <th>AMT_INCOME_TOTAL</th>\n",
       "      <th>AMT_CREDIT_x</th>\n",
       "      <th>AMT_ANNUITY_x</th>\n",
       "      <th>AMT_GOODS_PRICE_x</th>\n",
       "      <th>NAME_TYPE_SUITE</th>\n",
       "      <th>NAME_INCOME_TYPE</th>\n",
       "      <th>NAME_EDUCATION_TYPE</th>\n",
       "      <th>NAME_FAMILY_STATUS</th>\n",
       "      <th>NAME_HOUSING_TYPE</th>\n",
       "      <th>REGION_POPULATION_RELATIVE</th>\n",
       "      <th>DAYS_BIRTH</th>\n",
       "      <th>DAYS_EMPLOYED</th>\n",
       "      <th>DAYS_REGISTRATION</th>\n",
       "      <th>DAYS_ID_PUBLISH</th>\n",
       "      <th>FLAG_MOBIL</th>\n",
       "      <th>FLAG_EMP_PHONE</th>\n",
       "      <th>FLAG_WORK_PHONE</th>\n",
       "      <th>FLAG_CONT_MOBILE</th>\n",
       "      <th>FLAG_PHONE</th>\n",
       "      <th>FLAG_EMAIL</th>\n",
       "      <th>OCCUPATION_TYPE</th>\n",
       "      <th>CNT_FAM_MEMBERS</th>\n",
       "      <th>REGION_RATING_CLIENT</th>\n",
       "      <th>REGION_RATING_CLIENT_W_CITY</th>\n",
       "      <th>WEEKDAY_APPR_PROCESS_START_x</th>\n",
       "      <th>HOUR_APPR_PROCESS_START_x</th>\n",
       "      <th>REG_REGION_NOT_LIVE_REGION</th>\n",
       "      <th>REG_REGION_NOT_WORK_REGION</th>\n",
       "      <th>LIVE_REGION_NOT_WORK_REGION</th>\n",
       "      <th>REG_CITY_NOT_LIVE_CITY</th>\n",
       "      <th>REG_CITY_NOT_WORK_CITY</th>\n",
       "      <th>LIVE_CITY_NOT_WORK_CITY</th>\n",
       "      <th>ORGANIZATION_TYPE</th>\n",
       "      <th>EXT_SOURCE_2</th>\n",
       "      <th>EXT_SOURCE_3</th>\n",
       "      <th>OBS_30_CNT_SOCIAL_CIRCLE</th>\n",
       "      <th>DEF_30_CNT_SOCIAL_CIRCLE</th>\n",
       "      <th>OBS_60_CNT_SOCIAL_CIRCLE</th>\n",
       "      <th>DEF_60_CNT_SOCIAL_CIRCLE</th>\n",
       "      <th>DAYS_LAST_PHONE_CHANGE</th>\n",
       "      <th>FLAG_DOCUMENT_2</th>\n",
       "      <th>FLAG_DOCUMENT_3</th>\n",
       "      <th>FLAG_DOCUMENT_4</th>\n",
       "      <th>FLAG_DOCUMENT_5</th>\n",
       "      <th>FLAG_DOCUMENT_6</th>\n",
       "      <th>FLAG_DOCUMENT_7</th>\n",
       "      <th>FLAG_DOCUMENT_8</th>\n",
       "      <th>FLAG_DOCUMENT_9</th>\n",
       "      <th>FLAG_DOCUMENT_10</th>\n",
       "      <th>FLAG_DOCUMENT_11</th>\n",
       "      <th>FLAG_DOCUMENT_12</th>\n",
       "      <th>FLAG_DOCUMENT_13</th>\n",
       "      <th>FLAG_DOCUMENT_14</th>\n",
       "      <th>FLAG_DOCUMENT_15</th>\n",
       "      <th>FLAG_DOCUMENT_16</th>\n",
       "      <th>FLAG_DOCUMENT_17</th>\n",
       "      <th>FLAG_DOCUMENT_18</th>\n",
       "      <th>FLAG_DOCUMENT_19</th>\n",
       "      <th>FLAG_DOCUMENT_20</th>\n",
       "      <th>FLAG_DOCUMENT_21</th>\n",
       "      <th>AMT_REQ_CREDIT_BUREAU_HOUR</th>\n",
       "      <th>AMT_REQ_CREDIT_BUREAU_DAY</th>\n",
       "      <th>AMT_REQ_CREDIT_BUREAU_WEEK</th>\n",
       "      <th>AMT_REQ_CREDIT_BUREAU_MON</th>\n",
       "      <th>AMT_REQ_CREDIT_BUREAU_QRT</th>\n",
       "      <th>AMT_REQ_CREDIT_BUREAU_YEAR</th>\n",
       "      <th>age_group</th>\n",
       "      <th>SK_ID_PREV</th>\n",
       "      <th>NAME_CONTRACT_TYPE_y</th>\n",
       "      <th>AMT_ANNUITY_y</th>\n",
       "      <th>AMT_APPLICATION</th>\n",
       "      <th>AMT_CREDIT_y</th>\n",
       "      <th>AMT_GOODS_PRICE_y</th>\n",
       "      <th>WEEKDAY_APPR_PROCESS_START_y</th>\n",
       "      <th>HOUR_APPR_PROCESS_START_y</th>\n",
       "      <th>FLAG_LAST_APPL_PER_CONTRACT</th>\n",
       "      <th>NFLAG_LAST_APPL_IN_DAY</th>\n",
       "      <th>NAME_CASH_LOAN_PURPOSE</th>\n",
       "      <th>NAME_CONTRACT_STATUS</th>\n",
       "      <th>DAYS_DECISION</th>\n",
       "      <th>NAME_PAYMENT_TYPE</th>\n",
       "      <th>CODE_REJECT_REASON</th>\n",
       "      <th>NAME_CLIENT_TYPE</th>\n",
       "      <th>NAME_GOODS_CATEGORY</th>\n",
       "      <th>NAME_PORTFOLIO</th>\n",
       "      <th>NAME_PRODUCT_TYPE</th>\n",
       "      <th>CHANNEL_TYPE</th>\n",
       "      <th>SELLERPLACE_AREA</th>\n",
       "      <th>NAME_SELLER_INDUSTRY</th>\n",
       "      <th>CNT_PAYMENT</th>\n",
       "      <th>NAME_YIELD_GROUP</th>\n",
       "      <th>PRODUCT_COMBINATION</th>\n",
       "      <th>_merge</th>\n",
       "    </tr>\n",
       "  </thead>\n",
       "  <tbody>\n",
       "    <tr>\n",
       "      <th>0</th>\n",
       "      <td>100002</td>\n",
       "      <td>1</td>\n",
       "      <td>Cash loans</td>\n",
       "      <td>M</td>\n",
       "      <td>N</td>\n",
       "      <td>Y</td>\n",
       "      <td>0</td>\n",
       "      <td>202500</td>\n",
       "      <td>406597.5</td>\n",
       "      <td>24700.5</td>\n",
       "      <td>351000.0</td>\n",
       "      <td>Unaccompanied</td>\n",
       "      <td>Working</td>\n",
       "      <td>Secondary / secondary special</td>\n",
       "      <td>Single / not married</td>\n",
       "      <td>House / apartment</td>\n",
       "      <td>0.018801</td>\n",
       "      <td>25</td>\n",
       "      <td>1.745205</td>\n",
       "      <td>9.994521</td>\n",
       "      <td>5.808219</td>\n",
       "      <td>1</td>\n",
       "      <td>1</td>\n",
       "      <td>0</td>\n",
       "      <td>1</td>\n",
       "      <td>1</td>\n",
       "      <td>0</td>\n",
       "      <td>Laborers</td>\n",
       "      <td>1.0</td>\n",
       "      <td>2</td>\n",
       "      <td>2</td>\n",
       "      <td>WEDNESDAY</td>\n",
       "      <td>10</td>\n",
       "      <td>0</td>\n",
       "      <td>0</td>\n",
       "      <td>0</td>\n",
       "      <td>0</td>\n",
       "      <td>0</td>\n",
       "      <td>0</td>\n",
       "      <td>Business Entity Type 3</td>\n",
       "      <td>0.262949</td>\n",
       "      <td>0.139376</td>\n",
       "      <td>2.0</td>\n",
       "      <td>2.0</td>\n",
       "      <td>2.0</td>\n",
       "      <td>2.0</td>\n",
       "      <td>-1134.0</td>\n",
       "      <td>0</td>\n",
       "      <td>1</td>\n",
       "      <td>0</td>\n",
       "      <td>0</td>\n",
       "      <td>0</td>\n",
       "      <td>0</td>\n",
       "      <td>0</td>\n",
       "      <td>0</td>\n",
       "      <td>0</td>\n",
       "      <td>0</td>\n",
       "      <td>0</td>\n",
       "      <td>0</td>\n",
       "      <td>0</td>\n",
       "      <td>0</td>\n",
       "      <td>0</td>\n",
       "      <td>0</td>\n",
       "      <td>0</td>\n",
       "      <td>0</td>\n",
       "      <td>0</td>\n",
       "      <td>0</td>\n",
       "      <td>0.0</td>\n",
       "      <td>0.0</td>\n",
       "      <td>0.0</td>\n",
       "      <td>0.0</td>\n",
       "      <td>0.0</td>\n",
       "      <td>1.0</td>\n",
       "      <td>&lt;30</td>\n",
       "      <td>1038818</td>\n",
       "      <td>Consumer loans</td>\n",
       "      <td>9251.775</td>\n",
       "      <td>179055.0</td>\n",
       "      <td>179055.0</td>\n",
       "      <td>179055.0</td>\n",
       "      <td>SATURDAY</td>\n",
       "      <td>9</td>\n",
       "      <td>Y</td>\n",
       "      <td>1</td>\n",
       "      <td>XAP</td>\n",
       "      <td>Approved</td>\n",
       "      <td>-606</td>\n",
       "      <td>XNA</td>\n",
       "      <td>XAP</td>\n",
       "      <td>New</td>\n",
       "      <td>Vehicles</td>\n",
       "      <td>POS</td>\n",
       "      <td>XNA</td>\n",
       "      <td>Stone</td>\n",
       "      <td>500</td>\n",
       "      <td>Auto technology</td>\n",
       "      <td>24.0</td>\n",
       "      <td>low_normal</td>\n",
       "      <td>POS other with interest</td>\n",
       "      <td>both</td>\n",
       "    </tr>\n",
       "    <tr>\n",
       "      <th>1</th>\n",
       "      <td>100003</td>\n",
       "      <td>0</td>\n",
       "      <td>Cash loans</td>\n",
       "      <td>F</td>\n",
       "      <td>N</td>\n",
       "      <td>N</td>\n",
       "      <td>0</td>\n",
       "      <td>270000</td>\n",
       "      <td>1293502.5</td>\n",
       "      <td>35698.5</td>\n",
       "      <td>1129500.0</td>\n",
       "      <td>Family</td>\n",
       "      <td>State servant</td>\n",
       "      <td>Higher education</td>\n",
       "      <td>Married</td>\n",
       "      <td>House / apartment</td>\n",
       "      <td>0.003541</td>\n",
       "      <td>45</td>\n",
       "      <td>3.254795</td>\n",
       "      <td>3.249315</td>\n",
       "      <td>0.797260</td>\n",
       "      <td>1</td>\n",
       "      <td>1</td>\n",
       "      <td>0</td>\n",
       "      <td>1</td>\n",
       "      <td>1</td>\n",
       "      <td>0</td>\n",
       "      <td>Core staff</td>\n",
       "      <td>2.0</td>\n",
       "      <td>1</td>\n",
       "      <td>1</td>\n",
       "      <td>MONDAY</td>\n",
       "      <td>11</td>\n",
       "      <td>0</td>\n",
       "      <td>0</td>\n",
       "      <td>0</td>\n",
       "      <td>0</td>\n",
       "      <td>0</td>\n",
       "      <td>0</td>\n",
       "      <td>School</td>\n",
       "      <td>0.622246</td>\n",
       "      <td>NaN</td>\n",
       "      <td>1.0</td>\n",
       "      <td>0.0</td>\n",
       "      <td>1.0</td>\n",
       "      <td>0.0</td>\n",
       "      <td>-828.0</td>\n",
       "      <td>0</td>\n",
       "      <td>1</td>\n",
       "      <td>0</td>\n",
       "      <td>0</td>\n",
       "      <td>0</td>\n",
       "      <td>0</td>\n",
       "      <td>0</td>\n",
       "      <td>0</td>\n",
       "      <td>0</td>\n",
       "      <td>0</td>\n",
       "      <td>0</td>\n",
       "      <td>0</td>\n",
       "      <td>0</td>\n",
       "      <td>0</td>\n",
       "      <td>0</td>\n",
       "      <td>0</td>\n",
       "      <td>0</td>\n",
       "      <td>0</td>\n",
       "      <td>0</td>\n",
       "      <td>0</td>\n",
       "      <td>0.0</td>\n",
       "      <td>0.0</td>\n",
       "      <td>0.0</td>\n",
       "      <td>0.0</td>\n",
       "      <td>0.0</td>\n",
       "      <td>0.0</td>\n",
       "      <td>40-50</td>\n",
       "      <td>1810518</td>\n",
       "      <td>Cash loans</td>\n",
       "      <td>98356.995</td>\n",
       "      <td>900000.0</td>\n",
       "      <td>1035882.0</td>\n",
       "      <td>900000.0</td>\n",
       "      <td>FRIDAY</td>\n",
       "      <td>12</td>\n",
       "      <td>Y</td>\n",
       "      <td>1</td>\n",
       "      <td>XNA</td>\n",
       "      <td>Approved</td>\n",
       "      <td>-746</td>\n",
       "      <td>XNA</td>\n",
       "      <td>XAP</td>\n",
       "      <td>Repeater</td>\n",
       "      <td>XNA</td>\n",
       "      <td>Cash</td>\n",
       "      <td>x-sell</td>\n",
       "      <td>Credit and cash offices</td>\n",
       "      <td>-1</td>\n",
       "      <td>XNA</td>\n",
       "      <td>12.0</td>\n",
       "      <td>low_normal</td>\n",
       "      <td>Cash X-Sell: low</td>\n",
       "      <td>both</td>\n",
       "    </tr>\n",
       "    <tr>\n",
       "      <th>2</th>\n",
       "      <td>100003</td>\n",
       "      <td>0</td>\n",
       "      <td>Cash loans</td>\n",
       "      <td>F</td>\n",
       "      <td>N</td>\n",
       "      <td>N</td>\n",
       "      <td>0</td>\n",
       "      <td>270000</td>\n",
       "      <td>1293502.5</td>\n",
       "      <td>35698.5</td>\n",
       "      <td>1129500.0</td>\n",
       "      <td>Family</td>\n",
       "      <td>State servant</td>\n",
       "      <td>Higher education</td>\n",
       "      <td>Married</td>\n",
       "      <td>House / apartment</td>\n",
       "      <td>0.003541</td>\n",
       "      <td>45</td>\n",
       "      <td>3.254795</td>\n",
       "      <td>3.249315</td>\n",
       "      <td>0.797260</td>\n",
       "      <td>1</td>\n",
       "      <td>1</td>\n",
       "      <td>0</td>\n",
       "      <td>1</td>\n",
       "      <td>1</td>\n",
       "      <td>0</td>\n",
       "      <td>Core staff</td>\n",
       "      <td>2.0</td>\n",
       "      <td>1</td>\n",
       "      <td>1</td>\n",
       "      <td>MONDAY</td>\n",
       "      <td>11</td>\n",
       "      <td>0</td>\n",
       "      <td>0</td>\n",
       "      <td>0</td>\n",
       "      <td>0</td>\n",
       "      <td>0</td>\n",
       "      <td>0</td>\n",
       "      <td>School</td>\n",
       "      <td>0.622246</td>\n",
       "      <td>NaN</td>\n",
       "      <td>1.0</td>\n",
       "      <td>0.0</td>\n",
       "      <td>1.0</td>\n",
       "      <td>0.0</td>\n",
       "      <td>-828.0</td>\n",
       "      <td>0</td>\n",
       "      <td>1</td>\n",
       "      <td>0</td>\n",
       "      <td>0</td>\n",
       "      <td>0</td>\n",
       "      <td>0</td>\n",
       "      <td>0</td>\n",
       "      <td>0</td>\n",
       "      <td>0</td>\n",
       "      <td>0</td>\n",
       "      <td>0</td>\n",
       "      <td>0</td>\n",
       "      <td>0</td>\n",
       "      <td>0</td>\n",
       "      <td>0</td>\n",
       "      <td>0</td>\n",
       "      <td>0</td>\n",
       "      <td>0</td>\n",
       "      <td>0</td>\n",
       "      <td>0</td>\n",
       "      <td>0.0</td>\n",
       "      <td>0.0</td>\n",
       "      <td>0.0</td>\n",
       "      <td>0.0</td>\n",
       "      <td>0.0</td>\n",
       "      <td>0.0</td>\n",
       "      <td>40-50</td>\n",
       "      <td>2636178</td>\n",
       "      <td>Consumer loans</td>\n",
       "      <td>64567.665</td>\n",
       "      <td>337500.0</td>\n",
       "      <td>348637.5</td>\n",
       "      <td>337500.0</td>\n",
       "      <td>SUNDAY</td>\n",
       "      <td>17</td>\n",
       "      <td>Y</td>\n",
       "      <td>1</td>\n",
       "      <td>XAP</td>\n",
       "      <td>Approved</td>\n",
       "      <td>-828</td>\n",
       "      <td>Cash through the bank</td>\n",
       "      <td>XAP</td>\n",
       "      <td>Refreshed</td>\n",
       "      <td>Furniture</td>\n",
       "      <td>POS</td>\n",
       "      <td>XNA</td>\n",
       "      <td>Stone</td>\n",
       "      <td>1400</td>\n",
       "      <td>Furniture</td>\n",
       "      <td>6.0</td>\n",
       "      <td>middle</td>\n",
       "      <td>POS industry with interest</td>\n",
       "      <td>both</td>\n",
       "    </tr>\n",
       "    <tr>\n",
       "      <th>3</th>\n",
       "      <td>100003</td>\n",
       "      <td>0</td>\n",
       "      <td>Cash loans</td>\n",
       "      <td>F</td>\n",
       "      <td>N</td>\n",
       "      <td>N</td>\n",
       "      <td>0</td>\n",
       "      <td>270000</td>\n",
       "      <td>1293502.5</td>\n",
       "      <td>35698.5</td>\n",
       "      <td>1129500.0</td>\n",
       "      <td>Family</td>\n",
       "      <td>State servant</td>\n",
       "      <td>Higher education</td>\n",
       "      <td>Married</td>\n",
       "      <td>House / apartment</td>\n",
       "      <td>0.003541</td>\n",
       "      <td>45</td>\n",
       "      <td>3.254795</td>\n",
       "      <td>3.249315</td>\n",
       "      <td>0.797260</td>\n",
       "      <td>1</td>\n",
       "      <td>1</td>\n",
       "      <td>0</td>\n",
       "      <td>1</td>\n",
       "      <td>1</td>\n",
       "      <td>0</td>\n",
       "      <td>Core staff</td>\n",
       "      <td>2.0</td>\n",
       "      <td>1</td>\n",
       "      <td>1</td>\n",
       "      <td>MONDAY</td>\n",
       "      <td>11</td>\n",
       "      <td>0</td>\n",
       "      <td>0</td>\n",
       "      <td>0</td>\n",
       "      <td>0</td>\n",
       "      <td>0</td>\n",
       "      <td>0</td>\n",
       "      <td>School</td>\n",
       "      <td>0.622246</td>\n",
       "      <td>NaN</td>\n",
       "      <td>1.0</td>\n",
       "      <td>0.0</td>\n",
       "      <td>1.0</td>\n",
       "      <td>0.0</td>\n",
       "      <td>-828.0</td>\n",
       "      <td>0</td>\n",
       "      <td>1</td>\n",
       "      <td>0</td>\n",
       "      <td>0</td>\n",
       "      <td>0</td>\n",
       "      <td>0</td>\n",
       "      <td>0</td>\n",
       "      <td>0</td>\n",
       "      <td>0</td>\n",
       "      <td>0</td>\n",
       "      <td>0</td>\n",
       "      <td>0</td>\n",
       "      <td>0</td>\n",
       "      <td>0</td>\n",
       "      <td>0</td>\n",
       "      <td>0</td>\n",
       "      <td>0</td>\n",
       "      <td>0</td>\n",
       "      <td>0</td>\n",
       "      <td>0</td>\n",
       "      <td>0.0</td>\n",
       "      <td>0.0</td>\n",
       "      <td>0.0</td>\n",
       "      <td>0.0</td>\n",
       "      <td>0.0</td>\n",
       "      <td>0.0</td>\n",
       "      <td>40-50</td>\n",
       "      <td>2396755</td>\n",
       "      <td>Consumer loans</td>\n",
       "      <td>6737.310</td>\n",
       "      <td>68809.5</td>\n",
       "      <td>68053.5</td>\n",
       "      <td>68809.5</td>\n",
       "      <td>SATURDAY</td>\n",
       "      <td>15</td>\n",
       "      <td>Y</td>\n",
       "      <td>1</td>\n",
       "      <td>XAP</td>\n",
       "      <td>Approved</td>\n",
       "      <td>-2341</td>\n",
       "      <td>Cash through the bank</td>\n",
       "      <td>XAP</td>\n",
       "      <td>Refreshed</td>\n",
       "      <td>Consumer Electronics</td>\n",
       "      <td>POS</td>\n",
       "      <td>XNA</td>\n",
       "      <td>Country-wide</td>\n",
       "      <td>200</td>\n",
       "      <td>Consumer electronics</td>\n",
       "      <td>12.0</td>\n",
       "      <td>middle</td>\n",
       "      <td>POS household with interest</td>\n",
       "      <td>both</td>\n",
       "    </tr>\n",
       "    <tr>\n",
       "      <th>4</th>\n",
       "      <td>100004</td>\n",
       "      <td>0</td>\n",
       "      <td>Revolving loans</td>\n",
       "      <td>M</td>\n",
       "      <td>Y</td>\n",
       "      <td>Y</td>\n",
       "      <td>0</td>\n",
       "      <td>67500</td>\n",
       "      <td>135000.0</td>\n",
       "      <td>6750.0</td>\n",
       "      <td>135000.0</td>\n",
       "      <td>Unaccompanied</td>\n",
       "      <td>Working</td>\n",
       "      <td>Secondary / secondary special</td>\n",
       "      <td>Single / not married</td>\n",
       "      <td>House / apartment</td>\n",
       "      <td>0.010032</td>\n",
       "      <td>52</td>\n",
       "      <td>0.616438</td>\n",
       "      <td>11.671233</td>\n",
       "      <td>6.934247</td>\n",
       "      <td>1</td>\n",
       "      <td>1</td>\n",
       "      <td>1</td>\n",
       "      <td>1</td>\n",
       "      <td>1</td>\n",
       "      <td>0</td>\n",
       "      <td>Laborers</td>\n",
       "      <td>1.0</td>\n",
       "      <td>2</td>\n",
       "      <td>2</td>\n",
       "      <td>MONDAY</td>\n",
       "      <td>9</td>\n",
       "      <td>0</td>\n",
       "      <td>0</td>\n",
       "      <td>0</td>\n",
       "      <td>0</td>\n",
       "      <td>0</td>\n",
       "      <td>0</td>\n",
       "      <td>Government</td>\n",
       "      <td>0.555912</td>\n",
       "      <td>0.729567</td>\n",
       "      <td>0.0</td>\n",
       "      <td>0.0</td>\n",
       "      <td>0.0</td>\n",
       "      <td>0.0</td>\n",
       "      <td>-815.0</td>\n",
       "      <td>0</td>\n",
       "      <td>0</td>\n",
       "      <td>0</td>\n",
       "      <td>0</td>\n",
       "      <td>0</td>\n",
       "      <td>0</td>\n",
       "      <td>0</td>\n",
       "      <td>0</td>\n",
       "      <td>0</td>\n",
       "      <td>0</td>\n",
       "      <td>0</td>\n",
       "      <td>0</td>\n",
       "      <td>0</td>\n",
       "      <td>0</td>\n",
       "      <td>0</td>\n",
       "      <td>0</td>\n",
       "      <td>0</td>\n",
       "      <td>0</td>\n",
       "      <td>0</td>\n",
       "      <td>0</td>\n",
       "      <td>0.0</td>\n",
       "      <td>0.0</td>\n",
       "      <td>0.0</td>\n",
       "      <td>0.0</td>\n",
       "      <td>0.0</td>\n",
       "      <td>0.0</td>\n",
       "      <td>50-60</td>\n",
       "      <td>1564014</td>\n",
       "      <td>Consumer loans</td>\n",
       "      <td>5357.250</td>\n",
       "      <td>24282.0</td>\n",
       "      <td>20106.0</td>\n",
       "      <td>24282.0</td>\n",
       "      <td>FRIDAY</td>\n",
       "      <td>5</td>\n",
       "      <td>Y</td>\n",
       "      <td>1</td>\n",
       "      <td>XAP</td>\n",
       "      <td>Approved</td>\n",
       "      <td>-815</td>\n",
       "      <td>Cash through the bank</td>\n",
       "      <td>XAP</td>\n",
       "      <td>New</td>\n",
       "      <td>Mobile</td>\n",
       "      <td>POS</td>\n",
       "      <td>XNA</td>\n",
       "      <td>Regional / Local</td>\n",
       "      <td>30</td>\n",
       "      <td>Connectivity</td>\n",
       "      <td>4.0</td>\n",
       "      <td>middle</td>\n",
       "      <td>POS mobile without interest</td>\n",
       "      <td>both</td>\n",
       "    </tr>\n",
       "  </tbody>\n",
       "</table>\n",
       "</div>"
      ],
      "text/plain": [
       "   SK_ID_CURR  TARGET NAME_CONTRACT_TYPE_x CODE_GENDER FLAG_OWN_CAR  \\\n",
       "0      100002       1           Cash loans           M            N   \n",
       "1      100003       0           Cash loans           F            N   \n",
       "2      100003       0           Cash loans           F            N   \n",
       "3      100003       0           Cash loans           F            N   \n",
       "4      100004       0      Revolving loans           M            Y   \n",
       "\n",
       "  FLAG_OWN_REALTY  CNT_CHILDREN  AMT_INCOME_TOTAL  AMT_CREDIT_x  \\\n",
       "0               Y             0            202500      406597.5   \n",
       "1               N             0            270000     1293502.5   \n",
       "2               N             0            270000     1293502.5   \n",
       "3               N             0            270000     1293502.5   \n",
       "4               Y             0             67500      135000.0   \n",
       "\n",
       "   AMT_ANNUITY_x  AMT_GOODS_PRICE_x NAME_TYPE_SUITE NAME_INCOME_TYPE  \\\n",
       "0        24700.5           351000.0   Unaccompanied          Working   \n",
       "1        35698.5          1129500.0          Family    State servant   \n",
       "2        35698.5          1129500.0          Family    State servant   \n",
       "3        35698.5          1129500.0          Family    State servant   \n",
       "4         6750.0           135000.0   Unaccompanied          Working   \n",
       "\n",
       "             NAME_EDUCATION_TYPE    NAME_FAMILY_STATUS  NAME_HOUSING_TYPE  \\\n",
       "0  Secondary / secondary special  Single / not married  House / apartment   \n",
       "1               Higher education               Married  House / apartment   \n",
       "2               Higher education               Married  House / apartment   \n",
       "3               Higher education               Married  House / apartment   \n",
       "4  Secondary / secondary special  Single / not married  House / apartment   \n",
       "\n",
       "   REGION_POPULATION_RELATIVE  DAYS_BIRTH  DAYS_EMPLOYED  DAYS_REGISTRATION  \\\n",
       "0                    0.018801          25       1.745205           9.994521   \n",
       "1                    0.003541          45       3.254795           3.249315   \n",
       "2                    0.003541          45       3.254795           3.249315   \n",
       "3                    0.003541          45       3.254795           3.249315   \n",
       "4                    0.010032          52       0.616438          11.671233   \n",
       "\n",
       "   DAYS_ID_PUBLISH  FLAG_MOBIL  FLAG_EMP_PHONE  FLAG_WORK_PHONE  \\\n",
       "0         5.808219           1               1                0   \n",
       "1         0.797260           1               1                0   \n",
       "2         0.797260           1               1                0   \n",
       "3         0.797260           1               1                0   \n",
       "4         6.934247           1               1                1   \n",
       "\n",
       "   FLAG_CONT_MOBILE  FLAG_PHONE  FLAG_EMAIL OCCUPATION_TYPE  CNT_FAM_MEMBERS  \\\n",
       "0                 1           1           0        Laborers              1.0   \n",
       "1                 1           1           0      Core staff              2.0   \n",
       "2                 1           1           0      Core staff              2.0   \n",
       "3                 1           1           0      Core staff              2.0   \n",
       "4                 1           1           0        Laborers              1.0   \n",
       "\n",
       "   REGION_RATING_CLIENT  REGION_RATING_CLIENT_W_CITY  \\\n",
       "0                     2                            2   \n",
       "1                     1                            1   \n",
       "2                     1                            1   \n",
       "3                     1                            1   \n",
       "4                     2                            2   \n",
       "\n",
       "  WEEKDAY_APPR_PROCESS_START_x  HOUR_APPR_PROCESS_START_x  \\\n",
       "0                    WEDNESDAY                         10   \n",
       "1                       MONDAY                         11   \n",
       "2                       MONDAY                         11   \n",
       "3                       MONDAY                         11   \n",
       "4                       MONDAY                          9   \n",
       "\n",
       "   REG_REGION_NOT_LIVE_REGION  REG_REGION_NOT_WORK_REGION  \\\n",
       "0                           0                           0   \n",
       "1                           0                           0   \n",
       "2                           0                           0   \n",
       "3                           0                           0   \n",
       "4                           0                           0   \n",
       "\n",
       "   LIVE_REGION_NOT_WORK_REGION  REG_CITY_NOT_LIVE_CITY  \\\n",
       "0                            0                       0   \n",
       "1                            0                       0   \n",
       "2                            0                       0   \n",
       "3                            0                       0   \n",
       "4                            0                       0   \n",
       "\n",
       "   REG_CITY_NOT_WORK_CITY  LIVE_CITY_NOT_WORK_CITY       ORGANIZATION_TYPE  \\\n",
       "0                       0                        0  Business Entity Type 3   \n",
       "1                       0                        0                  School   \n",
       "2                       0                        0                  School   \n",
       "3                       0                        0                  School   \n",
       "4                       0                        0              Government   \n",
       "\n",
       "   EXT_SOURCE_2  EXT_SOURCE_3  OBS_30_CNT_SOCIAL_CIRCLE  \\\n",
       "0      0.262949      0.139376                       2.0   \n",
       "1      0.622246           NaN                       1.0   \n",
       "2      0.622246           NaN                       1.0   \n",
       "3      0.622246           NaN                       1.0   \n",
       "4      0.555912      0.729567                       0.0   \n",
       "\n",
       "   DEF_30_CNT_SOCIAL_CIRCLE  OBS_60_CNT_SOCIAL_CIRCLE  \\\n",
       "0                       2.0                       2.0   \n",
       "1                       0.0                       1.0   \n",
       "2                       0.0                       1.0   \n",
       "3                       0.0                       1.0   \n",
       "4                       0.0                       0.0   \n",
       "\n",
       "   DEF_60_CNT_SOCIAL_CIRCLE  DAYS_LAST_PHONE_CHANGE  FLAG_DOCUMENT_2  \\\n",
       "0                       2.0                 -1134.0                0   \n",
       "1                       0.0                  -828.0                0   \n",
       "2                       0.0                  -828.0                0   \n",
       "3                       0.0                  -828.0                0   \n",
       "4                       0.0                  -815.0                0   \n",
       "\n",
       "   FLAG_DOCUMENT_3  FLAG_DOCUMENT_4  FLAG_DOCUMENT_5  FLAG_DOCUMENT_6  \\\n",
       "0                1                0                0                0   \n",
       "1                1                0                0                0   \n",
       "2                1                0                0                0   \n",
       "3                1                0                0                0   \n",
       "4                0                0                0                0   \n",
       "\n",
       "   FLAG_DOCUMENT_7  FLAG_DOCUMENT_8  FLAG_DOCUMENT_9  FLAG_DOCUMENT_10  \\\n",
       "0                0                0                0                 0   \n",
       "1                0                0                0                 0   \n",
       "2                0                0                0                 0   \n",
       "3                0                0                0                 0   \n",
       "4                0                0                0                 0   \n",
       "\n",
       "   FLAG_DOCUMENT_11  FLAG_DOCUMENT_12  FLAG_DOCUMENT_13  FLAG_DOCUMENT_14  \\\n",
       "0                 0                 0                 0                 0   \n",
       "1                 0                 0                 0                 0   \n",
       "2                 0                 0                 0                 0   \n",
       "3                 0                 0                 0                 0   \n",
       "4                 0                 0                 0                 0   \n",
       "\n",
       "   FLAG_DOCUMENT_15  FLAG_DOCUMENT_16  FLAG_DOCUMENT_17  FLAG_DOCUMENT_18  \\\n",
       "0                 0                 0                 0                 0   \n",
       "1                 0                 0                 0                 0   \n",
       "2                 0                 0                 0                 0   \n",
       "3                 0                 0                 0                 0   \n",
       "4                 0                 0                 0                 0   \n",
       "\n",
       "   FLAG_DOCUMENT_19  FLAG_DOCUMENT_20  FLAG_DOCUMENT_21  \\\n",
       "0                 0                 0                 0   \n",
       "1                 0                 0                 0   \n",
       "2                 0                 0                 0   \n",
       "3                 0                 0                 0   \n",
       "4                 0                 0                 0   \n",
       "\n",
       "   AMT_REQ_CREDIT_BUREAU_HOUR  AMT_REQ_CREDIT_BUREAU_DAY  \\\n",
       "0                         0.0                        0.0   \n",
       "1                         0.0                        0.0   \n",
       "2                         0.0                        0.0   \n",
       "3                         0.0                        0.0   \n",
       "4                         0.0                        0.0   \n",
       "\n",
       "   AMT_REQ_CREDIT_BUREAU_WEEK  AMT_REQ_CREDIT_BUREAU_MON  \\\n",
       "0                         0.0                        0.0   \n",
       "1                         0.0                        0.0   \n",
       "2                         0.0                        0.0   \n",
       "3                         0.0                        0.0   \n",
       "4                         0.0                        0.0   \n",
       "\n",
       "   AMT_REQ_CREDIT_BUREAU_QRT  AMT_REQ_CREDIT_BUREAU_YEAR age_group  \\\n",
       "0                        0.0                         1.0       <30   \n",
       "1                        0.0                         0.0     40-50   \n",
       "2                        0.0                         0.0     40-50   \n",
       "3                        0.0                         0.0     40-50   \n",
       "4                        0.0                         0.0     50-60   \n",
       "\n",
       "   SK_ID_PREV NAME_CONTRACT_TYPE_y  AMT_ANNUITY_y  AMT_APPLICATION  \\\n",
       "0     1038818       Consumer loans       9251.775         179055.0   \n",
       "1     1810518           Cash loans      98356.995         900000.0   \n",
       "2     2636178       Consumer loans      64567.665         337500.0   \n",
       "3     2396755       Consumer loans       6737.310          68809.5   \n",
       "4     1564014       Consumer loans       5357.250          24282.0   \n",
       "\n",
       "   AMT_CREDIT_y  AMT_GOODS_PRICE_y WEEKDAY_APPR_PROCESS_START_y  \\\n",
       "0      179055.0           179055.0                     SATURDAY   \n",
       "1     1035882.0           900000.0                       FRIDAY   \n",
       "2      348637.5           337500.0                       SUNDAY   \n",
       "3       68053.5            68809.5                     SATURDAY   \n",
       "4       20106.0            24282.0                       FRIDAY   \n",
       "\n",
       "   HOUR_APPR_PROCESS_START_y FLAG_LAST_APPL_PER_CONTRACT  \\\n",
       "0                          9                           Y   \n",
       "1                         12                           Y   \n",
       "2                         17                           Y   \n",
       "3                         15                           Y   \n",
       "4                          5                           Y   \n",
       "\n",
       "   NFLAG_LAST_APPL_IN_DAY NAME_CASH_LOAN_PURPOSE NAME_CONTRACT_STATUS  \\\n",
       "0                       1                    XAP             Approved   \n",
       "1                       1                    XNA             Approved   \n",
       "2                       1                    XAP             Approved   \n",
       "3                       1                    XAP             Approved   \n",
       "4                       1                    XAP             Approved   \n",
       "\n",
       "   DAYS_DECISION      NAME_PAYMENT_TYPE CODE_REJECT_REASON NAME_CLIENT_TYPE  \\\n",
       "0           -606                    XNA                XAP              New   \n",
       "1           -746                    XNA                XAP         Repeater   \n",
       "2           -828  Cash through the bank                XAP        Refreshed   \n",
       "3          -2341  Cash through the bank                XAP        Refreshed   \n",
       "4           -815  Cash through the bank                XAP              New   \n",
       "\n",
       "    NAME_GOODS_CATEGORY NAME_PORTFOLIO NAME_PRODUCT_TYPE  \\\n",
       "0              Vehicles            POS               XNA   \n",
       "1                   XNA           Cash            x-sell   \n",
       "2             Furniture            POS               XNA   \n",
       "3  Consumer Electronics            POS               XNA   \n",
       "4                Mobile            POS               XNA   \n",
       "\n",
       "              CHANNEL_TYPE  SELLERPLACE_AREA  NAME_SELLER_INDUSTRY  \\\n",
       "0                    Stone               500       Auto technology   \n",
       "1  Credit and cash offices                -1                   XNA   \n",
       "2                    Stone              1400             Furniture   \n",
       "3             Country-wide               200  Consumer electronics   \n",
       "4         Regional / Local                30          Connectivity   \n",
       "\n",
       "   CNT_PAYMENT NAME_YIELD_GROUP          PRODUCT_COMBINATION _merge  \n",
       "0         24.0       low_normal      POS other with interest   both  \n",
       "1         12.0       low_normal             Cash X-Sell: low   both  \n",
       "2          6.0           middle   POS industry with interest   both  \n",
       "3         12.0           middle  POS household with interest   both  \n",
       "4          4.0           middle  POS mobile without interest   both  "
      ]
     },
     "execution_count": 90,
     "metadata": {},
     "output_type": "execute_result"
    }
   ],
   "source": [
    "df1 = pd.merge(df, df0, on='SK_ID_CURR', how='inner', indicator=True)\n",
    "df1.head()"
   ]
  },
  {
   "cell_type": "code",
   "execution_count": 91,
   "id": "70d07402",
   "metadata": {},
   "outputs": [
    {
     "data": {
      "text/plain": [
       "(1413701, 100)"
      ]
     },
     "execution_count": 91,
     "metadata": {},
     "output_type": "execute_result"
    }
   ],
   "source": [
    "df1.shape"
   ]
  },
  {
   "cell_type": "markdown",
   "id": "c07e1b24",
   "metadata": {},
   "source": [
    "##### Lets do some bivariate analysis based on TARGET column in the dataframe df1."
   ]
  },
  {
   "cell_type": "code",
   "execution_count": 95,
   "id": "46d36b4b",
   "metadata": {},
   "outputs": [
    {
     "data": {
      "image/png": "[encoded data removed]",
      "text/plain": [
       "<Figure size 432x288 with 1 Axes>"
      ]
     },
     "metadata": {
      "needs_background": "light"
     },
     "output_type": "display_data"
    }
   ],
   "source": [
    "df1.groupby('TARGET')['AMT_CREDIT_y'].median().plot.bar()\n",
    "plt.show()"
   ]
  },
  {
   "cell_type": "code",
   "execution_count": 97,
   "id": "22fb94c7",
   "metadata": {},
   "outputs": [
    {
     "data": {
      "image/png": "[encoded data removed]",
      "text/plain": [
       "<Figure size 576x576 with 1 Axes>"
      ]
     },
     "metadata": {
      "needs_background": "light"
     },
     "output_type": "display_data"
    }
   ],
   "source": [
    "# Lets plot a box plot of AMT_CREDIT for TARGET.\n",
    "plt.figure(figsize=[8,8])\n",
    "sns.boxplot(data= df1, x= 'TARGET', y= 'AMT_CREDIT_y')\n",
    "plt.show()"
   ]
  },
  {
   "cell_type": "markdown",
   "id": "53823abf",
   "metadata": {},
   "source": [
    "- Not much of an insight to draw from a boxplot but, if we look over the barplot, we can certainly say an applicant is less likely to default in case he has applied for a credit within the highest range."
   ]
  },
  {
   "cell_type": "code",
   "execution_count": 98,
   "id": "3e4b4e26",
   "metadata": {},
   "outputs": [
    {
     "data": {
      "image/png": "[encoded data removed]",
      "text/plain": [
       "<Figure size 432x288 with 1 Axes>"
      ]
     },
     "metadata": {
      "needs_background": "light"
     },
     "output_type": "display_data"
    }
   ],
   "source": [
    "\n",
    "df1.groupby('TARGET')['AMT_APPLICATION'].median().plot.bar()\n",
    "plt.show()"
   ]
  },
  {
   "cell_type": "code",
   "execution_count": 99,
   "id": "17a93f82",
   "metadata": {},
   "outputs": [
    {
     "data": {
      "image/png": "[encoded data removed]",
      "text/plain": [
       "<Figure size 576x576 with 1 Axes>"
      ]
     },
     "metadata": {
      "needs_background": "light"
     },
     "output_type": "display_data"
    }
   ],
   "source": [
    "# Lets plot a box plot of AMT_APPLICATION for TARGET.\n",
    "plt.figure(figsize=[8,8])\n",
    "sns.boxplot(data= df1, x= 'TARGET', y= 'AMT_APPLICATION')\n",
    "plt.show()"
   ]
  },
  {
   "cell_type": "markdown",
   "id": "697a60f5",
   "metadata": {},
   "source": [
    "- Again a very similar insight for what we got for AMT_CREDIT_Y column."
   ]
  },
  {
   "cell_type": "code",
   "execution_count": 100,
   "id": "e9ce2304",
   "metadata": {},
   "outputs": [
    {
     "data": {
      "image/png": "[encoded data removed]",
      "text/plain": [
       "<Figure size 432x288 with 1 Axes>"
      ]
     },
     "metadata": {
      "needs_background": "light"
     },
     "output_type": "display_data"
    }
   ],
   "source": [
    "#Lets now plot a barplot between our TARGET column and NAME_EDUCATION_TYPE_y column to observe the trends they are following.\n",
    "pd.crosstab(index=df['TARGET'], columns=df1['NAME_CONTRACT_TYPE_y']).plot.barh()\n",
    "plt.show()"
   ]
  },
  {
   "cell_type": "code",
   "execution_count": 101,
   "id": "38230ecb",
   "metadata": {},
   "outputs": [
    {
     "data": {
      "image/png": "[encoded data removed]",
      "text/plain": [
       "<Figure size 432x288 with 1 Axes>"
      ]
     },
     "metadata": {
      "needs_background": "light"
     },
     "output_type": "display_data"
    }
   ],
   "source": [
    "#Lets now plot a barplot between our TARGET column and NAME_CONTRACT_STATUS column to observe the trends they are following.\n",
    "pd.crosstab(index=df['TARGET'], columns=df1['NAME_CONTRACT_STATUS']).plot.barh()\n",
    "plt.show()"
   ]
  },
  {
   "cell_type": "code",
   "execution_count": 102,
   "id": "a923d1c4",
   "metadata": {},
   "outputs": [
    {
     "data": {
      "image/png": "[encoded data removed]",
      "text/plain": [
       "<Figure size 432x288 with 1 Axes>"
      ]
     },
     "metadata": {
      "needs_background": "light"
     },
     "output_type": "display_data"
    }
   ],
   "source": [
    "#Lets now plot a barplot between our TARGET column and NAME_PAYMENT_TYPE column to observe the trends they are following.\n",
    "pd.crosstab(index=df['TARGET'], columns=df1['NAME_PAYMENT_TYPE']).plot.barh()\n",
    "plt.show()"
   ]
  },
  {
   "cell_type": "code",
   "execution_count": 103,
   "id": "1aebdce7",
   "metadata": {},
   "outputs": [
    {
     "data": {
      "image/png": "[encoded data removed]",
      "text/plain": [
       "<Figure size 432x288 with 1 Axes>"
      ]
     },
     "metadata": {
      "needs_background": "light"
     },
     "output_type": "display_data"
    }
   ],
   "source": [
    "#Lets now plot a barplot between our TARGET column and NAME_CLIENT_TYPE column to observe the trends they are following.\n",
    "pd.crosstab(index=df['TARGET'], columns=df1['NAME_CLIENT_TYPE']).plot.barh()\n",
    "plt.show()"
   ]
  },
  {
   "cell_type": "markdown",
   "id": "3228f18b",
   "metadata": {},
   "source": [
    "## THE END"
   ]
  },
  {
   "cell_type": "code",
   "execution_count": null,
   "id": "5531ba1c",
   "metadata": {},
   "outputs": [],
   "source": []
  }
 ],
 "metadata": {
  "kernelspec": {
   "display_name": "Python 3 (ipykernel)",
   "language": "python",
   "name": "python3"
  },
  "language_info": {
   "codemirror_mode": {
    "name": "ipython",
    "version": 3
   },
   "file_extension": ".py",
   "mimetype": "text/x-python",
   "name": "python",
   "nbconvert_exporter": "python",
   "pygments_lexer": "ipython3",
   "version": "3.9.7"
  }
 },
 "nbformat": 4,
 "nbformat_minor": 5
}
